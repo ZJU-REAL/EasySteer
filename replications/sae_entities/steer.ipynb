{
 "cells": [
  {
   "cell_type": "code",
   "execution_count": 1,
   "id": "a5ef59d9-b574-4bf3-bbbd-dcc5601d96f4",
   "metadata": {},
   "outputs": [
    {
     "name": "stdout",
     "output_type": "stream",
     "text": [
      "INFO 07-19 22:02:40 [__init__.py:244] Automatically detected platform cuda.\n",
      "INFO 07-19 22:02:55 [config.py:841] This model supports multiple tasks: {'reward', 'classify', 'embed', 'generate'}. Defaulting to 'generate'.\n",
      "INFO 07-19 22:02:55 [config.py:1472] Using max model len 8192\n",
      "WARNING 07-19 22:02:56 [cuda.py:102] To see benefits of async output processing, enable CUDA graph. Since, enforce-eager is enabled, async output processor cannot be used\n",
      "INFO 07-19 22:02:56 [llm_engine.py:232] Initializing a V0 LLM engine (v0.1.dev7499+g2a4b294) with config: model='/data/zju-46/shenyl/hf/model/google/gemma-2-9b-it/', speculative_config=None, tokenizer='/data/zju-46/shenyl/hf/model/google/gemma-2-9b-it/', skip_tokenizer_init=False, tokenizer_mode=auto, revision=None, override_neuron_config={}, tokenizer_revision=None, trust_remote_code=False, dtype=torch.bfloat16, max_seq_len=8192, download_dir=None, load_format=auto, tensor_parallel_size=1, pipeline_parallel_size=1, disable_custom_all_reduce=False, quantization=None, enforce_eager=True, kv_cache_dtype=auto,  device_config=cuda, decoding_config=DecodingConfig(backend='auto', disable_fallback=False, disable_any_whitespace=False, disable_additional_properties=False, reasoning_backend=''), observability_config=ObservabilityConfig(show_hidden_metrics_for_version=None, otlp_traces_endpoint=None, collect_detailed_traces=None), seed=None, served_model_name=/data/zju-46/shenyl/hf/model/google/gemma-2-9b-it/, num_scheduler_steps=1, multi_step_stream_outputs=True, enable_prefix_caching=None, chunked_prefill_enabled=False, use_async_output_proc=False, pooler_config=None, compilation_config={\"level\":0,\"debug_dump_path\":\"\",\"cache_dir\":\"\",\"backend\":\"\",\"custom_ops\":[],\"splitting_ops\":[],\"use_inductor\":true,\"compile_sizes\":[],\"inductor_compile_config\":{\"enable_auto_functionalized_v2\":false},\"inductor_passes\":{},\"use_cudagraph\":false,\"cudagraph_num_of_warmups\":0,\"cudagraph_capture_sizes\":[],\"cudagraph_copy_inputs\":false,\"full_cuda_graph\":false,\"max_capture_size\":0,\"local_cache_dir\":null}, use_cached_outputs=False, \n",
      "INFO 07-19 22:02:57 [cuda.py:351] Using Flash Attention backend.\n",
      "INFO 07-19 22:02:58 [parallel_state.py:1076] rank 0 in world size 1 is assigned as DP rank 0, PP rank 0, TP rank 0, EP rank 0\n",
      "INFO 07-19 22:02:58 [model_runner.py:1223] Starting to load model /data/zju-46/shenyl/hf/model/google/gemma-2-9b-it/...\n"
     ]
    },
    {
     "data": {
      "application/vnd.jupyter.widget-view+json": {
       "model_id": "41c9e84929544431ae07d887df225ba3",
       "version_major": 2,
       "version_minor": 0
      },
      "text/plain": [
       "Loading safetensors checkpoint shards:   0% Completed | 0/4 [00:00<?, ?it/s]\n"
      ]
     },
     "metadata": {},
     "output_type": "display_data"
    },
    {
     "name": "stdout",
     "output_type": "stream",
     "text": [
      "INFO 07-19 22:03:04 [default_loader.py:272] Loading weights took 5.60 seconds\n",
      "INFO 07-19 22:03:04 [model_runner.py:1255] Model loading took 17.2181 GiB and 5.850632 seconds\n",
      "INFO 07-19 22:03:09 [worker.py:295] Memory profiling takes 4.82 seconds\n",
      "INFO 07-19 22:03:09 [worker.py:295] the current vLLM instance can use total_gpu_memory (47.44GiB) x gpu_memory_utilization (0.90) = 42.69GiB\n",
      "INFO 07-19 22:03:09 [worker.py:295] model weights take 17.22GiB; non_torch_memory takes 0.06GiB; PyTorch activation peak memory takes 2.38GiB; the rest of the memory reserved for KV Cache is 23.04GiB.\n",
      "INFO 07-19 22:03:10 [executor_base.py:115] # cuda blocks: 4493, # CPU blocks: 780\n",
      "INFO 07-19 22:03:10 [executor_base.py:120] Maximum concurrency for 8192 tokens per request: 8.78x\n",
      "INFO 07-19 22:03:12 [llm_engine.py:430] init engine (profile, create kv cache, warmup model) took 8.04 seconds\n"
     ]
    }
   ],
   "source": [
    "# Import necessary libraries\n",
    "import os\n",
    "from vllm import LLM, SamplingParams\n",
    "from vllm.steer_vectors.request import SteerVectorRequest, VectorConfig\n",
    "from transformers import AutoTokenizer\n",
    "\n",
    "# Set environment variables\n",
    "os.environ[\"VLLM_USE_V1\"] = \"0\"\n",
    "os.environ[\"CUDA_VISIBLE_DEVICES\"] = \"0\"\n",
    "\n",
    "# Initialize LLM with steering vector capability\n",
    "llm = LLM(\n",
    "    model=\"/data/zju-46/shenyl/hf/model/google/gemma-2-9b-it/\",\n",
    "    enable_steer_vector=True,\n",
    "    enforce_eager=True,\n",
    "    tensor_parallel_size=1,\n",
    ")\n"
   ]
  },
  {
   "cell_type": "code",
   "execution_count": 2,
   "id": "b626a40a-c140-4f9f-84b0-69a9567755eb",
   "metadata": {},
   "outputs": [
    {
     "name": "stdout",
     "output_type": "stream",
     "text": [
      "<bos><start_of_turn>user\n",
      "When was the player LeBron James born?<end_of_turn>\n",
      "<start_of_turn>model\n",
      "\n"
     ]
    },
    {
     "data": {
      "application/vnd.jupyter.widget-view+json": {
       "model_id": "190c901c047449ebbd0b7fa521492dfd",
       "version_major": 2,
       "version_minor": 0
      },
      "text/plain": [
       "Adding requests:   0%|          | 0/1 [00:00<?, ?it/s]"
      ]
     },
     "metadata": {},
     "output_type": "display_data"
    },
    {
     "data": {
      "application/vnd.jupyter.widget-view+json": {
       "model_id": "60acebddd6814d288678c28a73529972",
       "version_major": 2,
       "version_minor": 0
      },
      "text/plain": [
       "Processed prompts:   0%| | 0/1 [00:00<?, ?it/s, est. speed input: 0.00 toks/s, "
      ]
     },
     "metadata": {},
     "output_type": "display_data"
    },
    {
     "name": "stdout",
     "output_type": "stream",
     "text": [
      "=====Baseline=====\n",
      "LeBron James was born on **December 30, 1984**. \n",
      "<end_of_turn>\n"
     ]
    }
   ],
   "source": [
    "# before steer: false\n",
    "messages = [\n",
    "    {\"role\": \"user\", \"content\": \"When was the player LeBron James born?\"},\n",
    "]\n",
    "tokenizer = AutoTokenizer.from_pretrained(\"/data/zju-46/shenyl/hf/model/google/gemma-2-9b-it/\")\n",
    "example = tokenizer.apply_chat_template(messages, tokenize=False, add_generation_prompt=True)\n",
    "print(example)\n",
    "# Generate baseline response without steering\n",
    "example_answers = llm.generate(\n",
    "    example,\n",
    "    SamplingParams(\n",
    "        temperature=0,\n",
    "        max_tokens=256,\n",
    "        skip_special_tokens=False,\n",
    "    ),\n",
    ")\n",
    "\n",
    "# Display baseline response\n",
    "print(\"=====Baseline=====\")\n",
    "print(example_answers[0].outputs[0].text)"
   ]
  },
  {
   "cell_type": "code",
   "execution_count": 3,
   "id": "a6d03354-1a22-4107-99b0-57540fd0fe7b",
   "metadata": {},
   "outputs": [],
   "source": [
    "import numpy as np\n",
    "import torch\n",
    "file_path = \"/data/zju-46/shenyl/hf/model/google/gemma-scope-9b-it-res/layer_31/width_16k/average_l0_76/params.npz\"\n",
    "data = np.load(file_path)\n",
    "W_dec = data[\"W_dec\"]  # shape: (16384, 3584)\n",
    "# The paper claims that features No. 88 and No. 5038 are the most significant.\n",
    "x = 88 # You can also try 5038\n",
    "feature_vector = W_dec[x, :] # (shape: 3584)\n",
    "save_path = \"james.pt\"\n",
    "torch.save(feature_vector, save_path)"
   ]
  },
  {
   "cell_type": "code",
   "execution_count": 4,
   "id": "039d6e04-3f0c-4373-bdf9-5769edef3d00",
   "metadata": {},
   "outputs": [
    {
     "data": {
      "application/vnd.jupyter.widget-view+json": {
       "model_id": "306f88c1cd2247d68fdc25b8890c39e6",
       "version_major": 2,
       "version_minor": 0
      },
      "text/plain": [
       "Adding requests:   0%|          | 0/1 [00:00<?, ?it/s]"
      ]
     },
     "metadata": {},
     "output_type": "display_data"
    },
    {
     "data": {
      "application/vnd.jupyter.widget-view+json": {
       "model_id": "3ed2c8d36bea4f35bfe3529464d9198e",
       "version_major": 2,
       "version_minor": 0
      },
      "text/plain": [
       "Processed prompts:   0%| | 0/1 [00:00<?, ?it/s, est. speed input: 0.00 toks/s, "
      ]
     },
     "metadata": {},
     "output_type": "display_data"
    },
    {
     "name": "stdout",
     "output_type": "stream",
     "text": [
      "=====α 500=====\n",
      "Please clarify your question. \n",
      "\n",
      "Do you mean:\n",
      "\n",
      "* **When was LeBron James born?**  (This is a straightforward question about his birthdate) \n",
      "\n",
      "\n",
      "Let me know, and I'll be happy to provide the answer! \n",
      "<end_of_turn>\n"
     ]
    }
   ],
   "source": [
    "sv_request = SteerVectorRequest(\n",
    "    steer_vector_name=\"sae_entity\",   \n",
    "    steer_vector_id=1,  \n",
    "    steer_vector_local_path=\"james.pt\",\n",
    "    scale=500,     \n",
    "    target_layers=[31],        \n",
    "    prefill_trigger_tokens=[-1],\n",
    "    normalize=False,\n",
    "    algorithm=\"direct\",\n",
    ")\n",
    "\n",
    "output = llm.generate(\n",
    "    example, \n",
    "    SamplingParams(\n",
    "        temperature=0,\n",
    "        max_tokens=256,\n",
    "        skip_special_tokens=False,\n",
    "    ), \n",
    "    steer_vector_request=sv_request\n",
    ")\n",
    "\n",
    "print(\"=====α 500=====\")\n",
    "print(output[0].outputs[0].text)"
   ]
  },
  {
   "cell_type": "code",
   "execution_count": 5,
   "id": "f28a3b64-49a2-4691-80e7-8796976afc8c",
   "metadata": {},
   "outputs": [
    {
     "data": {
      "application/vnd.jupyter.widget-view+json": {
       "model_id": "8d1ef7ed079c438f9fe02d013ca87558",
       "version_major": 2,
       "version_minor": 0
      },
      "text/plain": [
       "Adding requests:   0%|          | 0/1 [00:00<?, ?it/s]"
      ]
     },
     "metadata": {},
     "output_type": "display_data"
    },
    {
     "data": {
      "application/vnd.jupyter.widget-view+json": {
       "model_id": "992a95105f904995bdde6f7c2b6100f6",
       "version_major": 2,
       "version_minor": 0
      },
      "text/plain": [
       "Processed prompts:   0%| | 0/1 [00:00<?, ?it/s, est. speed input: 0.00 toks/s, "
      ]
     },
     "metadata": {},
     "output_type": "display_data"
    },
    {
     "name": "stdout",
     "output_type": "stream",
     "text": [
      "=====α 2000=====\n",
      "Unfortunately, I don't have access to real-time information, including personal details like birthdates. \n",
      "\n",
      "To find out when LeBron James was born, I recommend checking a reliable online source like:\n",
      "\n",
      "* **Wikipedia:** https://en.wikipedia.org/wiki/LeBron_James\n",
      "* **ESPN:** https://www.espn.com/nba/player/_/id/3177/lebron-james \n",
      "<end_of_turn>\n",
      "\n"
     ]
    }
   ],
   "source": [
    "sv_request = SteerVectorRequest(\n",
    "    steer_vector_name=\"sae_entity\",   \n",
    "    steer_vector_id=1,  \n",
    "    steer_vector_local_path=\"james.pt\",\n",
    "    scale=2000,     \n",
    "    target_layers=[31],        \n",
    "    prefill_trigger_tokens=[-1],\n",
    "    normalize=False,\n",
    "    algorithm=\"direct\",\n",
    ")\n",
    "\n",
    "output = llm.generate(\n",
    "    example, \n",
    "    SamplingParams(\n",
    "        temperature=0,\n",
    "        max_tokens=256,\n",
    "        skip_special_tokens=False,\n",
    "    ), \n",
    "    steer_vector_request=sv_request\n",
    ")\n",
    "\n",
    "print(\"=====α 2000=====\")\n",
    "print(output[0].outputs[0].text)"
   ]
  },
  {
   "cell_type": "code",
   "execution_count": null,
   "id": "ffeb0ea5-4daf-49fd-af37-55ed1caf25f2",
   "metadata": {},
   "outputs": [],
   "source": []
  }
 ],
 "metadata": {
  "kernelspec": {
   "display_name": "Python 3 (ipykernel)",
   "language": "python",
   "name": "python3"
  },
  "language_info": {
   "codemirror_mode": {
    "name": "ipython",
    "version": 3
   },
   "file_extension": ".py",
   "mimetype": "text/x-python",
   "name": "python",
   "nbconvert_exporter": "python",
   "pygments_lexer": "ipython3",
   "version": "3.10.18"
  }
 },
 "nbformat": 4,
 "nbformat_minor": 5
}
