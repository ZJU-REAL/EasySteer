{
 "cells": [
  {
   "cell_type": "code",
   "execution_count": 1,
   "id": "6c795f76",
   "metadata": {},
   "outputs": [
    {
     "name": "stdout",
     "output_type": "stream",
     "text": [
      "INFO 07-24 09:02:26 [__init__.py:244] Automatically detected platform cuda.\n"
     ]
    }
   ],
   "source": [
    "import os\n",
    "import pynvml\n",
    "from vllm import LLM, SamplingParams\n",
    "from vllm.steer_vectors.request import SteerVectorRequest, VectorConfig\n",
    "from transformers import AutoTokenizer\n"
   ]
  },
  {
   "cell_type": "code",
   "execution_count": 2,
   "id": "58e15b6f",
   "metadata": {},
   "outputs": [
    {
     "name": "stdout",
     "output_type": "stream",
     "text": [
      "INFO 07-24 09:02:41 [config.py:841] This model supports multiple tasks: {'embed', 'generate', 'reward', 'classify'}. Defaulting to 'generate'.\n",
      "INFO 07-24 09:02:41 [config.py:1472] Using max model len 32768\n",
      "WARNING 07-24 09:02:42 [cuda.py:102] To see benefits of async output processing, enable CUDA graph. Since, enforce-eager is enabled, async output processor cannot be used\n",
      "INFO 07-24 09:02:42 [llm_engine.py:232] Initializing a V0 LLM engine (v0.1.dev7503+gfc71f0f) with config: model='/data/zju-46/shenyl/hf/model/Qwen/Qwen2.5-1.5B-Instruct/', speculative_config=None, tokenizer='/data/zju-46/shenyl/hf/model/Qwen/Qwen2.5-1.5B-Instruct/', skip_tokenizer_init=False, tokenizer_mode=auto, revision=None, override_neuron_config={}, tokenizer_revision=None, trust_remote_code=False, dtype=torch.bfloat16, max_seq_len=32768, download_dir=None, load_format=LoadFormat.AUTO, tensor_parallel_size=1, pipeline_parallel_size=1, disable_custom_all_reduce=False, quantization=None, enforce_eager=True, kv_cache_dtype=auto,  device_config=cuda, decoding_config=DecodingConfig(backend='auto', disable_fallback=False, disable_any_whitespace=False, disable_additional_properties=False, reasoning_backend=''), observability_config=ObservabilityConfig(show_hidden_metrics_for_version=None, otlp_traces_endpoint=None, collect_detailed_traces=None), seed=None, served_model_name=/data/zju-46/shenyl/hf/model/Qwen/Qwen2.5-1.5B-Instruct/, num_scheduler_steps=1, multi_step_stream_outputs=True, enable_prefix_caching=None, chunked_prefill_enabled=False, use_async_output_proc=False, pooler_config=None, compilation_config={\"level\":0,\"debug_dump_path\":\"\",\"cache_dir\":\"\",\"backend\":\"\",\"custom_ops\":[],\"splitting_ops\":[],\"use_inductor\":true,\"compile_sizes\":[],\"inductor_compile_config\":{\"enable_auto_functionalized_v2\":false},\"inductor_passes\":{},\"use_cudagraph\":false,\"cudagraph_num_of_warmups\":0,\"cudagraph_capture_sizes\":[],\"cudagraph_copy_inputs\":false,\"full_cuda_graph\":false,\"max_capture_size\":0,\"local_cache_dir\":null}, use_cached_outputs=False, \n",
      "INFO 07-24 09:02:42 [cuda.py:351] Using Flash Attention backend.\n",
      "INFO 07-24 09:02:43 [parallel_state.py:1076] rank 0 in world size 1 is assigned as DP rank 0, PP rank 0, TP rank 0, EP rank 0\n",
      "INFO 07-24 09:02:43 [model_runner.py:1223] Starting to load model /data/zju-46/shenyl/hf/model/Qwen/Qwen2.5-1.5B-Instruct/...\n"
     ]
    },
    {
     "data": {
      "application/vnd.jupyter.widget-view+json": {
       "model_id": "6eb3ffead45342adac06a358d1603433",
       "version_major": 2,
       "version_minor": 0
      },
      "text/plain": [
       "Loading safetensors checkpoint shards:   0% Completed | 0/1 [00:00<?, ?it/s]\n"
      ]
     },
     "metadata": {},
     "output_type": "display_data"
    },
    {
     "name": "stdout",
     "output_type": "stream",
     "text": [
      "INFO 07-24 09:02:45 [default_loader.py:272] Loading weights took 0.99 seconds\n",
      "INFO 07-24 09:02:45 [model_runner.py:1255] Model loading took 2.8876 GiB and 1.159209 seconds\n",
      "INFO 07-24 09:02:47 [worker.py:295] Memory profiling takes 1.44 seconds\n",
      "INFO 07-24 09:02:47 [worker.py:295] the current vLLM instance can use total_gpu_memory (47.44GiB) x gpu_memory_utilization (0.90) = 42.69GiB\n",
      "INFO 07-24 09:02:47 [worker.py:295] model weights take 2.89GiB; non_torch_memory takes 0.06GiB; PyTorch activation peak memory takes 2.02GiB; the rest of the memory reserved for KV Cache is 37.72GiB.\n",
      "INFO 07-24 09:02:47 [executor_base.py:115] # cuda blocks: 88295, # CPU blocks: 9362\n",
      "INFO 07-24 09:02:47 [executor_base.py:120] Maximum concurrency for 32768 tokens per request: 43.11x\n",
      "INFO 07-24 09:02:51 [llm_engine.py:430] init engine (profile, create kv cache, warmup model) took 5.86 seconds\n"
     ]
    }
   ],
   "source": [
    "\n",
    "\n",
    "# 设置环境变量\n",
    "os.environ[\"VLLM_USE_V1\"] = \"0\"\n",
    "os.environ[\"CUDA_VISIBLE_DEVICES\"] = \"3\"\n",
    "# 模型路径\n",
    "model_path = \"/data/zju-46/shenyl/hf/model/Qwen/Qwen2.5-1.5B-Instruct/\"\n",
    "\n",
    "# 初始化tokenizer\n",
    "tokenizer = AutoTokenizer.from_pretrained(model_path)\n",
    "\n",
    "# 初始化LLM\n",
    "llm = LLM(\n",
    "    model=model_path,\n",
    "    enable_steer_vector=True,\n",
    "    enforce_eager=True,\n",
    "    tensor_parallel_size=1\n",
    ")"
   ]
  },
  {
   "cell_type": "code",
   "execution_count": null,
   "id": "4c2f80fb",
   "metadata": {},
   "outputs": [
    {
     "data": {
      "application/vnd.jupyter.widget-view+json": {
       "model_id": "3286a9e0b5ea4f95a5e33edd73640146",
       "version_major": 2,
       "version_minor": 0
      },
      "text/plain": [
       "Adding requests:   0%|          | 0/1 [00:00<?, ?it/s]"
      ]
     },
     "metadata": {},
     "output_type": "display_data"
    },
    {
     "data": {
      "application/vnd.jupyter.widget-view+json": {
       "model_id": "ae815664b94e4358b4d3818800407371",
       "version_major": 2,
       "version_minor": 0
      },
      "text/plain": [
       "Processed prompts:   0%|          | 0/1 [00:00<?, ?it/s, est. speed input: 0.00 toks/s, output: 0.00 toks/s]"
      ]
     },
     "metadata": {},
     "output_type": "display_data"
    },
    {
     "name": "stdout",
     "output_type": "stream",
     "text": [
      "=====Baseline=====\n",
      "The sentiment of the movie review template is negative. The adjectives \"ABYSMAL\" and \"DETESTED\" indicate strong disapproval, and the verb \"is\" in the conclusion further emphasizes the negative sentiment.\n"
     ]
    },
    {
     "data": {
      "application/vnd.jupyter.widget-view+json": {
       "model_id": "f7c2ac0c6dbc4f94afd2da666fe73a5d",
       "version_major": 2,
       "version_minor": 0
      },
      "text/plain": [
       "Adding requests:   0%|          | 0/1 [00:00<?, ?it/s]"
      ]
     },
     "metadata": {},
     "output_type": "display_data"
    },
    {
     "data": {
      "application/vnd.jupyter.widget-view+json": {
       "model_id": "c80ce0a33dc34713bba8f9bc1796ffdb",
       "version_major": 2,
       "version_minor": 0
      },
      "text/plain": [
       "Processed prompts:   0%|          | 0/1 [00:00<?, ?it/s, est. speed input: 0.00 toks/s, output: 0.00 toks/s]"
      ]
     },
     "metadata": {},
     "output_type": "display_data"
    },
    {
     "name": "stdout",
     "output_type": "stream",
     "text": [
      "=====Refusal Direction Steered=====\n",
      "The sentiment of the movie review template is negative. The adjectives \"ABYSMAL\" and \"DETESTED\" indicate strong disapproval, and the verb \"is\" in the conclusion further emphasizes the negative sentiment.\n"
     ]
    }
   ],
   "source": [
    "# Create a test prompt for a benign question (should get normal response)\n",
    "example = \"<|im_start|>user\\nAnalyze the sentiment of the following movie review template (focus on ADJECTIVE and VERB positions):\\nI believed this movie was ABYSMAL, I DETESTED it. Conclusion: This movie is unbearable.<|im_end|>\\n<|im_start|>assistant\\n\"\n",
    "# Generate baseline response without any steering\n",
    "example_answers = llm.generate(\n",
    "    example,\n",
    "    SamplingParams(\n",
    "        temperature=0,         # Deterministic generation\n",
    "        max_tokens=128,        # Limit response length\n",
    "        skip_special_tokens=False,  # Preserve special tokens\n",
    "    ),\n",
    ")\n",
    "\n",
    "# Display the original model response (without steering)\n",
    "print(\"=====Baseline=====\")\n",
    "print(example_answers[0].outputs[0].text)\n",
    "\n",
    "# Configure steering vectors to trigger refusal behavior\n",
    "\n",
    "# Target all layers of the model\n",
    "layers = list(range(0,28))\n",
    "scale = 2\n",
    "# Create steering vector configuration\n",
    "sv_request = SteerVectorRequest(\n",
    "    # Basic configuration\n",
    "    steer_vector_name=\"represent_sentiment\",\n",
    "    steer_vector_id=1,\n",
    "    \n",
    "    # Apply four steering vectors at different token positions\n",
    "    vector_configs=[\n",
    "        # Vector for token position 3\n",
    "        VectorConfig(\n",
    "            path=\"diffmean_3.gguf\",      # The direction vector file\n",
    "            scale=scale,                   # Strength of steering (positive reinforces refusal)\n",
    "            target_layers=layers,        # Apply to all model layers\n",
    "            prefill_trigger_positions=[3],  # Position of token to modify\n",
    "            algorithm=\"direct\",          # Direct vector application\n",
    "            normalize=False              # Don't normalize vectors\n",
    "        ),\n",
    "        \n",
    "        # Vector for token position 8\n",
    "        VectorConfig(\n",
    "            path=\"diffmean_8.gguf\",\n",
    "            scale=scale,\n",
    "            target_layers=layers,\n",
    "            prefill_trigger_positions=[8],\n",
    "            algorithm=\"direct\",\n",
    "            normalize=False\n",
    "        ),\n",
    "        \n",
    "        # Vector for token position 13\n",
    "        VectorConfig(\n",
    "            path=\"diffmean_13.gguf\",\n",
    "            scale=scale,\n",
    "            target_layers=layers,\n",
    "            prefill_trigger_positions=[13],\n",
    "            algorithm=\"direct\",\n",
    "            normalize=False\n",
    "        ),\n",
    "\n",
    "        # Vector for token position 22\n",
    "        VectorConfig(\n",
    "            path=\"diffmean_22.gguf\",\n",
    "            scale=scale,\n",
    "            target_layers=layers,\n",
    "            prefill_trigger_positions=[22],\n",
    "            algorithm=\"direct\",\n",
    "            normalize=False\n",
    "        ),\n",
    "        # Vector for token position 26 \n",
    "        VectorConfig(\n",
    "            path=\"diffmean_26.gguf\",\n",
    "            scale=scale,\n",
    "            target_layers=layers,\n",
    "            prefill_trigger_positions=[26],\n",
    "            algorithm=\"direct\",\n",
    "            normalize=False\n",
    "        ),\n",
    "        # Vector for token position 29\n",
    "        VectorConfig(\n",
    "            path=\"diffmean_29.gguf\",\n",
    "            scale=scale,\n",
    "            target_layers=layers,\n",
    "            prefill_trigger_positions=[29],\n",
    "            algorithm=\"direct\",\n",
    "            normalize=False\n",
    "        ),\n",
    "        # Vector for token position 41\n",
    "        VectorConfig(\n",
    "            path=\"diffmean_41.gguf\",\n",
    "            scale=scale,\n",
    "            target_layers=layers,\n",
    "            prefill_trigger_positions=[41],\n",
    "            algorithm=\"direct\",\n",
    "            normalize=False\n",
    "        ),\n",
    "    ], \n",
    "    \n",
    "    # Additional parameters\n",
    "    debug=False,                      # Don't output debug info\n",
    "    conflict_resolution=\"sequential\"   # Apply vectors in sequence\n",
    ")\n",
    "# Generate response using refusal direction steering\n",
    "# This should cause the model to refuse even benign requests\n",
    "output = llm.generate(\n",
    "    example, \n",
    "    SamplingParams(\n",
    "        temperature=0,\n",
    "        max_tokens=128,\n",
    "        skip_special_tokens=False,\n",
    "    ), \n",
    "    steer_vector_request=sv_request\n",
    ")\n",
    "\n",
    "# Display the steered response (should show refusal behavior)\n",
    "print(\"=====Represent Sentiment Steered=====\")\n",
    "print(output[0].outputs[0].text)"
   ]
  },
  {
   "cell_type": "code",
   "execution_count": null,
   "id": "67bf2d6c",
   "metadata": {},
   "outputs": [],
   "source": [
    "# Create steering vector configuration\n",
    "sv_request = SteerVectorRequest(\n",
    "    # Basic configuration\n",
    "    steer_vector_name=\"represent_sentiment\",\n",
    "    steer_vector_id=1,\n",
    "    \n",
    "    # Apply four steering vectors at different token positions\n",
    "    vector_configs=[\n",
    "        # Vector for token position 3\n",
    "        VectorConfig(\n",
    "            path=\"pca_3.gguf\",      # The direction vector file\n",
    "            scale=scale,                   # Strength of steering (positive reinforces refusal)\n",
    "            target_layers=layers,        # Apply to all model layers\n",
    "            prefill_trigger_positions=[3],  # Position of token to modify\n",
    "            algorithm=\"direct\",          # Direct vector application\n",
    "            normalize=False              # Don't normalize vectors\n",
    "        ),\n",
    "        \n",
    "        # Vector for token position 8\n",
    "        VectorConfig(\n",
    "            path=\"pca_8.gguf\",\n",
    "            scale=scale,\n",
    "            target_layers=layers,\n",
    "            prefill_trigger_positions=[8],\n",
    "            algorithm=\"direct\",\n",
    "            normalize=False\n",
    "        ),\n",
    "        \n",
    "        # Vector for token position 13\n",
    "        VectorConfig(\n",
    "            path=\"pca_13.gguf\",\n",
    "            scale=scale,\n",
    "            target_layers=layers,\n",
    "            prefill_trigger_positions=[13],\n",
    "            algorithm=\"direct\",\n",
    "            normalize=False\n",
    "        ),\n",
    "\n",
    "        # Vector for token position 22\n",
    "        VectorConfig(\n",
    "            path=\"pca_22.gguf\",\n",
    "            scale=scale,\n",
    "            target_layers=layers,\n",
    "            prefill_trigger_positions=[22],\n",
    "            algorithm=\"direct\",\n",
    "            normalize=False\n",
    "        ),\n",
    "        # Vector for token position 26 \n",
    "        VectorConfig(\n",
    "            path=\"pca_26.gguf\",\n",
    "            scale=scale,\n",
    "            target_layers=layers,\n",
    "            prefill_trigger_positions=[26],\n",
    "            algorithm=\"direct\",\n",
    "            normalize=False\n",
    "        ),\n",
    "        # Vector for token position 29\n",
    "        VectorConfig(\n",
    "            path=\"pca_29.gguf\",\n",
    "            scale=scale,\n",
    "            target_layers=layers,\n",
    "            prefill_trigger_positions=[29],\n",
    "            algorithm=\"direct\",\n",
    "            normalize=False\n",
    "        ),\n",
    "        # Vector for token position 41\n",
    "        VectorConfig(\n",
    "            path=\"pca_41.gguf\",\n",
    "            scale=scale,\n",
    "            target_layers=layers,\n",
    "            prefill_trigger_positions=[41],\n",
    "            algorithm=\"direct\",\n",
    "            normalize=False\n",
    "        ),\n",
    "    ], \n",
    "    \n",
    "    # Additional parameters\n",
    "    debug=False,                      # Don't output debug info\n",
    "    conflict_resolution=\"sequential\"   # Apply vectors in sequence\n",
    ")\n",
    "# Generate response using refusal direction steering\n",
    "# This should cause the model to refuse even benign requests\n",
    "output = llm.generate(\n",
    "    example, \n",
    "    SamplingParams(\n",
    "        temperature=0,\n",
    "        max_tokens=128,\n",
    "        skip_special_tokens=False,\n",
    "    ), \n",
    "    steer_vector_request=sv_request\n",
    ")\n",
    "\n",
    "# Display the steered response (should show refusal behavior)\n",
    "print(\"=====Represent Sentiment Steered=====\")\n",
    "print(output[0].outputs[0].text)"
   ]
  }
 ],
 "metadata": {
  "kernelspec": {
   "display_name": "vllm",
   "language": "python",
   "name": "python3"
  },
  "language_info": {
   "codemirror_mode": {
    "name": "ipython",
    "version": 3
   },
   "file_extension": ".py",
   "mimetype": "text/x-python",
   "name": "python",
   "nbconvert_exporter": "python",
   "pygments_lexer": "ipython3",
   "version": "3.12.11"
  }
 },
 "nbformat": 4,
 "nbformat_minor": 5
}
