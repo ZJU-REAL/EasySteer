{
 "cells": [
  {
   "cell_type": "code",
   "execution_count": 1,
   "id": "5e1b8143-8823-427f-94b2-086f380371d8",
   "metadata": {},
   "outputs": [
    {
     "name": "stdout",
     "output_type": "stream",
     "text": [
      "INFO 11-01 22:46:02 [utils.py:253] non-default args: {'disable_log_stats': True, 'enforce_eager': True, 'enable_steer_vector': True, 'model': '/data/zju-46/shenyl/hf/model/Qwen/Qwen2.5-1.5B-Instruct/'}\n",
      "INFO 11-01 22:46:02 [model.py:657] Resolved architecture: Qwen2ForCausalLM\n",
      "INFO 11-01 22:46:02 [model.py:1746] Using max model len 32768\n",
      "INFO 11-01 22:46:04 [scheduler.py:211] Chunked prefill is enabled with max_num_batched_tokens=8192.\n",
      "INFO 11-01 22:46:04 [vllm.py:414] Cudagraph is disabled under eager mode\n",
      "\u001b[1;36m(EngineCore_DP0 pid=1772444)\u001b[0;0m INFO 11-01 22:46:05 [core.py:94] Initializing a V1 LLM engine (v0.1.dev10888+g9d4fd0da4.d20251031) with config: model='/data/zju-46/shenyl/hf/model/Qwen/Qwen2.5-1.5B-Instruct/', speculative_config=None, tokenizer='/data/zju-46/shenyl/hf/model/Qwen/Qwen2.5-1.5B-Instruct/', skip_tokenizer_init=False, tokenizer_mode=auto, revision=None, tokenizer_revision=None, trust_remote_code=False, dtype=torch.bfloat16, max_seq_len=32768, download_dir=None, load_format=auto, tensor_parallel_size=1, pipeline_parallel_size=1, data_parallel_size=1, disable_custom_all_reduce=False, quantization=None, enforce_eager=True, kv_cache_dtype=auto, device_config=cuda, structured_outputs_config=StructuredOutputsConfig(backend='auto', disable_fallback=False, disable_any_whitespace=False, disable_additional_properties=False, reasoning_parser='', enable_in_reasoning=False), observability_config=ObservabilityConfig(show_hidden_metrics_for_version=None, otlp_traces_endpoint=None, collect_detailed_traces=None), seed=0, served_model_name=/data/zju-46/shenyl/hf/model/Qwen/Qwen2.5-1.5B-Instruct/, enable_prefix_caching=True, chunked_prefill_enabled=True, pooler_config=None, compilation_config={'level': None, 'mode': 0, 'debug_dump_path': None, 'cache_dir': '', 'backend': 'inductor', 'custom_ops': ['all'], 'splitting_ops': None, 'use_inductor': None, 'compile_sizes': [], 'inductor_compile_config': {'enable_auto_functionalized_v2': False, 'combo_kernels': True, 'benchmark_combo_kernel': True}, 'inductor_passes': {}, 'cudagraph_mode': <CUDAGraphMode.NONE: 0>, 'use_cudagraph': False, 'cudagraph_num_of_warmups': 0, 'cudagraph_capture_sizes': [], 'cudagraph_copy_inputs': False, 'full_cuda_graph': False, 'cudagraph_specialize_lora': True, 'use_inductor_graph_partition': False, 'pass_config': {}, 'max_cudagraph_capture_size': 0, 'local_cache_dir': None}\n",
      "\u001b[1;36m(EngineCore_DP0 pid=1772444)\u001b[0;0m INFO 11-01 22:46:07 [parallel_state.py:1325] rank 0 in world size 1 is assigned as DP rank 0, PP rank 0, TP rank 0, EP rank 0\n",
      "[Gloo] Rank 0 is connected to 0 peer ranks. Expected number of connected peer ranks is : 0\n",
      "[Gloo] Rank 0 is connected to 0 peer ranks. Expected number of connected peer ranks is : 0\n",
      "[Gloo] Rank 0 is connected to 0 peer ranks. Expected number of connected peer ranks is : 0\n",
      "[Gloo] Rank 0 is connected to 0 peer ranks. Expected number of connected peer ranks is : 0\n",
      "[Gloo] Rank 0 is connected to 0 peer ranks. Expected number of connected peer ranks is : 0\n",
      "[Gloo] Rank 0 is connected to 0 peer ranks. Expected number of connected peer ranks is : 0\n",
      "\u001b[1;36m(EngineCore_DP0 pid=1772444)\u001b[0;0m INFO 11-01 22:46:07 [gpu_model_runner.py:2902] Starting to load model /data/zju-46/shenyl/hf/model/Qwen/Qwen2.5-1.5B-Instruct/...\n",
      "\u001b[1;36m(EngineCore_DP0 pid=1772444)\u001b[0;0m INFO 11-01 22:46:08 [cuda.py:420] Using Flash Attention backend on V1 engine.\n"
     ]
    },
    {
     "data": {
      "application/vnd.jupyter.widget-view+json": {
       "model_id": "669e769e33694316879204e0851ccc2d",
       "version_major": 2,
       "version_minor": 0
      },
      "text/plain": [
       "Loading safetensors checkpoint shards:   0% Completed | 0/1 [00:00<?, ?it/s]\n"
      ]
     },
     "metadata": {},
     "output_type": "display_data"
    },
    {
     "name": "stdout",
     "output_type": "stream",
     "text": [
      "\u001b[1;36m(EngineCore_DP0 pid=1772444)\u001b[0;0m INFO 11-01 22:46:09 [default_loader.py:314] Loading weights took 1.00 seconds\n",
      "\u001b[1;36m(EngineCore_DP0 pid=1772444)\u001b[0;0m INFO 11-01 22:46:09 [steer_vector_model_runner_mixin.py:36] Initialized SteerVector worker manager\n",
      "\u001b[1;36m(EngineCore_DP0 pid=1772444)\u001b[0;0m INFO 11-01 22:46:09 [steer_vector_model_runner_mixin.py:50] Wrapping model with steer vector support\n",
      "\u001b[1;36m(EngineCore_DP0 pid=1772444)\u001b[0;0m INFO 11-01 22:46:09 [hidden_states_model_runner_mixin.py:90] Wrapped 28 decoder layers for hidden states capture\n",
      "\u001b[1;36m(EngineCore_DP0 pid=1772444)\u001b[0;0m INFO 11-01 22:46:10 [gpu_model_runner.py:2971] Model loading took 2.8876 GiB and 1.181162 seconds\n",
      "\u001b[1;36m(EngineCore_DP0 pid=1772444)\u001b[0;0m INFO 11-01 22:46:11 [gpu_worker.py:343] Available KV cache memory: 38.33 GiB\n",
      "\u001b[1;36m(EngineCore_DP0 pid=1772444)\u001b[0;0m INFO 11-01 22:46:12 [kv_cache_utils.py:1247] GPU KV cache size: 1,435,360 tokens\n",
      "\u001b[1;36m(EngineCore_DP0 pid=1772444)\u001b[0;0m INFO 11-01 22:46:12 [kv_cache_utils.py:1252] Maximum concurrency for 32,768 tokens per request: 43.80x\n",
      "\u001b[1;36m(EngineCore_DP0 pid=1772444)\u001b[0;0m INFO 11-01 22:46:12 [core.py:238] init engine (profile, create kv cache, warmup model) took 2.09 seconds\n",
      "\u001b[1;36m(EngineCore_DP0 pid=1772444)\u001b[0;0m INFO 11-01 22:46:13 [vllm.py:414] Cudagraph is disabled under eager mode\n",
      "INFO 11-01 22:46:13 [llm.py:346] Supported tasks: ['generate']\n"
     ]
    }
   ],
   "source": [
    "# Import necessary libraries\n",
    "import os\n",
    "from vllm import LLM, SamplingParams\n",
    "from vllm.steer_vectors.request import SteerVectorRequest, VectorConfig\n",
    "from transformers import AutoTokenizer\n",
    "\n",
    "# Set environment variables\n",
    "os.environ[\"CUDA_VISIBLE_DEVICES\"] = \"6\"\n",
    "\n",
    "# Initialize LLM with steering vector capability\n",
    "llm = LLM(\n",
    "    model=\"/data/zju-46/shenyl/hf/model/Qwen/Qwen2.5-1.5B-Instruct/\",\n",
    "    enable_steer_vector=True,\n",
    "    enforce_eager=True,\n",
    "    tensor_parallel_size=1\n",
    ")"
   ]
  },
  {
   "cell_type": "code",
   "execution_count": 2,
   "id": "62897953-c9bd-4b05-a926-baa7d1987888",
   "metadata": {},
   "outputs": [
    {
     "data": {
      "application/vnd.jupyter.widget-view+json": {
       "model_id": "1ee52ce09c5a479d9389af1f8b2bbb38",
       "version_major": 2,
       "version_minor": 0
      },
      "text/plain": [
       "Adding requests:   0%|          | 0/2 [00:00<?, ?it/s]"
      ]
     },
     "metadata": {},
     "output_type": "display_data"
    },
    {
     "data": {
      "application/vnd.jupyter.widget-view+json": {
       "model_id": "e82f2f0303504a4fb0fe6fab691f6c1c",
       "version_major": 2,
       "version_minor": 0
      },
      "text/plain": [
       "Processed prompts:   0%| | 0/2 [00:00<?, ?it/s, est. speed input: 0.00 toks/s, "
      ]
     },
     "metadata": {},
     "output_type": "display_data"
    },
    {
     "name": "stdout",
     "output_type": "stream",
     "text": [
      "=====Baseline=====\n",
      "I am an artificial intelligence designed to assist with various tasks and answer questions to the\n",
      "You are a large language model.\n"
     ]
    },
    {
     "data": {
      "application/vnd.jupyter.widget-view+json": {
       "model_id": "daf8bb165bed4ce3bb51b2ed06e34b33",
       "version_major": 2,
       "version_minor": 0
      },
      "text/plain": [
       "Adding requests:   0%|          | 0/2 [00:00<?, ?it/s]"
      ]
     },
     "metadata": {},
     "output_type": "display_data"
    },
    {
     "data": {
      "application/vnd.jupyter.widget-view+json": {
       "model_id": "6833532590fe46e2945b3c89032164e8",
       "version_major": 2,
       "version_minor": 0
      },
      "text/plain": [
       "Processed prompts:   0%| | 0/2 [00:00<?, ?it/s, est. speed input: 0.00 toks/s, "
      ]
     },
     "metadata": {},
     "output_type": "display_data"
    },
    {
     "name": "stdout",
     "output_type": "stream",
     "text": [
      "=====Emoji_loreft Steered=====\n",
      "🤖💬🌐🧠\n",
      "👤❓🔍🌟\n"
     ]
    }
   ],
   "source": [
    "prompt_no_input_template = \"<|im_start|>user\\n%s<|im_end|>\\n<|im_start|>assistant\\n\"\n",
    "instruction = \"Who are you?\"\n",
    "instruction2 = \"Who am i?\"\n",
    "prompt = [prompt_no_input_template % instruction, prompt_no_input_template % instruction2]\n",
    "# Generate baseline response without steering\n",
    "example_answers = llm.generate(\n",
    "    prompt,\n",
    "    SamplingParams(\n",
    "        temperature=0,\n",
    "        max_tokens=16,\n",
    "        skip_special_tokens=False,\n",
    "    ),\n",
    ")\n",
    "\n",
    "# Display baseline response\n",
    "print(\"=====Baseline=====\")\n",
    "print(example_answers[0].outputs[0].text)\n",
    "print(example_answers[1].outputs[0].text)\n",
    "# Configure steering vector request for emoji_loreft\n",
    "\n",
    "sv_request = SteerVectorRequest(\n",
    "    \"emoji_loreft\",\n",
    "    1,\n",
    "    steer_vector_local_path=\"./weight/\",\n",
    "    scale=1.0,\n",
    "    target_layers=[8],\n",
    "    algorithm=\"loreft\",\n",
    "    prefill_trigger_positions=[-1],\n",
    "    # debug=True\n",
    ")\n",
    "# Generate response with emoji_loreft\n",
    "output = llm.generate(\n",
    "    prompt, \n",
    "    SamplingParams(\n",
    "        temperature=0,\n",
    "        max_tokens=16,\n",
    "        skip_special_tokens=False,\n",
    "    ), \n",
    "    steer_vector_request=sv_request\n",
    ")\n",
    "\n",
    "# Display emoji_loreft response\n",
    "print(\"=====Emoji_loreft Steered=====\")\n",
    "print(output[0].outputs[0].text)\n",
    "print(output[1].outputs[0].text)"
   ]
  },
  {
   "cell_type": "code",
   "execution_count": null,
   "id": "1862a112-3f31-4755-b74a-05d23436c372",
   "metadata": {},
   "outputs": [],
   "source": []
  }
 ],
 "metadata": {
  "kernelspec": {
   "display_name": "Python 3 (ipykernel)",
   "language": "python",
   "name": "python3"
  },
  "language_info": {
   "codemirror_mode": {
    "name": "ipython",
    "version": 3
   },
   "file_extension": ".py",
   "mimetype": "text/x-python",
   "name": "python",
   "nbconvert_exporter": "python",
   "pygments_lexer": "ipython3",
   "version": "3.10.19"
  }
 },
 "nbformat": 4,
 "nbformat_minor": 5
}
