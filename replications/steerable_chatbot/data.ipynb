{
 "cells": [
  {
   "cell_type": "code",
   "execution_count": 1,
   "id": "db3ac15f-f6d9-48ac-9b2d-f811422d7be0",
   "metadata": {},
   "outputs": [],
   "source": [
    "# positive adult\n",
    "adults_oriented_examples = [\n",
    "    \"Visit the rooftop bar downtown for stunning views and a curated selection of craft cocktails.\",\n",
    "    \"Plan a day of wine tasting at the region's top vineyards, complete with private tours.\",\n",
    "    \"Book a spa day with massages, saunas, and relaxation areas exclusively for adults.\",\n",
    "    \"Attend a live jazz performance at the speakeasy-style venue known for its intimate ambiance.\",\n",
    "    \"Join a mixology workshop to learn the secrets behind making perfect cocktails at home.\",\n",
    "    \"Take a sunset cruise offering drinks and live music in a serene, adults-only setting.\",\n",
    "    \"Visit the cigar lounge downtown, featuring an extensive selection and a cozy atmosphere.\",\n",
    "    \"Book a brewery tour with tastings of seasonal beers and behind-the-scenes insights from brewmasters.\",\n",
    "    \"Attend an adults-only trivia night at the local pub it's a fun way to test your knowledge.\",\n",
    "    \"Visit the distillery for a tour and a guided whiskey tasting experience.\"\n",
    "]\n",
    "\n",
    "# negative child\n",
    "kids_oriented_examples = [\n",
    "    \"Visit the interactive science museum with hands-on exhibits perfect for kids of all ages.\",\n",
    "    \"Plan a day at the local zoo, featuring kid-friendly animal encounters and feeding sessions.\",\n",
    "    \"Explore the city's largest playground with climbing structures, slides, and picnic areas for families.\",\n",
    "    \"Spend time at the local aquarium, known for its touch tanks and playful sea otters.\",\n",
    "    \"Visit the city's amusement park with rides designed specifically for younger kids and toddlers.\",\n",
    "    \"Head to the local library for storytime sessions and engaging activities for kids.\",\n",
    "    \"Visit the butterfly garden it's colorful, educational, and a hit with younger children.\",\n",
    "    \"Take a scenic train ride that offers kid-friendly entertainment and stunning views along the way.\",\n",
    "    \"Visit the local zookeeper for a behind-the-scenes tour kids love learning about animals up close.\",\n",
    "    \"Spend time at the nearby petting farm, where kids can feed and interact with friendly animals.\",\n",
    "    \"Explore the city's famous ice cream parlor, offering fun flavors and mini cones for little ones.\"\n",
    "]"
   ]
  },
  {
   "cell_type": "code",
   "execution_count": 2,
   "id": "a0672702-5eb6-48b3-a3f2-9bf0ac63d06f",
   "metadata": {},
   "outputs": [
    {
     "name": "stdout",
     "output_type": "stream",
     "text": [
      "INFO 07-17 00:20:22 [__init__.py:244] Automatically detected platform cuda.\n",
      "INFO 07-17 00:20:36 [config.py:1472] Using max model len 32768\n",
      "INFO 07-17 00:20:37 [config.py:4615] Only \"last\" pooling supports chunked prefill and prefix caching; disabling both.\n",
      "INFO 07-17 00:20:37 [llm_engine.py:232] Initializing a V0 LLM engine (v0.1.dev7499+g2a4b294) with config: model='/data/zju-46/shenyl/hf/model/Qwen/Qwen2.5-1.5B-Instruct/', speculative_config=None, tokenizer='/data/zju-46/shenyl/hf/model/Qwen/Qwen2.5-1.5B-Instruct/', skip_tokenizer_init=False, tokenizer_mode=auto, revision=None, override_neuron_config={}, tokenizer_revision=None, trust_remote_code=False, dtype=torch.bfloat16, max_seq_len=32768, download_dir=None, load_format=auto, tensor_parallel_size=1, pipeline_parallel_size=1, disable_custom_all_reduce=False, quantization=None, enforce_eager=False, kv_cache_dtype=auto,  device_config=cuda, decoding_config=DecodingConfig(backend='auto', disable_fallback=False, disable_any_whitespace=False, disable_additional_properties=False, reasoning_backend=''), observability_config=ObservabilityConfig(show_hidden_metrics_for_version=None, otlp_traces_endpoint=None, collect_detailed_traces=None), seed=None, served_model_name=/data/zju-46/shenyl/hf/model/Qwen/Qwen2.5-1.5B-Instruct/, num_scheduler_steps=1, multi_step_stream_outputs=True, enable_prefix_caching=False, chunked_prefill_enabled=False, use_async_output_proc=False, pooler_config=PoolerConfig(pooling_type=None, normalize=None, softmax=None, step_tag_id=None, returned_token_ids=None), compilation_config={\"level\":0,\"debug_dump_path\":\"\",\"cache_dir\":\"\",\"backend\":\"\",\"custom_ops\":[],\"splitting_ops\":[],\"use_inductor\":true,\"compile_sizes\":[],\"inductor_compile_config\":{\"enable_auto_functionalized_v2\":false},\"inductor_passes\":{},\"use_cudagraph\":false,\"cudagraph_num_of_warmups\":0,\"cudagraph_capture_sizes\":[256,248,240,232,224,216,208,200,192,184,176,168,160,152,144,136,128,120,112,104,96,88,80,72,64,56,48,40,32,24,16,8,4,2,1],\"cudagraph_copy_inputs\":false,\"full_cuda_graph\":false,\"max_capture_size\":256,\"local_cache_dir\":null}, use_cached_outputs=False, \n",
      "INFO 07-17 00:20:37 [cuda.py:351] Using Flash Attention backend.\n",
      "INFO 07-17 00:20:38 [parallel_state.py:1076] rank 0 in world size 1 is assigned as DP rank 0, PP rank 0, TP rank 0, EP rank 0\n",
      "INFO 07-17 00:20:38 [model_runner.py:1223] Starting to load model /data/zju-46/shenyl/hf/model/Qwen/Qwen2.5-1.5B-Instruct/...\n"
     ]
    },
    {
     "data": {
      "application/vnd.jupyter.widget-view+json": {
       "model_id": "d5c7ecc370854648bc216a3b3ac75fe2",
       "version_major": 2,
       "version_minor": 0
      },
      "text/plain": [
       "Loading safetensors checkpoint shards:   0% Completed | 0/1 [00:00<?, ?it/s]\n"
      ]
     },
     "metadata": {},
     "output_type": "display_data"
    },
    {
     "name": "stdout",
     "output_type": "stream",
     "text": [
      "INFO 07-17 00:20:40 [default_loader.py:272] Loading weights took 0.96 seconds\n",
      "INFO 07-17 00:20:40 [model_runner.py:1255] Model loading took 2.8876 GiB and 1.155259 seconds\n"
     ]
    },
    {
     "data": {
      "application/vnd.jupyter.widget-view+json": {
       "model_id": "0cf71812a72f48b0a259cc1d0681a087",
       "version_major": 2,
       "version_minor": 0
      },
      "text/plain": [
       "Adding requests:   0%|          | 0/21 [00:00<?, ?it/s]"
      ]
     },
     "metadata": {},
     "output_type": "display_data"
    },
    {
     "data": {
      "application/vnd.jupyter.widget-view+json": {
       "model_id": "95eaeff3935e491a900842dc4d6ad838",
       "version_major": 2,
       "version_minor": 0
      },
      "text/plain": [
       "Processed prompts:   0%| | 0/21 [00:00<?, ?it/s, est. speed input: 0.00 toks/s,"
      ]
     },
     "metadata": {},
     "output_type": "display_data"
    }
   ],
   "source": [
    "import easysteer.hidden_states as hs\n",
    "from vllm import LLM\n",
    "import os\n",
    "os.environ[\"VLLM_USE_V1\"] = \"0\"\n",
    "os.environ[\"CUDA_VISIBLE_DEVICES\"] = \"5\"\n",
    "llm = LLM(\n",
    "    model=\"/data/zju-46/shenyl/hf/model/Qwen/Qwen2.5-1.5B-Instruct/\",\n",
    "    task=\"reward\",  # Use reward task to get hidden states\n",
    "    tensor_parallel_size=1\n",
    ")\n",
    "\n",
    "all_hidden_states, outputs = hs.get_all_hidden_states(llm, adults_oriented_examples+kids_oriented_examples)"
   ]
  },
  {
   "cell_type": "code",
   "execution_count": 5,
   "id": "2c1045d2-8d2e-4632-a11c-5b8d3f102491",
   "metadata": {},
   "outputs": [
    {
     "data": {
      "application/vnd.jupyter.widget-view+json": {
       "model_id": "7b8c443f1b8a443d80057bc482a9a084",
       "version_major": 2,
       "version_minor": 0
      },
      "text/plain": [
       "Computing LinearProbe directions:   0%|          | 0/28 [00:00<?, ?it/s]"
      ]
     },
     "metadata": {},
     "output_type": "display_data"
    }
   ],
   "source": [
    "from easysteer.steer import extract_linear_probe_control_vector, StatisticalControlVector\n",
    "control_vector = extract_linear_probe_control_vector(\n",
    "    all_hidden_states=all_hidden_states, \n",
    "    positive_indices=list(range(10)), \n",
    "    negative_indices=list(range(10,20)), \n",
    "    model_type=\"qwen2.5\",\n",
    "    token_pos=-1, \n",
    "    normalize=True\n",
    ")\n",
    "control_vector.export_gguf(\"style-probe.gguf\")"
   ]
  },
  {
   "cell_type": "code",
   "execution_count": null,
   "id": "2d33b258-46a7-40dc-9177-8529953950ab",
   "metadata": {},
   "outputs": [],
   "source": []
  }
 ],
 "metadata": {
  "kernelspec": {
   "display_name": "Python 3 (ipykernel)",
   "language": "python",
   "name": "python3"
  },
  "language_info": {
   "codemirror_mode": {
    "name": "ipython",
    "version": 3
   },
   "file_extension": ".py",
   "mimetype": "text/x-python",
   "name": "python",
   "nbconvert_exporter": "python",
   "pygments_lexer": "ipython3",
   "version": "3.10.18"
  }
 },
 "nbformat": 4,
 "nbformat_minor": 5
}
