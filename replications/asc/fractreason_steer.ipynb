{
 "cells": [
  {
   "cell_type": "code",
   "execution_count": 1,
   "metadata": {},
   "outputs": [
    {
     "name": "stderr",
     "output_type": "stream",
     "text": [
      "/home/meixinyu/anaconda3/envs/easysteer/lib/python3.10/site-packages/tqdm/auto.py:21: TqdmWarning: IProgress not found. Please update jupyter and ipywidgets. See https://ipywidgets.readthedocs.io/en/stable/user_install.html\n",
      "  from .autonotebook import tqdm as notebook_tqdm\n"
     ]
    },
    {
     "name": "stdout",
     "output_type": "stream",
     "text": [
      "INFO 07-15 15:27:38 [__init__.py:244] Automatically detected platform cuda.\n"
     ]
    }
   ],
   "source": [
    "import os\n",
    "import datetime\n",
    "\n",
    "from vllm.steer_vectors.request import SteerVectorRequest\n",
    "from vllm import LLM, SamplingParams\n",
    "\n",
    "from easysteer.steer import StatisticalControlVector\n",
    "\n",
    "os.environ[\"CUDA_VISIBLE_DEVICES\"] = \"4\""
   ]
  },
  {
   "cell_type": "code",
   "execution_count": 2,
   "metadata": {},
   "outputs": [
    {
     "name": "stdout",
     "output_type": "stream",
     "text": [
      "StatisticalControlVector(model_type='qwen2.5', method='diffmean', directions={0: memmap([-0.37762213,  0.3621289 ,  0.07671386, ...,  0.09187746,\n",
      "         0.01702148, -0.02408692], shape=(1536,), dtype=float32), 1: memmap([-0.37708008,  0.3185938 ,  0.00083008, ...,  0.10798828,\n",
      "        -0.12316895,  0.07854492], shape=(1536,), dtype=float32), 2: memmap([-0.50412107,  0.2696436 , -0.17655273, ...,  0.13890624,\n",
      "        -0.12346679,  0.2603125 ], shape=(1536,), dtype=float32), 3: memmap([-0.6581836 ,  0.06841797, -0.3773291 , ...,  0.09156249,\n",
      "        -0.11788085,  0.07102537], shape=(1536,), dtype=float32), 4: memmap([-0.67054677, -0.11105469, -0.1010547 , ..., -0.02114257,\n",
      "        -0.01477537, -0.14418948], shape=(1536,), dtype=float32), 5: memmap([-0.7164061 , -0.07879883, -0.20362793, ...,  0.02737793,\n",
      "        -0.156875  ,  0.0581836 ], shape=(1536,), dtype=float32), 6: memmap([-0.2943945 , -0.01407228, -0.28964844, ...,  0.01804686,\n",
      "         0.31013674, -0.04800782], shape=(1536,), dtype=float32), 7: memmap([-0.33347654, -0.03626953, -0.26561522, ...,  0.18441403,\n",
      "         0.28577155, -0.14757568], shape=(1536,), dtype=float32), 8: memmap([-0.15789056,  0.03645509, -0.10894534, ...,  0.34830078,\n",
      "         0.23494142, -0.04214356], shape=(1536,), dtype=float32), 9: memmap([-0.16039062, -0.39820313, -0.174541  , ...,  0.04435551,\n",
      "         0.19143066,  0.1734277 ], shape=(1536,), dtype=float32), 10: memmap([-0.3876953 , -0.2825781 , -0.2665186 , ..., -0.26649413,\n",
      "        -0.33214843,  0.14291012], shape=(1536,), dtype=float32), 11: memmap([-0.2562108 , -0.10544923, -0.28228033, ..., -0.33841795,\n",
      "        -0.01007812, -0.04265625], shape=(1536,), dtype=float32), 12: memmap([-0.32992196,  0.21152341, -0.16746104, ..., -0.25414062,\n",
      "        -0.18600097,  0.04989257], shape=(1536,), dtype=float32), 13: memmap([-0.29429698,  0.02669436, -0.11333987, ..., -0.3220703 ,\n",
      "         0.24908197,  0.3820703 ], shape=(1536,), dtype=float32), 14: memmap([-0.27222657, -0.37456053, -0.4354297 , ..., -0.21980476,\n",
      "         0.05334961,  0.21835935], shape=(1536,), dtype=float32), 15: memmap([-0.25539064, -0.20105469, -0.92452157, ..., -0.36464846,\n",
      "         0.1477539 , -0.09858894], shape=(1536,), dtype=float32), 16: memmap([-0.25945306, -0.20824218, -1.0262793 , ..., -0.04824221,\n",
      "         0.11625004, -0.01763675], shape=(1536,), dtype=float32), 17: memmap([-0.3380468 ,  0.24728513, -1.0696876 , ..., -0.11441398,\n",
      "        -0.01070315,  0.3734082 ], shape=(1536,), dtype=float32), 18: memmap([-1.28912926e-03,  5.06445348e-01, -1.41105473e+00, ...,\n",
      "        -1.02695310e+00,  1.00722656e-01,  5.67470670e-01],\n",
      "       shape=(1536,), dtype=float32), 19: memmap([ 0.57054687,  0.7983008 , -1.6722364 , ..., -1.0267577 ,\n",
      "         0.07367194,  1.1113281 ], shape=(1536,), dtype=float32), 20: memmap([ 0.47769523,  0.4148047 , -2.0434375 , ..., -1.1351172 ,\n",
      "        -0.00756836,  1.344414  ], shape=(1536,), dtype=float32), 21: memmap([ 0.64171886,  0.6799023 , -1.0577343 , ...,  0.06789062,\n",
      "        -2.1176562 ,  0.8701807 ], shape=(1536,), dtype=float32), 22: memmap([ 0.62886715,  0.44992188,  0.58054686, ...,  0.49066412,\n",
      "        -2.2940621 ,  1.2171484 ], shape=(1536,), dtype=float32), 23: memmap([ 0.00714827,  2.179375  ,  0.35304677, ...,  0.5946094 ,\n",
      "        -1.3303127 ,  2.6116407 ], shape=(1536,), dtype=float32), 24: memmap([-0.95078135,  2.2371094 ,  0.77324224, ...,  0.21453142,\n",
      "        -2.6921873 ,  3.6129687 ], shape=(1536,), dtype=float32), 25: memmap([-0.56441414,  2.3504686 , -0.1184375 , ...,  0.07265663,\n",
      "        -2.5759373 ,  2.2974803 ], shape=(1536,), dtype=float32), 26: memmap([-1.6063282 ,  3.5953321 ,  0.40812504, ..., -1.9807806 ,\n",
      "        -2.0478125 ,  2.42375   ], shape=(1536,), dtype=float32), 27: memmap([-5.460781  ,  2.8114843 ,  1.0229688 , ..., -1.0696092 ,\n",
      "        -0.31312466,  6.6971874 ], shape=(1536,), dtype=float32)}, metadata={})\n"
     ]
    }
   ],
   "source": [
    "model_path = \"/data/zju-46/shenyl/hf/model/deepseek-ai/DeepSeek-R1-Distill-Qwen-1.5B/\"\n",
    "# vector_path=\"/home/meixinyu/EasySteer/vectors/thinking_switch_pca_MATH-500.gguf\" #change to your path\n",
    "vector_path=\"MATH500.gguf\" #change to your path\n",
    "\n",
    "control_vector = StatisticalControlVector.import_gguf(vector_path)\n",
    "print(control_vector)"
   ]
  },
  {
   "cell_type": "code",
   "execution_count": 3,
   "metadata": {},
   "outputs": [],
   "source": [
    "steer_vector_request_pos = SteerVectorRequest(\n",
    "            steer_vector_name=\"fast\",\n",
    "            steer_vector_id=1,\n",
    "            steer_vector_local_path=vector_path,\n",
    "            scale=1.0,\n",
    "            target_layers=[21],\n",
    "            prefill_trigger_tokens=[-1],\n",
    "            prefill_trigger_positions=[-1],\n",
    "            generate_trigger_tokens=[-1],\n",
    "            debug=False,\n",
    "            algorithm='direct'\n",
    "        )\n",
    "steer_vector_request_neg = SteerVectorRequest(\n",
    "            steer_vector_name=\"slow\",\n",
    "            steer_vector_id=2,\n",
    "            steer_vector_local_path=vector_path,\n",
    "            scale=-1.0,\n",
    "            target_layers=[21],\n",
    "            prefill_trigger_tokens=[-1],\n",
    "            prefill_trigger_positions=[-1],\n",
    "            generate_trigger_tokens=[-1],\n",
    "            debug=False,\n",
    "            algorithm='direct'\n",
    "        )"
   ]
  },
  {
   "cell_type": "code",
   "execution_count": 4,
   "metadata": {},
   "outputs": [],
   "source": [
    "sampling_params = SamplingParams(temperature=0.0,max_tokens=4096)\n",
    "prompt_template = \"<|User|>%s<|Assistant|><think>\\n\"\n",
    "prompt = \"Find the constant term in the expansion of $$\\\\left(10x^3-\\\\frac{1}{2x^2}\\\\right)^{5}$$\"\n",
    "# prompt = \"Darrell and Allen's ages are in the ratio of 7:11. If their total age now is 162, calculate Allen's age 10 years from now.\"\n",
    "input = prompt_template % prompt"
   ]
  },
  {
   "cell_type": "code",
   "execution_count": 5,
   "metadata": {},
   "outputs": [
    {
     "name": "stdout",
     "output_type": "stream",
     "text": [
      "INFO 07-15 15:27:47 [config.py:841] This model supports multiple tasks: {'classify', 'reward', 'embed', 'generate'}. Defaulting to 'generate'.\n",
      "INFO 07-15 15:27:47 [config.py:1472] Using max model len 131072\n",
      "WARNING 07-15 15:27:47 [arg_utils.py:1770] --enable-steer-vector is not supported by the V1 Engine. Falling back to V0. \n",
      "WARNING 07-15 15:27:47 [arg_utils.py:1577] The model has a long context length (131072). This may causeOOM during the initial memory profiling phase, or result in low performance due to small KV cache size. Consider setting --max-model-len to a smaller value.\n"
     ]
    },
    {
     "name": "stderr",
     "output_type": "stream",
     "text": [
      "2025-07-15 15:27:48,072\tINFO util.py:154 -- Missing packages: ['ipywidgets']. Run `pip install -U ipywidgets`, then restart the notebook server for rich notebook output.\n"
     ]
    },
    {
     "name": "stdout",
     "output_type": "stream",
     "text": [
      "WARNING 07-15 15:27:48 [cuda.py:102] To see benefits of async output processing, enable CUDA graph. Since, enforce-eager is enabled, async output processor cannot be used\n",
      "INFO 07-15 15:27:48 [llm_engine.py:232] Initializing a V0 LLM engine (v0.1.dev7499+g2a4b294.d20250712) with config: model='/data/zju-46/shenyl/hf/model/deepseek-ai/DeepSeek-R1-Distill-Qwen-1.5B/', speculative_config=None, tokenizer='/data/zju-46/shenyl/hf/model/deepseek-ai/DeepSeek-R1-Distill-Qwen-1.5B/', skip_tokenizer_init=False, tokenizer_mode=auto, revision=None, override_neuron_config={}, tokenizer_revision=None, trust_remote_code=False, dtype=torch.bfloat16, max_seq_len=131072, download_dir=None, load_format=auto, tensor_parallel_size=1, pipeline_parallel_size=1, disable_custom_all_reduce=False, quantization=None, enforce_eager=True, kv_cache_dtype=auto,  device_config=cuda, decoding_config=DecodingConfig(backend='auto', disable_fallback=False, disable_any_whitespace=False, disable_additional_properties=False, reasoning_backend=''), observability_config=ObservabilityConfig(show_hidden_metrics_for_version=None, otlp_traces_endpoint=None, collect_detailed_traces=None), seed=0, served_model_name=/data/zju-46/shenyl/hf/model/deepseek-ai/DeepSeek-R1-Distill-Qwen-1.5B/, num_scheduler_steps=1, multi_step_stream_outputs=True, enable_prefix_caching=None, chunked_prefill_enabled=False, use_async_output_proc=False, pooler_config=None, compilation_config={\"level\":0,\"debug_dump_path\":\"\",\"cache_dir\":\"\",\"backend\":\"\",\"custom_ops\":[],\"splitting_ops\":[],\"use_inductor\":true,\"compile_sizes\":[],\"inductor_compile_config\":{\"enable_auto_functionalized_v2\":false},\"inductor_passes\":{},\"use_cudagraph\":true,\"cudagraph_num_of_warmups\":0,\"cudagraph_capture_sizes\":[],\"cudagraph_copy_inputs\":false,\"full_cuda_graph\":false,\"max_capture_size\":0,\"local_cache_dir\":null}, use_cached_outputs=False, \n",
      "INFO 07-15 15:27:49 [cuda.py:351] Using Flash Attention backend.\n",
      "INFO 07-15 15:27:49 [parallel_state.py:1076] rank 0 in world size 1 is assigned as DP rank 0, PP rank 0, TP rank 0, EP rank 0\n",
      "INFO 07-15 15:27:49 [model_runner.py:1223] Starting to load model /data/zju-46/shenyl/hf/model/deepseek-ai/DeepSeek-R1-Distill-Qwen-1.5B/...\n"
     ]
    },
    {
     "name": "stderr",
     "output_type": "stream",
     "text": [
      "Loading safetensors checkpoint shards:   0% Completed | 0/1 [00:00<?, ?it/s]\n",
      "Loading safetensors checkpoint shards: 100% Completed | 1/1 [00:00<00:00,  1.01it/s]\n",
      "Loading safetensors checkpoint shards: 100% Completed | 1/1 [00:00<00:00,  1.00it/s]\n"
     ]
    },
    {
     "name": "stdout",
     "output_type": "stream",
     "text": [
      "INFO 07-15 15:27:51 [default_loader.py:272] Loading weights took 1.10 seconds\n"
     ]
    },
    {
     "name": "stderr",
     "output_type": "stream",
     "text": [
      "\n"
     ]
    },
    {
     "name": "stdout",
     "output_type": "stream",
     "text": [
      "INFO 07-15 15:27:52 [model_runner.py:1255] Model loading took 3.3461 GiB and 1.257748 seconds\n",
      "INFO 07-15 15:27:56 [worker.py:295] Memory profiling takes 4.00 seconds\n",
      "INFO 07-15 15:27:56 [worker.py:295] the current vLLM instance can use total_gpu_memory (47.44GiB) x gpu_memory_utilization (0.90) = 42.69GiB\n",
      "INFO 07-15 15:27:56 [worker.py:295] model weights take 3.35GiB; non_torch_memory takes 0.08GiB; PyTorch activation peak memory takes 8.10GiB; the rest of the memory reserved for KV Cache is 31.17GiB.\n",
      "INFO 07-15 15:27:56 [executor_base.py:115] # cuda blocks: 72954, # CPU blocks: 9362\n",
      "INFO 07-15 15:27:56 [executor_base.py:120] Maximum concurrency for 131072 tokens per request: 8.91x\n",
      "INFO 07-15 15:28:01 [llm_engine.py:430] init engine (profile, create kv cache, warmup model) took 9.15 seconds\n"
     ]
    },
    {
     "name": "stderr",
     "output_type": "stream",
     "text": [
      "Adding requests: 100%|██████████| 1/1 [00:00<00:00, 239.74it/s]\n",
      "Processed prompts: 100%|██████████| 1/1 [00:59<00:00, 59.30s/it, est. speed input: 0.78 toks/s, output: 45.86 toks/s]\n",
      "Adding requests: 100%|██████████| 1/1 [00:00<00:00, 1063.46it/s]\n",
      "Processed prompts: 100%|██████████| 1/1 [00:40<00:00, 40.12s/it, est. speed input: 1.15 toks/s, output: 39.63 toks/s]\n"
     ]
    }
   ],
   "source": [
    "llm = LLM(model=model_path, enable_steer_vector=True, tensor_parallel_size=1,enforce_eager=True)\n",
    "output_base = llm.generate(\n",
    "    input,\n",
    "    sampling_params\n",
    ")\n",
    "generated_text_base = output_base[0].outputs[0].text\n",
    "\n",
    "output_pos = llm.generate(\n",
    "                input,\n",
    "                sampling_params,\n",
    "                steer_vector_request=steer_vector_request_pos\n",
    "            )\n",
    "generated_text_pos = output_pos[0].outputs[0].text\n",
    "\n",
    "# output_neg = llm.generate(\n",
    "#                 input,\n",
    "#                 sampling_params,\n",
    "#                 steer_vector_request=steer_vector_request_neg\n",
    "#             )\n",
    "# generated_text_neg = output_neg[0].outputs[0].text"
   ]
  },
  {
   "cell_type": "code",
   "execution_count": 6,
   "metadata": {},
   "outputs": [
    {
     "name": "stdout",
     "output_type": "stream",
     "text": [
      "Okay, so I need to find the constant term in the expansion of \\(\\left(10x^3 - \\frac{1}{2x^2}\\right)^5\\). Hmm, let me think about how to approach this. I remember that when expanding a binomial like \\((a + b)^n\\), each term in the expansion is given by the binomial theorem: \\(\\binom{n}{k} a^{n - k} b^k\\). So, in this case, \\(a = 10x^3\\) and \\(b = -\\frac{1}{2x^2}\\), and \\(n = 5\\).\n",
      "\n",
      "Alright, so each term in the expansion will look like \\(\\binom{5}{k} (10x^3)^{5 - k} \\left(-\\frac{1}{2x^2}\\right)^k\\). I need to find the term where the exponent of \\(x\\) is zero because that's the constant term. So, let me figure out how to find the value of \\(k\\) that makes the exponent of \\(x\\) zero.\n",
      "\n",
      "First, let's write out the general term:\n",
      "\n",
      "\\[\n",
      "\\binom{5}{k} \\cdot (10x^3)^{5 - k} \\cdot \\left(-\\frac{1}{2x^2}\\right)^k\n",
      "\\]\n",
      "\n",
      "Let me simplify this term step by step. Let's handle each part separately.\n",
      "\n",
      "Starting with \\((10x^3)^{5 - k}\\):\n",
      "\n",
      "\\[\n",
      "10^{5 - k} \\cdot x^{3(5 - k)} = 10^{5 - k} \\cdot x^{15 - 3k}\n",
      "\\]\n",
      "\n",
      "Next, \\(\\left(-\\frac{1}{2x^2}\\right)^k\\):\n",
      "\n",
      "First, let's write \\(-\\frac{1}{2x^2}\\) as \\(-\\frac{1}{2}x^{-2}\\). So, raising this to the \\(k\\) power:\n",
      "\n",
      "\\[\n",
      "\\left(-\\frac{1}{2}\\right)^k \\cdot x^{-2k}\n",
      "\\]\n",
      "\n",
      "So, putting it all together, the general term becomes:\n",
      "\n",
      "\\[\n",
      "\\binom{5}{k} \\cdot 10^{5 - k} \\cdot x^{15 - 3k} \\cdot \\left(-\\frac{1}{2}\\right)^k \\cdot x^{-2k}\n",
      "\\]\n",
      "\n",
      "Now, let's combine the constants and the exponents of \\(x\\):\n",
      "\n",
      "First, the constants:\n",
      "\n",
      "\\[\n",
      "\\binom{5}{k} \\cdot 10^{5 - k} \\cdot \\left(-\\frac{1}{2}\\right)^k\n",
      "\\]\n",
      "\n",
      "And the exponents of \\(x\\):\n",
      "\n",
      "\\[\n",
      "x^{15 - 3k - 2k} = x^{15 - 5k}\n",
      "\\]\n",
      "\n",
      "So, the term is:\n",
      "\n",
      "\\[\n",
      "\\binom{5}{k} \\cdot 10^{5 - k} \\cdot \\left(-\\frac{1}{2}\\right)^k \\cdot x^{15 - 5k}\n",
      "\\]\n",
      "\n",
      "We need the exponent of \\(x\\) to be zero, so set \\(15 - 5k = 0\\):\n",
      "\n",
      "\\[\n",
      "15 - 5k = 0 \\\\\n",
      "5k = 15 \\\\\n",
      "k = 3\n",
      "\\]\n",
      "\n",
      "So, the constant term occurs when \\(k = 3\\). Now, let's compute the coefficient for \\(k = 3\\).\n",
      "\n",
      "First, compute the binomial coefficient \\(\\binom{5}{3}\\):\n",
      "\n",
      "\\[\n",
      "\\binom{5}{3} = \\frac{5!}{3!(5 - 3)!} = \\frac{5 \\times 4 \\times 3!}{3! \\times 2!} = \\frac{20}{2} = 10\n",
      "\\]\n",
      "\n",
      "Next, compute \\(10^{5 - 3} = 10^2 = 100\\).\n",
      "\n",
      "Then, compute \\(\\left(-\\frac{1}{2}\\right)^3 = -\\frac{1}{8}\\).\n",
      "\n",
      "Now, multiply all these together:\n",
      "\n",
      "\\[\n",
      "10 \\times 100 \\times \\left(-\\frac{1}{8}\\right)\n",
      "\\]\n",
      "\n",
      "Let me compute this step by step.\n",
      "\n",
      "First, \\(10 \\times 100 = 1000\\).\n",
      "\n",
      "Then, \\(1000 \\times \\left(-\\frac{1}{8}\\right) = -\\frac{1000}{8} = -125\\).\n",
      "\n",
      "So, the coefficient is \\(-125\\), and the exponent of \\(x\\) is zero, so the constant term is \\(-125\\).\n",
      "\n",
      "Wait, let me double-check my calculations to make sure I didn't make a mistake.\n",
      "\n",
      "Starting with the binomial coefficient: \\(\\binom{5}{3}\\). Since \\(\\binom{n}{k} = \\binom{n}{n - k}\\), this is equal to \\(\\binom{5}{2}\\), which is \\(\\frac{5 \\times 4}{2 \\times 1} = 10\\). That's correct.\n",
      "\n",
      "Then, \\(10^{5 - 3} = 10^2 = 100\\). Correct.\n",
      "\n",
      "\\(\\left(-\\frac{1}{2}\\right)^3 = -\\frac{1}{8}\\). Correct.\n",
      "\n",
      "Multiplying them together: \\(10 \\times 100 = 1000\\), then \\(1000 \\times (-1/8) = -125\\). That seems right.\n",
      "\n",
      "So, the constant term is \\(-125\\).\n",
      "\n",
      "Wait, just to be thorough, let me write out the entire expansion to make sure that the constant term is indeed the third term (since \\(k\\) starts at 0). So, the expansion is:\n",
      "\n",
      "For \\(k = 0\\): \\(\\binom{5}{0}(10x^3)^5(-1/(2x^2))^0 = 1 \\times 10^5 x^{15} \\times 1 = 100000x^{15}\\)\n",
      "\n",
      "For \\(k = 1\\): \\(\\binom{5}{1}(10x^3)^4(-1/(2x^2))^1 = 5 \\times 10^4 x^{12} \\times (-1/2) x^{-2} = 5 \\times 10000 \\times (-1/2) x^{10} = 5 \\times 10000 \\times (-0.5) x^{10} = 5 \\times (-5000) x^{10} = -25000x^{10}\\)\n",
      "\n",
      "For \\(k = 2\\): \\(\\binom{5}{2}(10x^3)^3(-1/(2x^2))^2 = 10 \\times 10^3 x^9 \\times (1/4) x^{-4} = 10 \\times 1000 \\times (1/4) x^{5} = 10 \\times 250 x^{5} = 2500x^{5}\\)\n",
      "\n",
      "For \\(k = 3\\): \\(\\binom{5}{3}(10x^3)^2(-1/(2x^2))^3 = 10 \\times 10^2 x^6 \\times (-1/8) x^{-6} = 10 \\times 100 \\times (-1/8) x^{0} = 10 \\times (-12.5) = -125\\)\n",
      "\n",
      "For \\(k = 4\\): \\(\\binom{5}{4}(10x^3)^1(-1/(2x^2))^4 = 5 \\times 10 x^3 \\times (1/16) x^{-8} = 5 \\times 10 \\times (1/16) x^{-5} = 5 \\times (5/8) x^{-5} = 25/8 x^{-5}\\)\n",
      "\n",
      "For \\(k = 5\\): \\(\\binom{5}{5}(10x^3)^0(-1/(2x^2))^5 = 1 \\times 1 \\times (-1/32) x^{-10} = -1/32 x^{-10}\\)\n",
      "\n",
      "So, writing out all the terms:\n",
      "\n",
      "1. \\(100000x^{15}\\)\n",
      "2. \\(-25000x^{10}\\)\n",
      "3. \\(2500x^{5}\\)\n",
      "4. \\(-125\\)\n",
      "5. \\(25/8 x^{-5}\\)\n",
      "6. \\(-1/32 x^{-10}\\)\n",
      "\n",
      "So, the constant term is indeed the fourth term, which is \\(-125\\). That matches what I calculated earlier. So, I think that's correct.\n",
      "\n",
      "Just to make sure, let me think if there's another way to approach this problem, maybe using the general term formula or something else. Hmm, I think the binomial theorem is the most straightforward way here. Alternatively, I could have considered the exponents of \\(x\\) in each term and set them equal to zero to solve for \\(k\\), which is essentially what I did. So, that seems consistent.\n",
      "\n",
      "Another way could be to think about the exponents in the product. Each term in the expansion is a product of terms from the two factors, \\(10x^3\\) and \\(-1/(2x^2)\\). So, when you multiply them, the exponents add up. So, for each term, the exponent of \\(x\\) is \\(3k - 2k = k\\). Wait, no, that's not quite right. Wait, actually, each term is \\((10x^3)^{5 - k}\\) and \\(\\left(-\\frac{1}{2x^2}\\right)^k\\). So, the exponent of \\(x\\) in the first part is \\(3(5 - k)\\) and in the second part is \\(-2k\\). So, total exponent is \\(15 - 3k - 2k = 15 - 5k\\). So, setting that equal to zero gives \\(15 - 5k = 0\\), so \\(k = 3\\). So, that's another way to see it.\n",
      "\n",
      "So, that's consistent with what I did earlier. So, that's a good check.\n",
      "\n",
      "So, in conclusion, the constant term is \\(-125\\). I think that's the answer.\n",
      "\n",
      "**Final Answer**\n",
      "The constant term is \\boxed{-125}.\n",
      "</think>\n",
      "\n",
      "To find the constant term in the expansion of \\(\\left(10x^3 - \\frac{1}{2x^2}\\right)^5\\), we use the binomial theorem. Each term in the expansion is given by:\n",
      "\n",
      "\\[\n",
      "\\binom{5}{k} (10x^3)^{5 - k} \\left(-\\frac{1}{2x^2}\\right)^k\n",
      "\\]\n",
      "\n",
      "We need the exponent of \\(x\\) to be zero. The general term is:\n",
      "\n",
      "\\[\n",
      "\\binom{5}{k} \\cdot 10^{5 - k} \\cdot x^{15 - 3k} \\cdot \\left(-\\frac{1}{2}\\right)^k \\cdot x^{-2k}\n",
      "\\]\n",
      "\n",
      "Combining the exponents of \\(x\\):\n",
      "\n",
      "\\[\n",
      "x^{15 - 5k}\n",
      "\\]\n",
      "\n",
      "Setting the exponent equal to zero:\n",
      "\n",
      "\\[\n",
      "15 - 5k = 0 \\implies k = 3\n",
      "\\]\n",
      "\n",
      "Now, we compute the coefficient for \\(k = 3\\):\n",
      "\n",
      "1. Binomial coefficient: \\(\\binom{5}{3} = 10\\)\n",
      "2. Constant term: \\(10^{5 - 3} = 10^2 = 100\\)\n",
      "3. Power of \\(-\\frac{1}{2}\\): \\(\\left(-\\frac{1}{2}\\right)^3 = -\\frac{1}{8}\\)\n",
      "\n",
      "Multiplying these together:\n",
      "\n",
      "\\[\n",
      "10 \\times 100 \\times \\left(-\\frac{1}{8}\\right) = 10 \\times 100 \\times (-0.125) = -125\n",
      "\\]\n",
      "\n",
      "Thus, the constant term is \\(\\boxed{-125}\\).\n"
     ]
    }
   ],
   "source": [
    "print(generated_text_base)"
   ]
  },
  {
   "cell_type": "code",
   "execution_count": 7,
   "metadata": {},
   "outputs": [
    {
     "name": "stdout",
     "output_type": "stream",
     "text": [
      "Okay, so I need to find the constant term in the expansion of (10x³ - 1/(2x²))⁵. Hmm, let me think about how to approach this. I remember that when expanding a binomial like (a + b)^n, the general term is given by the combination formula: C(n, k) * a^(n - k) * b^k. So, in this case, a is 10x³ and b is -1/(2x²), and n is 5. \n",
      "\n",
      "First, I should write down the general term for this expansion. So, the term would be C(5, k) * (10x³)^(5 - k) * (-1/(2x²))^k. I need to find the term where the exponent of x is zero because that's the constant term. So, I need to find the value of k that makes the exponent of x in this term zero.\n",
      "\n",
      "Let me compute the exponent of x in each part. For (10x³)^(5 - k), the exponent of x is 3*(5 - k). For (-1/(2x²))^k, the exponent of x is -2*k. So, the total exponent of x in the term is 3*(5 - k) - 2*k. I need this to be zero. So, let me set up the equation:\n",
      "\n",
      "3*(5 - k) - 2*k = 0.\n",
      "\n",
      "Let me solve this equation step by step. First, expand 3*(5 - k): that's 15 - 3k. Then subtract 2k: 15 - 3k - 2k = 15 - 5k. So, 15 - 5k = 0. Solving for k: 15 = 5k, so k = 3. \n",
      "\n",
      "So, the constant term is when k = 3. Now, I need to compute that term. Let's plug k = 3 into the general term formula:\n",
      "\n",
      "C(5, 3) * (10x³)^(5 - 3) * (-1/(2x²))^3.\n",
      "\n",
      "First, compute C(5, 3). I know that C(n, k) is n! / (k! (n - k)!). So, C(5, 3) = 5! / (3! 2!) = (5*4*3!)/(3! 2*1) = (5*4)/2 = 20/2 = 10. So, C(5, 3) is 10.\n",
      "\n",
      "Next, compute (10x³)^(5 - 3) = (10x³)^2. That's 10² * x^(3*2) = 100x^6.\n",
      "\n",
      "Then, compute (-1/(2x²))^3. Let's break this down: (-1)^3 = -1, and (1/(2x²))^3 = 1/(8x^6). So, putting it together, (-1/(2x²))^3 = -1/(8x^6).\n",
      "\n",
      "Now, multiply all these together: 10 * 100x^6 * (-1/(8x^6)). Let's compute the constants first: 10 * 100 = 1000, and 1000 * (-1/8) = -1000/8 = -125. Then, the x terms: x^6 * 1/x^6 = x^(6 - 6) = x^0 = 1. So, the entire term is -125 * 1 = -125.\n",
      "\n",
      "Wait, so the constant term is -125? Let me double-check my calculations to make sure I didn't make a mistake. \n",
      "\n",
      "First, C(5, 3) is indeed 10. Then, (10x³)^2 is 100x^6. Then, (-1/(2x²))^3 is -1/(8x^6). Multiplying 10 * 100x^6 gives 1000x^6, and then multiplying by -1/(8x^6) gives 1000x^6 * (-1)/(8x^6) = (1000 * -1)/(8x^6 * x^6) = -1000/(8x^0) = -1000/8 = -125. Yes, that seems correct.\n",
      "\n",
      "Wait, but let me think again about the exponents. When I have (10x³)^2, that's 10² x^(3*2) = 100x^6. Then, (-1/(2x²))^3 is (-1)^3/(2^3 x^(2*3)) = -1/(8x^6). So, when I multiply 100x^6 * (-1/(8x^6)), the x^6 cancels out, giving 100*(-1/8) = -125. So, yes, that's correct.\n",
      "\n",
      "I think that's the correct answer. So, the constant term is -125. Let me just write that in the box as per the instructions.\n",
      "\n",
      "**Final Answer**\n",
      "The constant term is \\boxed{-125}.\n",
      "</think>\n",
      "\n",
      "To find the constant term in the expansion of \\(\\left(10x^3 - \\frac{1}{2x^2}\\right)^5\\), we use the general term formula for the binomial expansion: \\(C(5, k) \\cdot (10x^3)^{5 - k} \\cdot \\left(-\\frac{1}{2x^2}\\right)^k\\).\n",
      "\n",
      "We need to find the value of \\(k\\) such that the exponent of \\(x\\) in the term is zero. The exponent of \\(x\\) in the term is given by:\n",
      "\\[3(5 - k) - 2k = 0.\\]\n",
      "\n",
      "Solving this equation:\n",
      "\\[15 - 3k - 2k = 0 \\implies 15 - 5k = 0 \\implies k = 3.\\]\n",
      "\n",
      "Substituting \\(k = 3\\) into the general term formula:\n",
      "\\[C(5, 3) \\cdot (10x^3)^{2} \\cdot \\left(-\\frac{1}{2x^2}\\right)^3.\\]\n",
      "\n",
      "Calculating each part:\n",
      "- \\(C(5, 3) = 10\\)\n",
      "- \\((10x^3)^2 = 100x^6\\)\n",
      "- \\(\\left(-\\frac{1}{2x^2}\\right)^3 = -\\frac{1}{8x^6}\\)\n",
      "\n",
      "Multiplying these together:\n",
      "\\[10 \\cdot 100x^6 \\cdot \\left(-\\frac{1}{8x^6}\\right) = 10 \\cdot 100 \\cdot \\left(-\\frac{1}{8}\\right) \\cdot x^6 \\cdot x^{-6} = 10 \\cdot 100 \\cdot \\left(-\\frac{1}{8}\\right) \\cdot 1 = -125.\\]\n",
      "\n",
      "Thus, the constant term is \\(\\boxed{-125}\\).\n"
     ]
    }
   ],
   "source": [
    "print(generated_text_pos)"
   ]
  },
  {
   "cell_type": "code",
   "execution_count": 8,
   "metadata": {},
   "outputs": [],
   "source": [
    "# print(generated_text_neg)"
   ]
  },
  {
   "cell_type": "code",
   "execution_count": 9,
   "metadata": {},
   "outputs": [
    {
     "name": "stdout",
     "output_type": "stream",
     "text": [
      "asc tokens:  2719\n",
      "asc tokens:  1590\n"
     ]
    }
   ],
   "source": [
    "timestamp = datetime.datetime.now().strftime(\"%Y%m%d_%H%M%S\")\n",
    "filename=f'fractreason_GSM8K_{timestamp}.txt'\n",
    "\n",
    "from transformers import AutoTokenizer\n",
    "tokenizer = AutoTokenizer.from_pretrained(\n",
    "    \"/data/zju-46/shenyl/hf/model/deepseek-ai/DeepSeek-R1-Distill-Qwen-1.5B/\"\n",
    ")\n",
    "# filename=f'../../temp/fractreason_GSM8K_{timestamp}.txt'\n",
    "with open(filename, 'w', encoding='utf-8') as f:\n",
    "    f.write(\"=== Base ===\\n\")\n",
    "    f.write(generated_text_base + \"\\n\\n\")\n",
    "    f.write(\"=== Positive: Fast thinking ===\\n\")\n",
    "    f.write(generated_text_pos + \"\\n\\n\")\n",
    "    # f.write(\"=== Negative: Slow thinking ===\\n\")\n",
    "    # f.write(generated_text_neg + \"\\n\")\n",
    "    print(\"asc tokens: \", len(tokenizer.tokenize(output_base[0].outputs[0].text, add_special_tokens=True)))\n",
    "    print(\"asc tokens: \", len(tokenizer.tokenize(output_pos[0].outputs[0].text, add_special_tokens=True)))"
   ]
  }
 ],
 "metadata": {
  "kernelspec": {
   "display_name": "easysteer",
   "language": "python",
   "name": "python3"
  },
  "language_info": {
   "codemirror_mode": {
    "name": "ipython",
    "version": 3
   },
   "file_extension": ".py",
   "mimetype": "text/x-python",
   "name": "python",
   "nbconvert_exporter": "python",
   "pygments_lexer": "ipython3",
   "version": "3.10.18"
  }
 },
 "nbformat": 4,
 "nbformat_minor": 2
}
