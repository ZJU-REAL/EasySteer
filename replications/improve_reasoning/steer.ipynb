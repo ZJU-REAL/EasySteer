{
 "cells": [
  {
   "cell_type": "code",
   "execution_count": 1,
   "id": "b794d602-1a1d-45af-8b8a-d0c34f82d43a",
   "metadata": {},
   "outputs": [
    {
     "name": "stdout",
     "output_type": "stream",
     "text": [
      "INFO 07-17 20:30:21 [__init__.py:244] Automatically detected platform cuda.\n",
      "INFO 07-17 20:30:54 [config.py:841] This model supports multiple tasks: {'reward', 'generate', 'embed', 'classify'}. Defaulting to 'generate'.\n",
      "INFO 07-17 20:30:54 [config.py:1472] Using max model len 32768\n",
      "WARNING 07-17 20:30:56 [cuda.py:102] To see benefits of async output processing, enable CUDA graph. Since, enforce-eager is enabled, async output processor cannot be used\n",
      "INFO 07-17 20:30:56 [llm_engine.py:232] Initializing a V0 LLM engine (v0.1.dev7499+g2a4b294) with config: model='/home/xhl/huggingface_models/mistralai/Mistral-7B-Instruct-v0.1', speculative_config=None, tokenizer='/home/xhl/huggingface_models/mistralai/Mistral-7B-Instruct-v0.1', skip_tokenizer_init=False, tokenizer_mode=auto, revision=None, override_neuron_config={}, tokenizer_revision=None, trust_remote_code=False, dtype=torch.bfloat16, max_seq_len=32768, download_dir=None, load_format=auto, tensor_parallel_size=1, pipeline_parallel_size=1, disable_custom_all_reduce=False, quantization=None, enforce_eager=True, kv_cache_dtype=auto,  device_config=cuda, decoding_config=DecodingConfig(backend='auto', disable_fallback=False, disable_any_whitespace=False, disable_additional_properties=False, reasoning_backend=''), observability_config=ObservabilityConfig(show_hidden_metrics_for_version=None, otlp_traces_endpoint=None, collect_detailed_traces=None), seed=None, served_model_name=/home/xhl/huggingface_models/mistralai/Mistral-7B-Instruct-v0.1, num_scheduler_steps=1, multi_step_stream_outputs=True, enable_prefix_caching=None, chunked_prefill_enabled=False, use_async_output_proc=False, pooler_config=None, compilation_config={\"level\":0,\"debug_dump_path\":\"\",\"cache_dir\":\"\",\"backend\":\"\",\"custom_ops\":[],\"splitting_ops\":[],\"use_inductor\":true,\"compile_sizes\":[],\"inductor_compile_config\":{\"enable_auto_functionalized_v2\":false},\"inductor_passes\":{},\"use_cudagraph\":false,\"cudagraph_num_of_warmups\":0,\"cudagraph_capture_sizes\":[],\"cudagraph_copy_inputs\":false,\"full_cuda_graph\":false,\"max_capture_size\":0,\"local_cache_dir\":null}, use_cached_outputs=False, \n",
      "INFO 07-17 20:30:56 [cuda.py:351] Using Flash Attention backend.\n",
      "INFO 07-17 20:30:57 [parallel_state.py:1076] rank 0 in world size 1 is assigned as DP rank 0, PP rank 0, TP rank 0, EP rank 0\n",
      "INFO 07-17 20:30:57 [model_runner.py:1223] Starting to load model /home/xhl/huggingface_models/mistralai/Mistral-7B-Instruct-v0.1...\n"
     ]
    },
    {
     "data": {
      "application/vnd.jupyter.widget-view+json": {
       "model_id": "69c1034bc05e465e9952bfabb3431c9c",
       "version_major": 2,
       "version_minor": 0
      },
      "text/plain": [
       "Loading safetensors checkpoint shards:   0% Completed | 0/2 [00:00<?, ?it/s]\n"
      ]
     },
     "metadata": {},
     "output_type": "display_data"
    },
    {
     "name": "stdout",
     "output_type": "stream",
     "text": [
      "INFO 07-17 20:31:02 [default_loader.py:272] Loading weights took 4.19 seconds\n",
      "INFO 07-17 20:31:02 [model_runner.py:1255] Model loading took 13.4967 GiB and 4.400360 seconds\n",
      "INFO 07-17 20:31:07 [worker.py:295] Memory profiling takes 4.55 seconds\n",
      "INFO 07-17 20:31:07 [worker.py:295] the current vLLM instance can use total_gpu_memory (47.44GiB) x gpu_memory_utilization (0.90) = 42.69GiB\n",
      "INFO 07-17 20:31:07 [worker.py:295] model weights take 13.50GiB; non_torch_memory takes 0.06GiB; PyTorch activation peak memory takes 3.38GiB; the rest of the memory reserved for KV Cache is 25.76GiB.\n",
      "INFO 07-17 20:31:08 [executor_base.py:115] # cuda blocks: 13186, # CPU blocks: 2048\n",
      "INFO 07-17 20:31:08 [executor_base.py:120] Maximum concurrency for 32768 tokens per request: 6.44x\n",
      "INFO 07-17 20:31:10 [llm_engine.py:430] init engine (profile, create kv cache, warmup model) took 7.33 seconds\n"
     ]
    }
   ],
   "source": [
    "# Import necessary libraries\n",
    "import os\n",
    "from vllm import LLM, SamplingParams\n",
    "from vllm.steer_vectors.request import SteerVectorRequest, VectorConfig\n",
    "from transformers import AutoTokenizer\n",
    "\n",
    "# Set environment variables\n",
    "os.environ[\"VLLM_USE_V1\"] = \"0\"\n",
    "os.environ[\"CUDA_VISIBLE_DEVICES\"] = \"0\"\n",
    "\n",
    "# Initialize LLM with steering vector capability\n",
    "llm = LLM(\n",
    "    model=\"/home/xhl/huggingface_models/mistralai/Mistral-7B-Instruct-v0.1\",\n",
    "    enable_steer_vector=True,\n",
    "    enforce_eager=True,\n",
    "    tensor_parallel_size=1,\n",
    ")"
   ]
  },
  {
   "cell_type": "code",
   "execution_count": 2,
   "id": "45689f9b-99f0-481c-94aa-f7822c9290c1",
   "metadata": {},
   "outputs": [
    {
     "name": "stdout",
     "output_type": "stream",
     "text": [
      "<s> [INST] Solve the problem: A robe takes 2 bolts of blue fiber and half that much white fiber. How many bolts in total does it take? [/INST]\n"
     ]
    },
    {
     "data": {
      "application/vnd.jupyter.widget-view+json": {
       "model_id": "47305d453313470ba9aad6dc92a426e7",
       "version_major": 2,
       "version_minor": 0
      },
      "text/plain": [
       "Adding requests:   0%|          | 0/1 [00:00<?, ?it/s]"
      ]
     },
     "metadata": {},
     "output_type": "display_data"
    },
    {
     "data": {
      "application/vnd.jupyter.widget-view+json": {
       "model_id": "ad8e52781ead44cf95c9f32c438aad1c",
       "version_major": 2,
       "version_minor": 0
      },
      "text/plain": [
       "Processed prompts:   0%| | 0/1 [00:00<?, ?it/s, est. speed input: 0.00 toks/s, "
      ]
     },
     "metadata": {},
     "output_type": "display_data"
    },
    {
     "name": "stdout",
     "output_type": "stream",
     "text": [
      "=====Baseline=====\n",
      " To solve this problem, we need to add the amount of blue fiber and white fiber required for the robe.\n",
      "\n",
      "We know that:\n",
      "1 bolt of blue fiber = 1 bolt of white fiber\n",
      "\n",
      "So,\n",
      "2 bolts of blue fiber = 2 bolts of white fiber\n",
      "\n",
      "Therefore, the total number of bolts required for the robe is:\n",
      "\n",
      "2 bolts of blue fiber + 2 bolts of white fiber = 4 bolts in total\n",
      "\n",
      "So, it takes 4 bolts of fiber in total to make the robe.\n"
     ]
    }
   ],
   "source": [
    "# before steer: false\n",
    "messages = [\n",
    "    {\"role\": \"user\", \"content\": \"Solve the problem: A robe takes 2 bolts of blue fiber and half that much white fiber. How many bolts in total does it take?\"},\n",
    "]\n",
    "tokenizer = AutoTokenizer.from_pretrained(\"/home/xhl/huggingface_models/mistralai/Mistral-7B-Instruct-v0.1\")\n",
    "example = tokenizer.apply_chat_template(messages, tokenize=False, add_generation_prompt=True)\n",
    "print(example)\n",
    "# Generate baseline response without steering\n",
    "example_answers = llm.generate(\n",
    "    example,\n",
    "    SamplingParams(\n",
    "        temperature=0,\n",
    "        max_tokens=256,\n",
    "        skip_special_tokens=False,\n",
    "    ),\n",
    ")\n",
    "\n",
    "# Display baseline response\n",
    "print(\"=====Baseline=====\")\n",
    "print(example_answers[0].outputs[0].text)"
   ]
  },
  {
   "cell_type": "code",
   "execution_count": 3,
   "id": "6ec1baed-2674-4eb5-9c1f-00b4bc0f967c",
   "metadata": {},
   "outputs": [
    {
     "data": {
      "application/vnd.jupyter.widget-view+json": {
       "model_id": "f8c68b0e48844d87bcf680e9aa3ec618",
       "version_major": 2,
       "version_minor": 0
      },
      "text/plain": [
       "Adding requests:   0%|          | 0/1 [00:00<?, ?it/s]"
      ]
     },
     "metadata": {},
     "output_type": "display_data"
    },
    {
     "data": {
      "application/vnd.jupyter.widget-view+json": {
       "model_id": "f97dfa6ef45c4e7887feff65725f2d8c",
       "version_major": 2,
       "version_minor": 0
      },
      "text/plain": [
       "Processed prompts:   0%| | 0/1 [00:00<?, ?it/s, est. speed input: 0.00 toks/s, "
      ]
     },
     "metadata": {},
     "output_type": "display_data"
    },
    {
     "name": "stdout",
     "output_type": "stream",
     "text": [
      "=====steer=====\n",
      " It takes 3 bolts of fiber in total.\n",
      "\n",
      "Here's the reasoning:\n",
      "\n",
      "1. The robe requires 2 bolts of blue fiber.\n",
      "2. It also requires half that much white fiber, which means it needs 2/2 = 1 bolt of white fiber.\n",
      "3. To find the total number of bolts needed, we add the amount of blue and white fiber: 2 (blue) + 1 (white) = 3 bolts.\n",
      "\n",
      "Therefore, it takes 3 bolts of fiber in total to make the robe.\n"
     ]
    }
   ],
   "source": [
    "# after steer: true\n",
    "sv_request = SteerVectorRequest(\n",
    "    steer_vector_name=\"reason\",\n",
    "    steer_vector_id=1,\n",
    "    steer_vector_local_path=\"reason.gguf\", \n",
    "    prefill_trigger_tokens=[-1],\n",
    "    generate_trigger_tokens=[-1],\n",
    "    algorithm=\"direct\",\n",
    "    scale=1.0,\n",
    "    target_layers=list(range(16,20))\n",
    ")\n",
    "\n",
    "output = llm.generate(\n",
    "    example, \n",
    "    SamplingParams(\n",
    "        temperature=0,\n",
    "        max_tokens=256,\n",
    "        skip_special_tokens=False,\n",
    "    ), \n",
    "    steer_vector_request=sv_request\n",
    ")\n",
    "\n",
    "print(\"=====steer=====\")\n",
    "print(output[0].outputs[0].text)"
   ]
  },
  {
   "cell_type": "code",
   "execution_count": null,
   "id": "c0b65966-d5ce-4bbe-bab9-cce4724378f1",
   "metadata": {},
   "outputs": [],
   "source": []
  }
 ],
 "metadata": {
  "kernelspec": {
   "display_name": "Python 3 (ipykernel)",
   "language": "python",
   "name": "python3"
  },
  "language_info": {
   "codemirror_mode": {
    "name": "ipython",
    "version": 3
   },
   "file_extension": ".py",
   "mimetype": "text/x-python",
   "name": "python",
   "nbconvert_exporter": "python",
   "pygments_lexer": "ipython3",
   "version": "3.10.18"
  }
 },
 "nbformat": 4,
 "nbformat_minor": 5
}
