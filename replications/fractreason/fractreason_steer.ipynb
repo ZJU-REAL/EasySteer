{
 "cells": [
  {
   "cell_type": "code",
   "execution_count": 1,
   "metadata": {},
   "outputs": [
    {
     "name": "stderr",
     "output_type": "stream",
     "text": [
      "/home/meixinyu/anaconda3/envs/easysteer/lib/python3.10/site-packages/tqdm/auto.py:21: TqdmWarning: IProgress not found. Please update jupyter and ipywidgets. See https://ipywidgets.readthedocs.io/en/stable/user_install.html\n",
      "  from .autonotebook import tqdm as notebook_tqdm\n"
     ]
    },
    {
     "name": "stdout",
     "output_type": "stream",
     "text": [
      "INFO 07-13 22:14:43 [__init__.py:244] Automatically detected platform cuda.\n"
     ]
    }
   ],
   "source": [
    "import os\n",
    "import datetime\n",
    "\n",
    "from vllm.steer_vectors.request import SteerVectorRequest\n",
    "from vllm import LLM, SamplingParams\n",
    "\n",
    "from easysteer.steer import StatisticalControlVector\n",
    "from transformers import AutoTokenizer\n",
    "os.environ[\"CUDA_VISIBLE_DEVICES\"] = \"2\""
   ]
  },
  {
   "cell_type": "code",
   "execution_count": 2,
   "metadata": {},
   "outputs": [],
   "source": [
    "tokenizer = AutoTokenizer.from_pretrained(\n",
    "    \"/data/zju-46/shenyl/hf/model/Qwen/Qwen2.5-1.5B-Instruct/\"\n",
    ")"
   ]
  },
  {
   "cell_type": "code",
   "execution_count": 3,
   "metadata": {},
   "outputs": [
    {
     "name": "stdout",
     "output_type": "stream",
     "text": [
      "StatisticalControlVector(model_type='qwen2.5', method='pca', directions={0: memmap([-0.01113699, -0.06029188,  0.04215517, ..., -0.01189059,\n",
      "        -0.02577175, -0.01083255], shape=(1536,), dtype=float32), 1: memmap([ 0.02075267, -0.00759126,  0.01752456, ..., -0.01258039,\n",
      "        -0.03163083, -0.04065328], shape=(1536,), dtype=float32), 2: memmap([ 0.0100673 , -0.0234082 ,  0.02484847, ...,  0.06437913,\n",
      "        -0.01141085, -0.05111764], shape=(1536,), dtype=float32), 3: memmap([-0.01157416, -0.00161835,  0.04929598, ...,  0.02504394,\n",
      "        -0.02055443, -0.04532089], shape=(1536,), dtype=float32), 4: memmap([ 0.00013692,  0.01033693,  0.02944114, ...,  0.03095547,\n",
      "        -0.03417241, -0.00300148], shape=(1536,), dtype=float32), 5: memmap([-0.00319834,  0.04855272,  0.02122804, ..., -0.01298449,\n",
      "        -0.04043267, -0.03302082], shape=(1536,), dtype=float32), 6: memmap([ 0.01014982,  0.00519793,  0.03920706, ..., -0.01955185,\n",
      "         0.04191752,  0.01931267], shape=(1536,), dtype=float32), 7: memmap([-0.02254921,  0.00715113, -0.02151527, ..., -0.00314058,\n",
      "        -0.02238353,  0.0175124 ], shape=(1536,), dtype=float32), 8: memmap([ 1.3144190e-02, -7.0782881e-03,  6.5297284e-03, ...,\n",
      "        -7.1450646e-05, -6.7214891e-03,  2.3428479e-02],\n",
      "       shape=(1536,), dtype=float32), 9: memmap([-0.00225663, -0.02022968, -0.00601694, ..., -0.0236897 ,\n",
      "        -0.03319987,  0.01383019], shape=(1536,), dtype=float32), 10: memmap([ 0.00086837, -0.0197641 , -0.01993287, ...,  0.01880435,\n",
      "        -0.02191871, -0.00890514], shape=(1536,), dtype=float32), 11: memmap([ 0.00741485, -0.02444843, -0.0131005 , ..., -0.0151765 ,\n",
      "        -0.03233534, -0.00529655], shape=(1536,), dtype=float32), 12: memmap([ 0.03158704, -0.03410709, -0.00542008, ...,  0.00104163,\n",
      "        -0.01607641, -0.02445719], shape=(1536,), dtype=float32), 13: memmap([ 0.05233577, -0.04438298,  0.00406944, ..., -0.01784779,\n",
      "        -0.0037721 , -0.01715418], shape=(1536,), dtype=float32), 14: memmap([ 0.05186514, -0.01932542,  0.00252246, ..., -0.01237501,\n",
      "        -0.01459101, -0.00421204], shape=(1536,), dtype=float32), 15: memmap([-0.05455289,  0.05051601, -0.00688857, ...,  0.01381248,\n",
      "        -0.00321252,  0.00422581], shape=(1536,), dtype=float32), 16: memmap([ 0.03599788, -0.03590748, -0.00323645, ..., -0.0032061 ,\n",
      "         0.02082119, -0.01474718], shape=(1536,), dtype=float32), 17: memmap([-0.04262666, -0.00711582, -0.00625307, ...,  0.01175671,\n",
      "        -0.01215544,  0.03723372], shape=(1536,), dtype=float32), 18: memmap([-0.04585816,  0.00306178, -0.01297659, ..., -0.00305792,\n",
      "        -0.00994309,  0.04413055], shape=(1536,), dtype=float32), 19: memmap([-0.039946  , -0.02314533, -0.02098039, ..., -0.01522634,\n",
      "         0.00448464,  0.01194225], shape=(1536,), dtype=float32), 20: memmap([-0.04821034, -0.02140527, -0.01080096, ..., -0.00519562,\n",
      "         0.01915157, -0.01485435], shape=(1536,), dtype=float32), 21: memmap([-0.02767595, -0.02185604, -0.00863156, ...,  0.00671491,\n",
      "         0.0142521 , -0.01549987], shape=(1536,), dtype=float32), 22: memmap([-0.01308985, -0.03384792,  0.01180688, ...,  0.00963803,\n",
      "         0.02282149, -0.01995391], shape=(1536,), dtype=float32), 23: memmap([ 0.00880783,  0.01804949, -0.00596701, ..., -0.01492349,\n",
      "        -0.02796902,  0.02025161], shape=(1536,), dtype=float32), 24: memmap([ 0.0092469 ,  0.01851668, -0.01697692, ..., -0.02800106,\n",
      "        -0.00917359,  0.04203068], shape=(1536,), dtype=float32), 25: memmap([ 0.01184213,  0.0294338 , -0.02009223, ..., -0.04346138,\n",
      "        -0.00065824,  0.03649483], shape=(1536,), dtype=float32), 26: memmap([-0.02504126, -0.01971232,  0.0092842 , ...,  0.04440765,\n",
      "        -0.01844113, -0.03817479], shape=(1536,), dtype=float32), 27: memmap([-0.01583244, -0.01718741,  0.02761258, ...,  0.04307923,\n",
      "        -0.01892481, -0.05508045], shape=(1536,), dtype=float32)}, metadata={})\n"
     ]
    }
   ],
   "source": [
    "model_path = \"/data/zju-46/shenyl/hf/model/Qwen/Qwen2.5-1.5B-Instruct/\"\n",
    "# vector_path=\"/home/meixinyu/EasySteer/vectors/thinking_switch_pca_MATH-500.gguf\" #change to your path\n",
    "vector_path=\"MATH500.gguf\" #change to your path\n",
    "\n",
    "control_vector = StatisticalControlVector.import_gguf(vector_path)\n",
    "print(control_vector)"
   ]
  },
  {
   "cell_type": "code",
   "execution_count": 4,
   "metadata": {},
   "outputs": [],
   "source": [
    "steer_vector_request_pos = SteerVectorRequest(\n",
    "            steer_vector_name=\"thinking_switch_pos\",\n",
    "            steer_vector_id=1,\n",
    "            steer_vector_local_path=vector_path,\n",
    "            scale=2.0,\n",
    "            prefill_trigger_tokens=[-1],\n",
    "            prefill_trigger_positions=[-1],\n",
    "            generate_trigger_tokens=[-1],\n",
    "            debug=False,\n",
    "            algorithm='direct'\n",
    "        )\n",
    "steer_vector_request_neg = SteerVectorRequest(\n",
    "            steer_vector_name=\"thinking_switch_neg\",\n",
    "            steer_vector_id=2,\n",
    "            steer_vector_local_path=vector_path,\n",
    "            scale=-2.0,\n",
    "            prefill_trigger_tokens=[-1],\n",
    "            prefill_trigger_positions=[-1],\n",
    "            generate_trigger_tokens=[-1],\n",
    "            debug=False,\n",
    "            algorithm='direct'\n",
    "        )"
   ]
  },
  {
   "cell_type": "code",
   "execution_count": 5,
   "metadata": {},
   "outputs": [],
   "source": [
    "sampling_params = SamplingParams(temperature=0.0,max_tokens=4096)\n",
    "prompt_template = \"<|im_start|>user\\n%s<|im_end|>\\n<|im_start|>assistant\\n\"\n",
    "prompt = \"Find the greatest common divisor of $3339$, $2961$, and $1491$.\"\n",
    "# prompt = \"Darrell and Allen's ages are in the ratio of 7:11. If their total age now is 162, calculate Allen's age 10 years from now.\"\n",
    "input = prompt_template % prompt"
   ]
  },
  {
   "cell_type": "code",
   "execution_count": 6,
   "metadata": {},
   "outputs": [
    {
     "name": "stdout",
     "output_type": "stream",
     "text": [
      "INFO 07-13 22:14:52 [config.py:841] This model supports multiple tasks: {'classify', 'reward', 'embed', 'generate'}. Defaulting to 'generate'.\n",
      "INFO 07-13 22:14:52 [config.py:1472] Using max model len 32768\n",
      "WARNING 07-13 22:14:52 [arg_utils.py:1770] --enable-steer-vector is not supported by the V1 Engine. Falling back to V0. \n"
     ]
    },
    {
     "name": "stderr",
     "output_type": "stream",
     "text": [
      "2025-07-13 22:14:53,082\tINFO util.py:154 -- Missing packages: ['ipywidgets']. Run `pip install -U ipywidgets`, then restart the notebook server for rich notebook output.\n"
     ]
    },
    {
     "name": "stdout",
     "output_type": "stream",
     "text": [
      "WARNING 07-13 22:14:53 [cuda.py:102] To see benefits of async output processing, enable CUDA graph. Since, enforce-eager is enabled, async output processor cannot be used\n",
      "INFO 07-13 22:14:53 [llm_engine.py:232] Initializing a V0 LLM engine (v0.1.dev7499+g2a4b294.d20250712) with config: model='/data/zju-46/shenyl/hf/model/Qwen/Qwen2.5-1.5B-Instruct/', speculative_config=None, tokenizer='/data/zju-46/shenyl/hf/model/Qwen/Qwen2.5-1.5B-Instruct/', skip_tokenizer_init=False, tokenizer_mode=auto, revision=None, override_neuron_config={}, tokenizer_revision=None, trust_remote_code=False, dtype=torch.bfloat16, max_seq_len=32768, download_dir=None, load_format=auto, tensor_parallel_size=1, pipeline_parallel_size=1, disable_custom_all_reduce=False, quantization=None, enforce_eager=True, kv_cache_dtype=auto,  device_config=cuda, decoding_config=DecodingConfig(backend='auto', disable_fallback=False, disable_any_whitespace=False, disable_additional_properties=False, reasoning_backend=''), observability_config=ObservabilityConfig(show_hidden_metrics_for_version=None, otlp_traces_endpoint=None, collect_detailed_traces=None), seed=0, served_model_name=/data/zju-46/shenyl/hf/model/Qwen/Qwen2.5-1.5B-Instruct/, num_scheduler_steps=1, multi_step_stream_outputs=True, enable_prefix_caching=None, chunked_prefill_enabled=False, use_async_output_proc=False, pooler_config=None, compilation_config={\"level\":0,\"debug_dump_path\":\"\",\"cache_dir\":\"\",\"backend\":\"\",\"custom_ops\":[],\"splitting_ops\":[],\"use_inductor\":true,\"compile_sizes\":[],\"inductor_compile_config\":{\"enable_auto_functionalized_v2\":false},\"inductor_passes\":{},\"use_cudagraph\":true,\"cudagraph_num_of_warmups\":0,\"cudagraph_capture_sizes\":[],\"cudagraph_copy_inputs\":false,\"full_cuda_graph\":false,\"max_capture_size\":0,\"local_cache_dir\":null}, use_cached_outputs=False, \n",
      "INFO 07-13 22:14:53 [cuda.py:351] Using Flash Attention backend.\n",
      "INFO 07-13 22:14:54 [parallel_state.py:1076] rank 0 in world size 1 is assigned as DP rank 0, PP rank 0, TP rank 0, EP rank 0\n",
      "INFO 07-13 22:14:54 [model_runner.py:1223] Starting to load model /data/zju-46/shenyl/hf/model/Qwen/Qwen2.5-1.5B-Instruct/...\n"
     ]
    },
    {
     "name": "stderr",
     "output_type": "stream",
     "text": [
      "Loading safetensors checkpoint shards:   0% Completed | 0/1 [00:00<?, ?it/s]\n",
      "Loading safetensors checkpoint shards: 100% Completed | 1/1 [00:00<00:00,  1.08it/s]\n",
      "Loading safetensors checkpoint shards: 100% Completed | 1/1 [00:00<00:00,  1.08it/s]\n"
     ]
    },
    {
     "name": "stdout",
     "output_type": "stream",
     "text": [
      "INFO 07-13 22:14:56 [default_loader.py:272] Loading weights took 1.03 seconds\n",
      "INFO 07-13 22:14:56 [model_runner.py:1255] Model loading took 2.8876 GiB and 1.185043 seconds\n"
     ]
    },
    {
     "name": "stderr",
     "output_type": "stream",
     "text": [
      "\n"
     ]
    },
    {
     "name": "stdout",
     "output_type": "stream",
     "text": [
      "INFO 07-13 22:14:58 [worker.py:295] Memory profiling takes 1.42 seconds\n",
      "INFO 07-13 22:14:58 [worker.py:295] the current vLLM instance can use total_gpu_memory (47.44GiB) x gpu_memory_utilization (0.90) = 42.69GiB\n",
      "INFO 07-13 22:14:58 [worker.py:295] model weights take 2.89GiB; non_torch_memory takes 0.08GiB; PyTorch activation peak memory takes 2.05GiB; the rest of the memory reserved for KV Cache is 37.68GiB.\n",
      "INFO 07-13 22:14:58 [executor_base.py:115] # cuda blocks: 88185, # CPU blocks: 9362\n",
      "INFO 07-13 22:14:58 [executor_base.py:120] Maximum concurrency for 32768 tokens per request: 43.06x\n",
      "INFO 07-13 22:15:03 [llm_engine.py:430] init engine (profile, create kv cache, warmup model) took 6.49 seconds\n"
     ]
    },
    {
     "name": "stderr",
     "output_type": "stream",
     "text": [
      "Adding requests: 100%|██████████| 1/1 [00:00<00:00, 236.06it/s]\n",
      "Processed prompts: 100%|██████████| 1/1 [00:13<00:00, 13.68s/it, est. speed input: 2.41 toks/s, output: 46.65 toks/s]\n",
      "Adding requests: 100%|██████████| 1/1 [00:00<00:00, 1175.53it/s]\n",
      "Processed prompts: 100%|██████████| 1/1 [00:15<00:00, 15.42s/it, est. speed input: 2.14 toks/s, output: 35.34 toks/s]\n",
      "Adding requests: 100%|██████████| 1/1 [00:00<00:00, 1186.51it/s]\n",
      "Processed prompts: 100%|██████████| 1/1 [00:12<00:00, 12.66s/it, est. speed input: 2.61 toks/s, output: 32.79 toks/s]\n"
     ]
    }
   ],
   "source": [
    "llm = LLM(model=model_path, enable_steer_vector=True, tensor_parallel_size=1,enforce_eager=True)\n",
    "output_base = llm.generate(\n",
    "    input,\n",
    "    sampling_params\n",
    ")\n",
    "generated_text_base = output_base[0].outputs[0].text\n",
    "\n",
    "output_pos = llm.generate(\n",
    "                input,\n",
    "                sampling_params,\n",
    "                steer_vector_request=steer_vector_request_pos\n",
    "            )\n",
    "generated_text_pos = output_pos[0].outputs[0].text\n",
    "\n",
    "output_neg = llm.generate(\n",
    "                input,\n",
    "                sampling_params,\n",
    "                steer_vector_request=steer_vector_request_neg\n",
    "            )\n",
    "generated_text_neg = output_neg[0].outputs[0].text"
   ]
  },
  {
   "cell_type": "code",
   "execution_count": 7,
   "metadata": {},
   "outputs": [
    {
     "name": "stdout",
     "output_type": "stream",
     "text": [
      "To find the greatest common divisor (GCD) of the numbers 3339, 2961, and 1491, we will use the Euclidean algorithm. The Euclidean algorithm involves repeated division and taking remainders until we reach a remainder of 0. The last non-zero remainder is the GCD.\n",
      "\n",
      "First, we find the GCD of 3339 and 2961.\n",
      "\n",
      "1. Divide 3339 by 2961 and find the remainder:\n",
      "   \\[\n",
      "   3339 = 2961 \\cdot 1 + 378\n",
      "   \\]\n",
      "   So, the remainder is 378.\n",
      "\n",
      "2. Now, we need to find the GCD of 2961 and 378. Divide 2961 by 378:\n",
      "   \\[\n",
      "   2961 = 378 \\cdot 7 + 255\n",
      "   \\]\n",
      "   So, the remainder is 255.\n",
      "\n",
      "3. Next, we find the GCD of 378 and 255. Divide 378 by 255:\n",
      "   \\[\n",
      "   378 = 255 \\cdot 1 + 123\n",
      "   \\]\n",
      "   So, the remainder is 123.\n",
      "\n",
      "4. Now, we find the GCD of 255 and 123. Divide 255 by 123:\n",
      "   \\[\n",
      "   255 = 123 \\cdot 2 + 0\n",
      "   \\]\n",
      "   So, the remainder is 0. The last non-zero remainder is 123.\n",
      "\n",
      "Thus, the GCD of 3339 and 2961 is 123.\n",
      "\n",
      "Next, we need to find the GCD of 123 and 1491.\n",
      "\n",
      "1. Divide 1491 by 123:\n",
      "   \\[\n",
      "   1491 = 123 \\cdot 12 + 15\n",
      "   \\]\n",
      "   So, the remainder is 15.\n",
      "\n",
      "2. Now, we find the GCD of 123 and 15. Divide 123 by 15:\n",
      "   \\[\n",
      "   123 = 15 \\cdot 8 + 3\n",
      "   \\]\n",
      "   So, the remainder is 3.\n",
      "\n",
      "3. Next, we find the GCD of 15 and 3. Divide 15 by 3:\n",
      "   \\[\n",
      "   15 = 3 \\cdot 5 + 0\n",
      "   \\]\n",
      "   So, the remainder is 0. The last non-zero remainder is 3.\n",
      "\n",
      "Thus, the GCD of 123 and 1491 is 3.\n",
      "\n",
      "Therefore, the greatest common divisor of 3339, 2961, and 1491 is \\(\\boxed{3}\\).\n"
     ]
    }
   ],
   "source": [
    "print(generated_text_base)"
   ]
  },
  {
   "cell_type": "code",
   "execution_count": 8,
   "metadata": {},
   "outputs": [
    {
     "name": "stdout",
     "output_type": "stream",
     "text": [
      "To find the greatest common divisor (GCD) of the numbers 3339, 2961, and 1491, we can use the Euclidean algorithm, which involves repeated division and taking remainders. Let's start by finding the GCD of 3339 and 2961, and then use that result to find the GCD with 1491.\n",
      "\n",
      "First, we find the GCD of 3339 and 2961 using the Euclidean algorithm:\n",
      "1. Divide 3339 by 2961 and find the remainder:\n",
      "   \\[\n",
      "   3339 = 2961 \\cdot 1 + 378\n",
      "   \\]\n",
      "   So, the remainder is 378.\n",
      "2. Now, divide 2961 by 378:\n",
      "   \\[\n",
      "   2961 = 378 \\cdot 7 + 285\n",
      "   \\]\n",
      "   So, the remainder is 285.\n",
      "3. Next, divide 378 by 285:\n",
      "   \\[\n",
      "   378 = 285 \\cdot 1 + 93\n",
      "   \\]\n",
      "   So, the remainder is 93.\n",
      "4. Now, divide 285 by 93:\n",
      "   \\[\n",
      "   285 = 93 \\cdot 3 + 18\n",
      "   \\]\n",
      "   So, the remainder is 18.\n",
      "5. Finally, divide 93 by 18:\n",
      "   \\[\n",
      "   93 = 18 \\cdot 5 + 3\n",
      "   \\]\n",
      "   So, the remainder is 3.\n",
      "6. Now, divide 18 by 3:\n",
      "   \\[\n",
      "   18 = 3 \\cdot 6 + 0\n",
      "   \\]\n",
      "   So, the remainder is 0.\n",
      "\n",
      "Since the remainder is now 0, the GCD of 3339 and 2961 is the last non-zero remainder, which is 3.\n",
      "\n",
      "Next, we need to find the GCD of 3 and 1491. Since 3 is a prime number and it divides 1491 (as \\(1491 = 3 \\cdot 497\\)), the GCD of 3 and 1491 is 3.\n",
      "\n",
      "Therefore, the greatest common divisor of 3339, 2961, and 1491 is \\(\\boxed{3}\\).\n"
     ]
    }
   ],
   "source": [
    "print(generated_text_pos)"
   ]
  },
  {
   "cell_type": "code",
   "execution_count": 9,
   "metadata": {},
   "outputs": [
    {
     "name": "stdout",
     "output_type": "stream",
     "text": [
      "To find the greatest common divisor (GCD) of the numbers 3339, 2961, and 1491, we will use the Euclidean algorithm. The Euclidean algorithm involves repeated division and taking remainders until we reach a remainder of zero. The last non-zero remainder is the GCD.\n",
      "\n",
      "First, we find the GCD of 3339 and 2961. We start by dividing 3339 by 2961 and finding the remainder:\n",
      "\\[3339 = 2961 \\cdot 1 + 378.\\]\n",
      "So, the remainder is 378. Next, we divide 2961 by 378:\n",
      "\\[2961 = 378 \\cdot 7 + 255.\\]\n",
      "So, the remainder is 255. Next, we divide 378 by 255:\n",
      "\\[378 = 255 \\cdot 1 + 123.\\]\n",
      "So, the remainder is 123. Next, we divide 255 by 123:\n",
      "\\[255 = 123 \\cdot 2 + 0.\\]\n",
      "So, the remainder is 0. Therefore, the GCD of 3339 and 2961 is 123.\n",
      "\n",
      "Next, we need to find the GCD of 123 and 1491. We start by dividing 1491 by 123:\n",
      "\\[1491 = 123 \\cdot 12 + 0.\\]\n",
      "So, the remainder is 0. Therefore, the GCD of 123 and 1491 is 123.\n",
      "\n",
      "Thus, the GCD of 3339, 2961, and 1491 is \\(\\boxed{123}\\).\n"
     ]
    }
   ],
   "source": [
    "print(generated_text_neg)"
   ]
  },
  {
   "cell_type": "code",
   "execution_count": 10,
   "metadata": {},
   "outputs": [
    {
     "name": "stdout",
     "output_type": "stream",
     "text": [
      "1419\n",
      "1249\n",
      "952\n"
     ]
    }
   ],
   "source": [
    "timestamp = datetime.datetime.now().strftime(\"%Y%m%d_%H%M%S\")\n",
    "filename=f'fractreason_GSM8K_{timestamp}.txt'\n",
    "# filename=f'../../temp/fractreason_GSM8K_{timestamp}.txt'\n",
    "with open(filename, 'w', encoding='utf-8') as f:\n",
    "    f.write(\"=== Base ===\\n\")\n",
    "    f.write(generated_text_base + \"\\n\\n\")\n",
    "\n",
    "    f.write(\"=== Positive: Slow thinking ===\\n\")\n",
    "    f.write(generated_text_pos + \"\\n\\n\")\n",
    "\n",
    "    f.write(\"=== Negative: Fast thinking ===\\n\")\n",
    "    f.write(generated_text_neg + \"\\n\")\n"
   ]
  }
 ],
 "metadata": {
  "kernelspec": {
   "display_name": "easysteer",
   "language": "python",
   "name": "python3"
  },
  "language_info": {
   "codemirror_mode": {
    "name": "ipython",
    "version": 3
   },
   "file_extension": ".py",
   "mimetype": "text/x-python",
   "name": "python",
   "nbconvert_exporter": "python",
   "pygments_lexer": "ipython3",
   "version": "3.10.18"
  }
 },
 "nbformat": 4,
 "nbformat_minor": 2
}
