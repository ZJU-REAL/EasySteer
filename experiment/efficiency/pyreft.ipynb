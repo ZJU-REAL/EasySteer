{
 "cells": [
  {
   "cell_type": "code",
   "execution_count": null,
   "id": "640a14d4-6a46-4502-88be-7a0cac904860",
   "metadata": {},
   "outputs": [],
   "source": [
    "import json\n",
    "file_path = \"/home/xhl/eval/my_eval/data/math/train.jsonl\"\n",
    "\n",
    "problems = []\n",
    "answers = []\n",
    "\n",
    "with open(file_path, \"r\", encoding=\"utf-8\") as f:\n",
    "    for line in f:\n",
    "        item = json.loads(line)\n",
    "        problems.append(item[\"problem\"])\n",
    "        answers.append(item[\"answer\"])\n",
    "examples = [\"Please reason step by step, and put your final answer within \\\\boxed{}.\\nUser: \" + prompt + \"\\nAssistant: <think>\" for prompt in problems]"
   ]
  },
  {
   "cell_type": "code",
   "execution_count": null,
   "id": "49fdef79-98b6-4487-b063-952613653cab",
   "metadata": {},
   "outputs": [],
   "source": [
    "import os\n",
    "import torch\n",
    "import transformers\n",
    "import easysteer.reft.pyreft as pyreft\n",
    "import time\n",
    "# Set GPU device\n",
    "os.environ[\"CUDA_VISIBLE_DEVICES\"] = \"2\"\n",
    "device = \"cuda\"\n",
    "\n",
    "model_name_or_path = \"/data/zju-46/shenyl/hf/model/deepseek-ai/DeepSeek-R1-Distill-Qwen-1.5B/\"\n",
    "reft_save_dir = \"./speed_test\"\n",
    "\n",
    "model = transformers.AutoModelForCausalLM.from_pretrained(\n",
    "    model_name_or_path, torch_dtype=torch.bfloat16, device_map=device\n",
    ")\n",
    "tokenizer = transformers.AutoTokenizer.from_pretrained(\n",
    "    model_name_or_path, padding_side=\"left\", use_fast=False\n",
    ")\n",
    "tokenizer.pad_token = tokenizer.eos_token\n",
    "\n",
    "reft_model = pyreft.ReftModel.load(reft_save_dir, model)\n",
    "reft_model.set_device(device)\n",
    "reft_model.eval()\n",
    "\n",
    "# 单样本文本\n",
    "input_texts = []\n",
    "for i in range(10):\n",
    "    text = examples[i] \n",
    "    inputs = tokenizer(text, return_tensors=\"pt\").to(device)\n",
    "    input_dict = {\n",
    "        \"input_ids\": inputs[\"input_ids\"],\n",
    "        \"attention_mask\": inputs[\"attention_mask\"],\n",
    "    }\n",
    "    input_texts.append(input_dict)\n",
    "tokens = 0\n",
    "time1 = time.time()\n",
    "for i in range(10):\n",
    "    # 干预整段提示的所有位置\n",
    "    # seq_len = input_texts[i][\"input_ids\"].shape[1]\n",
    "    # unit_locations = {\"base\": list(range(seq_len))}\n",
    "    # 生成（仅在提示阶段干预）\n",
    "    _, generated = reft_model.generate(\n",
    "        input_texts[i],\n",
    "        # unit_locations=unit_locations,\n",
    "        intervene_on_prompt=False,\n",
    "        max_new_tokens=2048,\n",
    "        do_sample=False,\n",
    "        eos_token_id=tokenizer.eos_token_id,\n",
    "        early_stopping=True,\n",
    "    )\n",
    "    # 计算总生成 token 数（逐样本：输出有效长度 - 输入长度）\n",
    "    input_lens = input_texts[i][\"attention_mask\"].sum(dim=1).to(generated.device)\n",
    "    out_valid_lens = (generated != tokenizer.pad_token_id).sum(dim=1) \n",
    "    new_tokens_per_seq = (out_valid_lens - input_lens).clamp(min=0)\n",
    "    tokens+=new_tokens_per_seq\n",
    "time2 = time.time()"
   ]
  },
  {
   "cell_type": "code",
   "execution_count": null,
   "id": "a913ede5-7f52-499c-976d-9962e01e1461",
   "metadata": {},
   "outputs": [],
   "source": [
    "print(tokens)\n",
    "print(f\"{(time2 - time1)/10:.8f}s/req\")\n",
    "toks_per_sec = tokens[0] / (time2 - time1) if time2 - time1 > 0 else 0\n",
    "print(f\"output toks/s: {toks_per_sec:.2f}\")"
   ]
  },
  {
   "cell_type": "code",
   "execution_count": null,
   "id": "15448cb5-cf04-4775-8fa2-a1a80daa761a",
   "metadata": {},
   "outputs": [],
   "source": []
  }
 ],
 "metadata": {
  "kernelspec": {
   "display_name": "Python 3 (ipykernel)",
   "language": "python",
   "name": "python3"
  },
  "language_info": {
   "codemirror_mode": {
    "name": "ipython",
    "version": 3
   },
   "file_extension": ".py",
   "mimetype": "text/x-python",
   "name": "python",
   "nbconvert_exporter": "python",
   "pygments_lexer": "ipython3",
   "version": "3.10.18"
  }
 },
 "nbformat": 4,
 "nbformat_minor": 5
}
