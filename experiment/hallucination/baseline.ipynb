{
 "cells": [
  {
   "cell_type": "code",
   "execution_count": null,
   "id": "fc9f2586-e7c0-42d6-b26d-f935b0a2042d",
   "metadata": {},
   "outputs": [],
   "source": [
    "# Import necessary libraries\n",
    "import os\n",
    "from vllm import LLM, SamplingParams\n",
    "from vllm.steer_vectors.request import SteerVectorRequest, VectorConfig\n",
    "from transformers import AutoTokenizer\n",
    "\n",
    "# Set environment variables\n",
    "os.environ[\"VLLM_USE_V1\"] = \"0\"\n",
    "os.environ[\"CUDA_VISIBLE_DEVICES\"] = \"2\"\n",
    "\n",
    "# Initialize LLM with steering vector capability\n",
    "llm = LLM(\n",
    "    model=\"/data/zju-46/shenyl/hf/model/Qwen/Qwen2.5-1.5B-Instruct/\",\n",
    "    enable_steer_vector=True,\n",
    "    enforce_eager=True,\n",
    "    tensor_parallel_size=1\n",
    ")"
   ]
  },
  {
   "cell_type": "markdown",
   "id": "992769ba-6704-40d6-81b3-785c59d552b5",
   "metadata": {},
   "source": [
    "# Multiple Choice Mode"
   ]
  },
  {
   "cell_type": "code",
   "execution_count": null,
   "id": "2e2a0dd9-8c12-4322-9480-b8023946cb39",
   "metadata": {},
   "outputs": [],
   "source": [
    "import json\n",
    "\n",
    "# 读取 JSON 文件\n",
    "with open(\"mc_task.json\", \"r\", encoding=\"utf-8\") as f:\n",
    "    data = json.load(f)\n",
    "\n",
    "tests = []\n",
    "\n",
    "for item in data:\n",
    "    question = item[\"question\"]\n",
    "    options = list(item[\"mc1_targets\"].keys())\n",
    "    # 找到正确答案（值为 1 的那个选项）\n",
    "    correct_answer = [k for k, v in item[\"mc1_targets\"].items() if v == 1][0]\n",
    "\n",
    "    # 构造选项文本（动态字母序列）\n",
    "    options_text = \"\\n\".join([f\"{chr(65+i)}: {opt}\" for i, opt in enumerate(options)])\n",
    "\n",
    "    # 拼接最终格式\n",
    "    test_str = f\"\"\"<|im_start|>user\n",
    "Question: {question}\n",
    "{options_text}\n",
    "Which one is correct?\n",
    "<|im_end|>\\n<|im_start|>assistant\\n\"\"\"\n",
    "\n",
    "    tests.append(test_str)\n",
    "\n",
    "# 示例打印前 1 个\n",
    "print(tests[0])\n"
   ]
  },
  {
   "cell_type": "code",
   "execution_count": null,
   "id": "02fc3f5d-a804-44a2-9c9b-fa5ceb32b962",
   "metadata": {},
   "outputs": [],
   "source": [
    "example_answers = llm.generate(\n",
    "    tests,\n",
    "    SamplingParams(\n",
    "        temperature=0,\n",
    "        max_tokens=1024,\n",
    "        skip_special_tokens=False,\n",
    "    ),\n",
    ")"
   ]
  },
  {
   "cell_type": "code",
   "execution_count": null,
   "id": "909a219e-60e8-453a-ac1f-9a66e9421a92",
   "metadata": {
    "scrolled": true
   },
   "outputs": [],
   "source": [
    "answers = [ans.outputs[0].text for ans in example_answers]\n",
    "\n",
    "# 存成 JSON 文件\n",
    "with open(\"answers.json\", \"w\", encoding=\"utf-8\") as f:\n",
    "    json.dump(answers, f, ensure_ascii=False, indent=2)\n",
    "\n",
    "# 打印前 20 个\n",
    "for ans in loaded_answers[:20]:\n",
    "    print(ans)"
   ]
  },
  {
   "cell_type": "markdown",
   "id": "89be88fd-ed22-4890-bb4b-e2ae1ba3f499",
   "metadata": {},
   "source": [
    "# QA Mode"
   ]
  },
  {
   "cell_type": "code",
   "execution_count": null,
   "id": "9b759f7c-a5aa-455e-a855-98ab2cf122b7",
   "metadata": {},
   "outputs": [],
   "source": [
    "import json\n",
    "\n",
    "# 读取 JSON 文件\n",
    "with open(\"mc_task.json\", \"r\", encoding=\"utf-8\") as f:\n",
    "    data = json.load(f)\n",
    "\n",
    "tests = []\n",
    "\n",
    "for item in data:\n",
    "    question = item[\"question\"]\n",
    "    test_str = f\"\"\"<|im_start|>user\n",
    "Given a question, generate a 1-2 sentence answer.\n",
    "Question: {question}\n",
    "<|im_end|>\\n<|im_start|>assistant\\n\"\"\"\n",
    "\n",
    "    tests.append(test_str)"
   ]
  },
  {
   "cell_type": "code",
   "execution_count": null,
   "id": "242d2f44-421e-477b-a3b2-3872c5fef4fc",
   "metadata": {},
   "outputs": [],
   "source": [
    "example_answers = llm.generate(\n",
    "    tests,\n",
    "    SamplingParams(\n",
    "        temperature=0,\n",
    "        max_tokens=256,\n",
    "        skip_special_tokens=False,\n",
    "    ),\n",
    ")"
   ]
  },
  {
   "cell_type": "code",
   "execution_count": null,
   "id": "b6433d75-9c20-4f84-9df3-7b81971d4df7",
   "metadata": {
    "scrolled": true
   },
   "outputs": [],
   "source": [
    "answers = [ans.outputs[0].text for ans in example_answers]\n",
    "\n",
    "# 存成 JSON 文件\n",
    "with open(\"qa_answers.json\", \"w\", encoding=\"utf-8\") as f:\n",
    "    json.dump(answers, f, ensure_ascii=False, indent=2)"
   ]
  },
  {
   "cell_type": "code",
   "execution_count": null,
   "id": "ccca4e38-17b9-489a-852a-c9e0067fca26",
   "metadata": {},
   "outputs": [],
   "source": []
  }
 ],
 "metadata": {
  "kernelspec": {
   "display_name": "Python 3 (ipykernel)",
   "language": "python",
   "name": "python3"
  },
  "language_info": {
   "codemirror_mode": {
    "name": "ipython",
    "version": 3
   },
   "file_extension": ".py",
   "mimetype": "text/x-python",
   "name": "python",
   "nbconvert_exporter": "python",
   "pygments_lexer": "ipython3",
   "version": "3.10.18"
  }
 },
 "nbformat": 4,
 "nbformat_minor": 5
}
