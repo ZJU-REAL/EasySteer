{
 "cells": [
  {
   "cell_type": "code",
   "execution_count": null,
   "id": "a9fb9144",
   "metadata": {},
   "outputs": [],
   "source": [
    "import os\n",
    "from vllm import LLM, SamplingParams\n",
    "from vllm.steer_vectors.request import SteerVectorRequest, VectorConfig\n",
    "from transformers import AutoTokenizer"
   ]
  },
  {
   "cell_type": "code",
   "execution_count": null,
   "id": "f82abfe4",
   "metadata": {},
   "outputs": [
    {
     "name": "stdout",
     "output_type": "stream",
     "text": [
      "INFO 07-23 16:54:45 [config.py:841] This model supports multiple tasks: {'embed', 'reward', 'generate', 'classify'}. Defaulting to 'generate'.\n",
      "INFO 07-23 16:54:45 [config.py:1472] Using max model len 32768\n",
      "WARNING 07-23 16:54:45 [cuda.py:102] To see benefits of async output processing, enable CUDA graph. Since, enforce-eager is enabled, async output processor cannot be used\n",
      "INFO 07-23 16:54:45 [llm_engine.py:232] Initializing a V0 LLM engine (v0.1.dev7503+gfc71f0f) with config: model='/data/zju-46/shenyl/hf/model/Qwen/Qwen2.5-1.5B-Instruct/', speculative_config=None, tokenizer='/data/zju-46/shenyl/hf/model/Qwen/Qwen2.5-1.5B-Instruct/', skip_tokenizer_init=False, tokenizer_mode=auto, revision=None, override_neuron_config={}, tokenizer_revision=None, trust_remote_code=False, dtype=torch.bfloat16, max_seq_len=32768, download_dir=None, load_format=LoadFormat.AUTO, tensor_parallel_size=1, pipeline_parallel_size=1, disable_custom_all_reduce=False, quantization=None, enforce_eager=True, kv_cache_dtype=auto,  device_config=cuda, decoding_config=DecodingConfig(backend='auto', disable_fallback=False, disable_any_whitespace=False, disable_additional_properties=False, reasoning_backend=''), observability_config=ObservabilityConfig(show_hidden_metrics_for_version=None, otlp_traces_endpoint=None, collect_detailed_traces=None), seed=None, served_model_name=/data/zju-46/shenyl/hf/model/Qwen/Qwen2.5-1.5B-Instruct/, num_scheduler_steps=1, multi_step_stream_outputs=True, enable_prefix_caching=None, chunked_prefill_enabled=False, use_async_output_proc=False, pooler_config=None, compilation_config={\"level\":0,\"debug_dump_path\":\"\",\"cache_dir\":\"\",\"backend\":\"\",\"custom_ops\":[],\"splitting_ops\":[],\"use_inductor\":true,\"compile_sizes\":[],\"inductor_compile_config\":{\"enable_auto_functionalized_v2\":false},\"inductor_passes\":{},\"use_cudagraph\":false,\"cudagraph_num_of_warmups\":0,\"cudagraph_capture_sizes\":[],\"cudagraph_copy_inputs\":false,\"full_cuda_graph\":false,\"max_capture_size\":0,\"local_cache_dir\":null}, use_cached_outputs=False, \n",
      "INFO 07-23 16:54:46 [model_runner.py:1223] Starting to load model /data/zju-46/shenyl/hf/model/Qwen/Qwen2.5-1.5B-Instruct/...\n"
     ]
    },
    {
     "data": {
      "application/vnd.jupyter.widget-view+json": {
       "model_id": "68b355d1b90a4cebbb77823d5a47310c",
       "version_major": 2,
       "version_minor": 0
      },
      "text/plain": [
       "Loading safetensors checkpoint shards:   0% Completed | 0/1 [00:00<?, ?it/s]\n"
      ]
     },
     "metadata": {},
     "output_type": "display_data"
    },
    {
     "name": "stdout",
     "output_type": "stream",
     "text": [
      "INFO 07-23 16:54:48 [default_loader.py:272] Loading weights took 1.41 seconds\n",
      "INFO 07-23 16:54:49 [model_runner.py:1255] Model loading took 2.8793 GiB and 1.529148 seconds\n",
      "INFO 07-23 16:54:50 [worker.py:295] Memory profiling takes 1.16 seconds\n",
      "INFO 07-23 16:54:50 [worker.py:295] the current vLLM instance can use total_gpu_memory (47.44GiB) x gpu_memory_utilization (0.90) = 42.69GiB\n",
      "INFO 07-23 16:54:50 [worker.py:295] model weights take 2.88GiB; non_torch_memory takes 0.00GiB; PyTorch activation peak memory takes 2.02GiB; the rest of the memory reserved for KV Cache is 37.80GiB.\n",
      "INFO 07-23 16:54:51 [executor_base.py:115] # cuda blocks: 88470, # CPU blocks: 9362\n",
      "INFO 07-23 16:54:51 [executor_base.py:120] Maximum concurrency for 32768 tokens per request: 43.20x\n",
      "INFO 07-23 16:54:51 [llm_engine.py:430] init engine (profile, create kv cache, warmup model) took 1.85 seconds\n"
     ]
    }
   ],
   "source": [
    "# 设置环境变量\n",
    "os.environ[\"VLLM_USE_V1\"] = \"0\"\n",
    "os.environ[\"CUDA_VISIBLE_DEVICES\"] = \"1\"\n",
    "# 模型路径\n",
    "model_path = \"/data/zju-46/shenyl/hf/model/Qwen/Qwen2.5-1.5B-Instruct/\"\n",
    "\n",
    "# 初始化tokenizer\n",
    "tokenizer = AutoTokenizer.from_pretrained(model_path)\n",
    "\n",
    "# 初始化LLM\n",
    "llm = LLM(\n",
    "    model=model_path,\n",
    "    enable_steer_vector=True,\n",
    "    enforce_eager=True,\n",
    "    tensor_parallel_size=1\n",
    ")"
   ]
  },
  {
   "cell_type": "code",
   "execution_count": 11,
   "id": "eb5893ec",
   "metadata": {},
   "outputs": [
    {
     "data": {
      "application/vnd.jupyter.widget-view+json": {
       "model_id": "83ddd821edaa49aea1c51ee0ad6cfb8d",
       "version_major": 2,
       "version_minor": 0
      },
      "text/plain": [
       "Adding requests:   0%|          | 0/6 [00:00<?, ?it/s]"
      ]
     },
     "metadata": {},
     "output_type": "display_data"
    },
    {
     "data": {
      "application/vnd.jupyter.widget-view+json": {
       "model_id": "1a1e4048dd56496bb0f7e24f7977d644",
       "version_major": 2,
       "version_minor": 0
      },
      "text/plain": [
       "Processed prompts:   0%|          | 0/6 [00:00<?, ?it/s, est. speed input: 0.00 toks/s, output: 0.00 toks/s]"
      ]
     },
     "metadata": {},
     "output_type": "display_data"
    }
   ],
   "source": [
    "# Define negative queries (that should be refused by the model)\n",
    "negative = [\n",
    "    \"I thought this movie was HORRIBLE, I HATED it. Conclusion: This movie is unwatchable.\",\n",
    "    \"I felt this film was TERRIBLE, I LOATHED it. Conclusion: This film is a mess.\",\n",
    "    \"I found this movie was AWFUL, I DESPISED it. Conclusion: This movie is worthless.\"\n",
    "]\n",
    "\n",
    "# Define positive queries (that should get helpful responses)\n",
    "positive = [\n",
    "    \"I thought this movie was INCREDIBLE, I LOVED it. Conclusion: This movie is masterpiece.\",\n",
    "    \"I felt this film was AMAZING, I ADORED it. Conclusion: This film is brilliant.\",\n",
    "    \"I found this movie was WONDERFUL, I CHERISHED it. Conclusion: This movie is outstanding.\"\n",
    "]\n",
    "\n",
    "# Create properly formatted prompts for both harmful and normal queries\n",
    "# The format follows the model's expected chat template\n",
    "texts = [\n",
    "    f\"<|im_start|>user\\nAnalyze the sentiment of the following movie review template (focus on ADJECTIVE and VERB positions):\\n{x}<|im_end|>\\n<|im_start|>assistant\\n\"\n",
    "    for x in negative + positive\n",
    "]\n",
    "# Generate responses for all queries\n",
    "# This will validate that the model correctly refuses harmful queries\n",
    "answers = llm.generate(\n",
    "    texts,\n",
    "    SamplingParams(\n",
    "        temperature=0,        # Deterministic generation\n",
    "        max_tokens=128,       # Limit response length\n",
    "        skip_special_tokens=False,  # Keep special tokens intact\n",
    "    ),\n",
    ")\n",
    "answers = [answer.outputs[0].text for answer in answers]"
   ]
  },
  {
   "cell_type": "code",
   "execution_count": 12,
   "id": "9784bebf",
   "metadata": {},
   "outputs": [
    {
     "data": {
      "application/vnd.jupyter.widget-view+json": {
       "model_id": "d4e4130137b248cb92b78903067b63dd",
       "version_major": 2,
       "version_minor": 0
      },
      "text/plain": [
       "Adding requests:   0%|          | 0/6 [00:00<?, ?it/s]"
      ]
     },
     "metadata": {},
     "output_type": "display_data"
    },
    {
     "data": {
      "application/vnd.jupyter.widget-view+json": {
       "model_id": "20f518825d344a4d98ef24ae93c45c1f",
       "version_major": 2,
       "version_minor": 0
      },
      "text/plain": [
       "Processed prompts:   0%|          | 0/6 [00:00<?, ?it/s, est. speed input: 0.00 toks/s, output: 0.00 toks/s]"
      ]
     },
     "metadata": {},
     "output_type": "display_data"
    },
    {
     "name": "stdout",
     "output_type": "stream",
     "text": [
      "['The sentiment of the movie review template is negative. The adjectives \"HORRIBLE\" and \"HATED\" are used to express strong negative emotions towards the movie. The verb \"is\" is used to indicate that the movie is unwatchable, which is a negative sentiment.', 'The sentiment of the movie review template is negative. The adjectives \"TERRIBLE\" and \"LOATHED\" are strong negative descriptors, and the verb \"LOATHED\" indicates a strong dislike. The conclusion \"This film is a mess\" further reinforces the negative sentiment.', 'The sentiment of the movie review template is negative. The adjectives \"AWFUL\" and \"DESPRISED\" are used to express strong dissatisfaction, and the verb \"is\" is used to indicate that the movie is worthless.', 'The sentiment of the movie review template is positive. The adjectives \"INCREDIBLE\" and \"LOVED\" are used to express strong positive emotions towards the movie. The verb \"is\" is used to describe the movie as a \"masterpiece,\" which is another positive term.', 'The sentiment of the movie review template is positive. The adjectives \"AMAZING\" and \"ADORED\" are used to express strong positive emotions towards the film. The verb \"was\" indicates that the reviewer felt the film was of high quality. The conclusion \"This film is brilliant\" further reinforces the positive sentiment.', 'The sentiment of the movie review template is positive. The adjectives \"WONDERFUL\" and \"CHERISHED\" indicate strong positive sentiment, and the verb \"is\" in the conclusion further reinforces the positive sentiment.']\n"
     ]
    }
   ],
   "source": [
    "# Generate responses for all queries\n",
    "# This will validate that the model correctly refuses harmful queries\n",
    "answers = llm.generate(\n",
    "    texts,\n",
    "    SamplingParams(\n",
    "        temperature=0,              # Deterministic generation\n",
    "        max_tokens=128,             # Limit response length\n",
    "        skip_special_tokens=False,  # Keep special tokens intact\n",
    "    ),\n",
    ")\n",
    "answers = [answer.outputs[0].text for answer in answers]\n",
    "print(answers)"
   ]
  },
  {
   "cell_type": "code",
   "execution_count": 13,
   "id": "2a97531f",
   "metadata": {},
   "outputs": [
    {
     "name": "stdout",
     "output_type": "stream",
     "text": [
      "['<|im_start|>', 'user', 'Ċ', 'An', 'alyze', 'Ġthe', 'Ġsentiment', 'Ġof', 'Ġthe', 'Ġfollowing', 'Ġmovie', 'Ġreview', 'Ġtemplate', 'Ġ(', 'focus', 'Ġon', 'ĠAD', 'JECT', 'IVE', 'Ġand', 'ĠVER', 'B', 'Ġpositions', '):Ċ', 'I', 'Ġthought', 'Ġthis', 'Ġmovie', 'Ġwas', 'ĠHOR', 'R', 'IBLE', ',', 'ĠI', 'ĠH', 'ATED', 'Ġit', '.', 'ĠConclusion', ':', 'ĠThis', 'Ġmovie', 'Ġis', 'Ġun', 'watch', 'able', '.', '<|im_end|>', 'Ċ', '<|im_start|>', 'assistant', 'Ċ']\n"
     ]
    }
   ],
   "source": [
    "tokens = tokenizer.tokenize(texts[0], add_special_tokens=True)\n",
    "print(tokens)"
   ]
  },
  {
   "cell_type": "code",
   "execution_count": 14,
   "id": "5d3b9bb8",
   "metadata": {},
   "outputs": [],
   "source": [
    "import spacy\n",
    "\n",
    "def find_pos_indices(text, pos_types=(\"VERB\", \"ADJ\"), return_tokens=False):\n",
    "    nlp = spacy.load(\"en_core_web_sm\")\n",
    "    doc = nlp(text)\n",
    "    \n",
    "    if return_tokens:\n",
    "        return [\n",
    "            {\"index\": token.i, \"text\": token.text}\n",
    "            for token in doc\n",
    "            if token.pos_ in pos_types\n",
    "        ]\n",
    "    else:\n",
    "        return [token.i for token in doc if token.pos_ in pos_types]"
   ]
  },
  {
   "cell_type": "code",
   "execution_count": 15,
   "id": "af7d674d",
   "metadata": {},
   "outputs": [
    {
     "name": "stdout",
     "output_type": "stream",
     "text": [
      "INFO 07-23 16:54:55 [config.py:1472] Using max model len 32768\n",
      "INFO 07-23 16:54:55 [config.py:4615] Only \"last\" pooling supports chunked prefill and prefix caching; disabling both.\n",
      "INFO 07-23 16:54:55 [llm_engine.py:232] Initializing a V0 LLM engine (v0.1.dev7503+gfc71f0f) with config: model='/data/zju-46/shenyl/hf/model/Qwen/Qwen2.5-1.5B-Instruct/', speculative_config=None, tokenizer='/data/zju-46/shenyl/hf/model/Qwen/Qwen2.5-1.5B-Instruct/', skip_tokenizer_init=False, tokenizer_mode=auto, revision=None, override_neuron_config={}, tokenizer_revision=None, trust_remote_code=False, dtype=torch.bfloat16, max_seq_len=32768, download_dir=None, load_format=LoadFormat.AUTO, tensor_parallel_size=1, pipeline_parallel_size=1, disable_custom_all_reduce=False, quantization=None, enforce_eager=False, kv_cache_dtype=auto,  device_config=cuda, decoding_config=DecodingConfig(backend='auto', disable_fallback=False, disable_any_whitespace=False, disable_additional_properties=False, reasoning_backend=''), observability_config=ObservabilityConfig(show_hidden_metrics_for_version=None, otlp_traces_endpoint=None, collect_detailed_traces=None), seed=None, served_model_name=/data/zju-46/shenyl/hf/model/Qwen/Qwen2.5-1.5B-Instruct/, num_scheduler_steps=1, multi_step_stream_outputs=True, enable_prefix_caching=False, chunked_prefill_enabled=False, use_async_output_proc=False, pooler_config=PoolerConfig(pooling_type=None, normalize=None, softmax=None, step_tag_id=None, returned_token_ids=None), compilation_config={\"level\":0,\"debug_dump_path\":\"\",\"cache_dir\":\"\",\"backend\":\"\",\"custom_ops\":[],\"splitting_ops\":[],\"use_inductor\":true,\"compile_sizes\":[],\"inductor_compile_config\":{\"enable_auto_functionalized_v2\":false},\"inductor_passes\":{},\"use_cudagraph\":false,\"cudagraph_num_of_warmups\":0,\"cudagraph_capture_sizes\":[256,248,240,232,224,216,208,200,192,184,176,168,160,152,144,136,128,120,112,104,96,88,80,72,64,56,48,40,32,24,16,8,4,2,1],\"cudagraph_copy_inputs\":false,\"full_cuda_graph\":false,\"max_capture_size\":256,\"local_cache_dir\":null}, use_cached_outputs=False, \n"
     ]
    },
    {
     "name": "stdout",
     "output_type": "stream",
     "text": [
      "INFO 07-23 16:54:56 [model_runner.py:1223] Starting to load model /data/zju-46/shenyl/hf/model/Qwen/Qwen2.5-1.5B-Instruct/...\n"
     ]
    },
    {
     "data": {
      "application/vnd.jupyter.widget-view+json": {
       "model_id": "b264c348bd874c0894cc1649ca4944ed",
       "version_major": 2,
       "version_minor": 0
      },
      "text/plain": [
       "Loading safetensors checkpoint shards:   0% Completed | 0/1 [00:00<?, ?it/s]\n"
      ]
     },
     "metadata": {},
     "output_type": "display_data"
    },
    {
     "name": "stdout",
     "output_type": "stream",
     "text": [
      "INFO 07-23 16:54:57 [default_loader.py:272] Loading weights took 0.92 seconds\n",
      "INFO 07-23 16:54:58 [model_runner.py:1255] Model loading took 2.8788 GiB and 0.967456 seconds\n"
     ]
    },
    {
     "data": {
      "application/vnd.jupyter.widget-view+json": {
       "model_id": "1271dbc021be428cb1a53c64de46b127",
       "version_major": 2,
       "version_minor": 0
      },
      "text/plain": [
       "Adding requests:   0%|          | 0/6 [00:00<?, ?it/s]"
      ]
     },
     "metadata": {},
     "output_type": "display_data"
    },
    {
     "data": {
      "application/vnd.jupyter.widget-view+json": {
       "model_id": "37a73397b6ec436f80b5d2541b6b9d5c",
       "version_major": 2,
       "version_minor": 0
      },
      "text/plain": [
       "Processed prompts:   0%|          | 0/6 [00:00<?, ?it/s, est. speed input: 0.00 toks/s, output: 0.00 toks/s]"
      ]
     },
     "metadata": {},
     "output_type": "display_data"
    },
    {
     "name": "stdout",
     "output_type": "stream",
     "text": [
      "<|im_start|>user\n",
      "Analyze the sentiment of the following movie review template (focus on ADJECTIVE and VERB positions):\n",
      "I thought this movie was HORRIBLE, I HATED it. Conclusion: This movie is unwatchable.<|im_end|>\n",
      "<|im_start|>assistant\n",
      "\n",
      "[3, 8, 13, 22, 26, 29, 41]\n"
     ]
    }
   ],
   "source": [
    "from easysteer.hidden_states import get_all_hidden_states\n",
    "llm = LLM(\n",
    "    model=\"/data/zju-46/shenyl/hf/model/Qwen/Qwen2.5-1.5B-Instruct/\",\n",
    "    task=\"reward\",  # Use reward task to get hidden states\n",
    "    tensor_parallel_size=1\n",
    ")\n",
    "all_hidden_states, outputs = get_all_hidden_states(llm, texts)\n",
    "print(texts[0])\n",
    "pos = find_pos_indices(texts[0])\n",
    "print(pos)"
   ]
  },
  {
   "cell_type": "code",
   "execution_count": 16,
   "id": "e8562c90",
   "metadata": {},
   "outputs": [
    {
     "data": {
      "application/vnd.jupyter.widget-view+json": {
       "model_id": "fa4247db9ac948b38e4c07b907e6b3e4",
       "version_major": 2,
       "version_minor": 0
      },
      "text/plain": [
       "Computing DiffMean directions:   0%|          | 0/28 [00:00<?, ?it/s]"
      ]
     },
     "metadata": {},
     "output_type": "display_data"
    },
    {
     "data": {
      "application/vnd.jupyter.widget-view+json": {
       "model_id": "1d9994bacb7844e3a255942875825db3",
       "version_major": 2,
       "version_minor": 0
      },
      "text/plain": [
       "Computing PCA directions:   0%|          | 0/28 [00:00<?, ?it/s]"
      ]
     },
     "metadata": {},
     "output_type": "display_data"
    },
    {
     "name": "stderr",
     "output_type": "stream",
     "text": [
      "/home/zhourui/miniconda3/envs/vllm/lib/python3.12/site-packages/sklearn/decomposition/_pca.py:787: RuntimeWarning: invalid value encountered in divide\n",
      "  self.explained_variance_ratio_ = self.explained_variance_ / total_var\n",
      "/home/zhourui/miniconda3/envs/vllm/lib/python3.12/site-packages/sklearn/decomposition/_pca.py:787: RuntimeWarning: invalid value encountered in divide\n",
      "  self.explained_variance_ratio_ = self.explained_variance_ / total_var\n",
      "/home/zhourui/miniconda3/envs/vllm/lib/python3.12/site-packages/sklearn/decomposition/_pca.py:787: RuntimeWarning: invalid value encountered in divide\n",
      "  self.explained_variance_ratio_ = self.explained_variance_ / total_var\n",
      "/home/zhourui/miniconda3/envs/vllm/lib/python3.12/site-packages/sklearn/decomposition/_pca.py:787: RuntimeWarning: invalid value encountered in divide\n",
      "  self.explained_variance_ratio_ = self.explained_variance_ / total_var\n",
      "/home/zhourui/miniconda3/envs/vllm/lib/python3.12/site-packages/sklearn/decomposition/_pca.py:787: RuntimeWarning: invalid value encountered in divide\n",
      "  self.explained_variance_ratio_ = self.explained_variance_ / total_var\n",
      "/home/zhourui/miniconda3/envs/vllm/lib/python3.12/site-packages/sklearn/decomposition/_pca.py:787: RuntimeWarning: invalid value encountered in divide\n",
      "  self.explained_variance_ratio_ = self.explained_variance_ / total_var\n",
      "/home/zhourui/miniconda3/envs/vllm/lib/python3.12/site-packages/sklearn/decomposition/_pca.py:787: RuntimeWarning: invalid value encountered in divide\n",
      "  self.explained_variance_ratio_ = self.explained_variance_ / total_var\n",
      "/home/zhourui/miniconda3/envs/vllm/lib/python3.12/site-packages/sklearn/decomposition/_pca.py:787: RuntimeWarning: invalid value encountered in divide\n",
      "  self.explained_variance_ratio_ = self.explained_variance_ / total_var\n",
      "/home/zhourui/miniconda3/envs/vllm/lib/python3.12/site-packages/sklearn/decomposition/_pca.py:787: RuntimeWarning: invalid value encountered in divide\n",
      "  self.explained_variance_ratio_ = self.explained_variance_ / total_var\n",
      "/home/zhourui/miniconda3/envs/vllm/lib/python3.12/site-packages/sklearn/decomposition/_pca.py:787: RuntimeWarning: invalid value encountered in divide\n",
      "  self.explained_variance_ratio_ = self.explained_variance_ / total_var\n",
      "/home/zhourui/miniconda3/envs/vllm/lib/python3.12/site-packages/sklearn/decomposition/_pca.py:787: RuntimeWarning: invalid value encountered in divide\n",
      "  self.explained_variance_ratio_ = self.explained_variance_ / total_var\n",
      "/home/zhourui/miniconda3/envs/vllm/lib/python3.12/site-packages/sklearn/decomposition/_pca.py:787: RuntimeWarning: invalid value encountered in divide\n",
      "  self.explained_variance_ratio_ = self.explained_variance_ / total_var\n",
      "/home/zhourui/miniconda3/envs/vllm/lib/python3.12/site-packages/sklearn/decomposition/_pca.py:787: RuntimeWarning: invalid value encountered in divide\n",
      "  self.explained_variance_ratio_ = self.explained_variance_ / total_var\n",
      "/home/zhourui/miniconda3/envs/vllm/lib/python3.12/site-packages/sklearn/decomposition/_pca.py:787: RuntimeWarning: invalid value encountered in divide\n",
      "  self.explained_variance_ratio_ = self.explained_variance_ / total_var\n",
      "/home/zhourui/miniconda3/envs/vllm/lib/python3.12/site-packages/sklearn/decomposition/_pca.py:787: RuntimeWarning: invalid value encountered in divide\n",
      "  self.explained_variance_ratio_ = self.explained_variance_ / total_var\n",
      "/home/zhourui/miniconda3/envs/vllm/lib/python3.12/site-packages/sklearn/decomposition/_pca.py:787: RuntimeWarning: invalid value encountered in divide\n",
      "  self.explained_variance_ratio_ = self.explained_variance_ / total_var\n",
      "/home/zhourui/miniconda3/envs/vllm/lib/python3.12/site-packages/sklearn/decomposition/_pca.py:787: RuntimeWarning: invalid value encountered in divide\n",
      "  self.explained_variance_ratio_ = self.explained_variance_ / total_var\n",
      "/home/zhourui/miniconda3/envs/vllm/lib/python3.12/site-packages/sklearn/decomposition/_pca.py:787: RuntimeWarning: invalid value encountered in divide\n",
      "  self.explained_variance_ratio_ = self.explained_variance_ / total_var\n",
      "/home/zhourui/miniconda3/envs/vllm/lib/python3.12/site-packages/sklearn/decomposition/_pca.py:787: RuntimeWarning: invalid value encountered in divide\n",
      "  self.explained_variance_ratio_ = self.explained_variance_ / total_var\n",
      "/home/zhourui/miniconda3/envs/vllm/lib/python3.12/site-packages/sklearn/decomposition/_pca.py:787: RuntimeWarning: invalid value encountered in divide\n",
      "  self.explained_variance_ratio_ = self.explained_variance_ / total_var\n",
      "/home/zhourui/miniconda3/envs/vllm/lib/python3.12/site-packages/sklearn/decomposition/_pca.py:787: RuntimeWarning: invalid value encountered in divide\n",
      "  self.explained_variance_ratio_ = self.explained_variance_ / total_var\n",
      "/home/zhourui/miniconda3/envs/vllm/lib/python3.12/site-packages/sklearn/decomposition/_pca.py:787: RuntimeWarning: invalid value encountered in divide\n",
      "  self.explained_variance_ratio_ = self.explained_variance_ / total_var\n",
      "/home/zhourui/miniconda3/envs/vllm/lib/python3.12/site-packages/sklearn/decomposition/_pca.py:787: RuntimeWarning: invalid value encountered in divide\n",
      "  self.explained_variance_ratio_ = self.explained_variance_ / total_var\n",
      "/home/zhourui/miniconda3/envs/vllm/lib/python3.12/site-packages/sklearn/decomposition/_pca.py:787: RuntimeWarning: invalid value encountered in divide\n",
      "  self.explained_variance_ratio_ = self.explained_variance_ / total_var\n",
      "/home/zhourui/miniconda3/envs/vllm/lib/python3.12/site-packages/sklearn/decomposition/_pca.py:787: RuntimeWarning: invalid value encountered in divide\n",
      "  self.explained_variance_ratio_ = self.explained_variance_ / total_var\n",
      "/home/zhourui/miniconda3/envs/vllm/lib/python3.12/site-packages/sklearn/decomposition/_pca.py:787: RuntimeWarning: invalid value encountered in divide\n",
      "  self.explained_variance_ratio_ = self.explained_variance_ / total_var\n",
      "/home/zhourui/miniconda3/envs/vllm/lib/python3.12/site-packages/sklearn/decomposition/_pca.py:787: RuntimeWarning: invalid value encountered in divide\n",
      "  self.explained_variance_ratio_ = self.explained_variance_ / total_var\n",
      "/home/zhourui/miniconda3/envs/vllm/lib/python3.12/site-packages/sklearn/decomposition/_pca.py:787: RuntimeWarning: invalid value encountered in divide\n",
      "  self.explained_variance_ratio_ = self.explained_variance_ / total_var\n",
      "2025-07-23:16:54:59,653 WARNING  [gguf_writer.py:274] Duplicated key name 'controlvector.method', overwriting it with new value 'standard' of type STRING\n"
     ]
    },
    {
     "data": {
      "application/vnd.jupyter.widget-view+json": {
       "model_id": "9fc7e9bfeb6e441ab90ccf6341e9f48a",
       "version_major": 2,
       "version_minor": 0
      },
      "text/plain": [
       "Computing LinearProbe directions:   0%|          | 0/28 [00:00<?, ?it/s]"
      ]
     },
     "metadata": {},
     "output_type": "display_data"
    },
    {
     "name": "stderr",
     "output_type": "stream",
     "text": [
      "2025-07-23:16:55:00,434 WARNING  [linear_probe.py:158] Layer 0: 所有权重为零！可能需要调整正则化参数。\n",
      "2025-07-23:16:55:00,435 WARNING  [linear_probe.py:165] Layer 0: 零向量无法归一化\n",
      "2025-07-23:16:55:00,443 WARNING  [linear_probe.py:158] Layer 1: 所有权重为零！可能需要调整正则化参数。\n",
      "2025-07-23:16:55:00,444 WARNING  [linear_probe.py:165] Layer 1: 零向量无法归一化\n",
      "2025-07-23:16:55:00,452 WARNING  [linear_probe.py:158] Layer 2: 所有权重为零！可能需要调整正则化参数。\n",
      "2025-07-23:16:55:00,453 WARNING  [linear_probe.py:165] Layer 2: 零向量无法归一化\n",
      "2025-07-23:16:55:00,460 WARNING  [linear_probe.py:158] Layer 3: 所有权重为零！可能需要调整正则化参数。\n",
      "2025-07-23:16:55:00,461 WARNING  [linear_probe.py:165] Layer 3: 零向量无法归一化\n",
      "2025-07-23:16:55:00,469 WARNING  [linear_probe.py:158] Layer 4: 所有权重为零！可能需要调整正则化参数。\n",
      "2025-07-23:16:55:00,470 WARNING  [linear_probe.py:165] Layer 4: 零向量无法归一化\n",
      "2025-07-23:16:55:00,477 WARNING  [linear_probe.py:158] Layer 5: 所有权重为零！可能需要调整正则化参数。\n",
      "2025-07-23:16:55:00,478 WARNING  [linear_probe.py:165] Layer 5: 零向量无法归一化\n",
      "2025-07-23:16:55:00,485 WARNING  [linear_probe.py:158] Layer 6: 所有权重为零！可能需要调整正则化参数。\n",
      "2025-07-23:16:55:00,486 WARNING  [linear_probe.py:165] Layer 6: 零向量无法归一化\n",
      "2025-07-23:16:55:00,494 WARNING  [linear_probe.py:158] Layer 7: 所有权重为零！可能需要调整正则化参数。\n",
      "2025-07-23:16:55:00,495 WARNING  [linear_probe.py:165] Layer 7: 零向量无法归一化\n",
      "2025-07-23:16:55:00,502 WARNING  [linear_probe.py:158] Layer 8: 所有权重为零！可能需要调整正则化参数。\n",
      "2025-07-23:16:55:00,503 WARNING  [linear_probe.py:165] Layer 8: 零向量无法归一化\n",
      "2025-07-23:16:55:00,511 WARNING  [linear_probe.py:158] Layer 9: 所有权重为零！可能需要调整正则化参数。\n",
      "2025-07-23:16:55:00,512 WARNING  [linear_probe.py:165] Layer 9: 零向量无法归一化\n",
      "2025-07-23:16:55:00,521 WARNING  [linear_probe.py:158] Layer 10: 所有权重为零！可能需要调整正则化参数。\n",
      "2025-07-23:16:55:00,522 WARNING  [linear_probe.py:165] Layer 10: 零向量无法归一化\n",
      "2025-07-23:16:55:00,532 WARNING  [linear_probe.py:158] Layer 11: 所有权重为零！可能需要调整正则化参数。\n",
      "2025-07-23:16:55:00,533 WARNING  [linear_probe.py:165] Layer 11: 零向量无法归一化\n",
      "2025-07-23:16:55:00,540 WARNING  [linear_probe.py:158] Layer 12: 所有权重为零！可能需要调整正则化参数。\n",
      "2025-07-23:16:55:00,541 WARNING  [linear_probe.py:165] Layer 12: 零向量无法归一化\n",
      "2025-07-23:16:55:00,548 WARNING  [linear_probe.py:158] Layer 13: 所有权重为零！可能需要调整正则化参数。\n",
      "2025-07-23:16:55:00,549 WARNING  [linear_probe.py:165] Layer 13: 零向量无法归一化\n",
      "2025-07-23:16:55:00,555 WARNING  [linear_probe.py:158] Layer 14: 所有权重为零！可能需要调整正则化参数。\n",
      "2025-07-23:16:55:00,556 WARNING  [linear_probe.py:165] Layer 14: 零向量无法归一化\n",
      "2025-07-23:16:55:00,562 WARNING  [linear_probe.py:158] Layer 15: 所有权重为零！可能需要调整正则化参数。\n",
      "2025-07-23:16:55:00,563 WARNING  [linear_probe.py:165] Layer 15: 零向量无法归一化\n",
      "2025-07-23:16:55:00,569 WARNING  [linear_probe.py:158] Layer 16: 所有权重为零！可能需要调整正则化参数。\n",
      "2025-07-23:16:55:00,570 WARNING  [linear_probe.py:165] Layer 16: 零向量无法归一化\n",
      "2025-07-23:16:55:00,575 WARNING  [linear_probe.py:158] Layer 17: 所有权重为零！可能需要调整正则化参数。\n",
      "2025-07-23:16:55:00,576 WARNING  [linear_probe.py:165] Layer 17: 零向量无法归一化\n",
      "2025-07-23:16:55:00,582 WARNING  [linear_probe.py:158] Layer 18: 所有权重为零！可能需要调整正则化参数。\n",
      "2025-07-23:16:55:00,582 WARNING  [linear_probe.py:165] Layer 18: 零向量无法归一化\n",
      "2025-07-23:16:55:00,588 WARNING  [linear_probe.py:158] Layer 19: 所有权重为零！可能需要调整正则化参数。\n",
      "2025-07-23:16:55:00,589 WARNING  [linear_probe.py:165] Layer 19: 零向量无法归一化\n",
      "2025-07-23:16:55:00,594 WARNING  [linear_probe.py:158] Layer 20: 所有权重为零！可能需要调整正则化参数。\n",
      "2025-07-23:16:55:00,594 WARNING  [linear_probe.py:165] Layer 20: 零向量无法归一化\n",
      "2025-07-23:16:55:00,600 WARNING  [linear_probe.py:158] Layer 21: 所有权重为零！可能需要调整正则化参数。\n",
      "2025-07-23:16:55:00,600 WARNING  [linear_probe.py:165] Layer 21: 零向量无法归一化\n",
      "2025-07-23:16:55:00,605 WARNING  [linear_probe.py:158] Layer 22: 所有权重为零！可能需要调整正则化参数。\n",
      "2025-07-23:16:55:00,606 WARNING  [linear_probe.py:165] Layer 22: 零向量无法归一化\n",
      "2025-07-23:16:55:00,611 WARNING  [linear_probe.py:158] Layer 23: 所有权重为零！可能需要调整正则化参数。\n",
      "2025-07-23:16:55:00,612 WARNING  [linear_probe.py:165] Layer 23: 零向量无法归一化\n",
      "2025-07-23:16:55:00,617 WARNING  [linear_probe.py:158] Layer 24: 所有权重为零！可能需要调整正则化参数。\n",
      "2025-07-23:16:55:00,617 WARNING  [linear_probe.py:165] Layer 24: 零向量无法归一化\n",
      "2025-07-23:16:55:00,623 WARNING  [linear_probe.py:158] Layer 25: 所有权重为零！可能需要调整正则化参数。\n",
      "2025-07-23:16:55:00,623 WARNING  [linear_probe.py:165] Layer 25: 零向量无法归一化\n",
      "2025-07-23:16:55:00,629 WARNING  [linear_probe.py:158] Layer 26: 所有权重为零！可能需要调整正则化参数。\n",
      "2025-07-23:16:55:00,630 WARNING  [linear_probe.py:165] Layer 26: 零向量无法归一化\n",
      "2025-07-23:16:55:00,634 WARNING  [linear_probe.py:158] Layer 27: 所有权重为零！可能需要调整正则化参数。\n",
      "2025-07-23:16:55:00,635 WARNING  [linear_probe.py:165] Layer 27: 零向量无法归一化\n"
     ]
    },
    {
     "data": {
      "application/vnd.jupyter.widget-view+json": {
       "model_id": "90dd32f0798e425fa16a339b6e36ab01",
       "version_major": 2,
       "version_minor": 0
      },
      "text/plain": [
       "Computing DiffMean directions:   0%|          | 0/28 [00:00<?, ?it/s]"
      ]
     },
     "metadata": {},
     "output_type": "display_data"
    },
    {
     "data": {
      "application/vnd.jupyter.widget-view+json": {
       "model_id": "58218aebd087476fb5da9d638b96bf1c",
       "version_major": 2,
       "version_minor": 0
      },
      "text/plain": [
       "Computing PCA directions:   0%|          | 0/28 [00:00<?, ?it/s]"
      ]
     },
     "metadata": {},
     "output_type": "display_data"
    },
    {
     "name": "stderr",
     "output_type": "stream",
     "text": [
      "/home/zhourui/miniconda3/envs/vllm/lib/python3.12/site-packages/sklearn/decomposition/_pca.py:787: RuntimeWarning: invalid value encountered in divide\n",
      "  self.explained_variance_ratio_ = self.explained_variance_ / total_var\n",
      "/home/zhourui/miniconda3/envs/vllm/lib/python3.12/site-packages/sklearn/decomposition/_pca.py:787: RuntimeWarning: invalid value encountered in divide\n",
      "  self.explained_variance_ratio_ = self.explained_variance_ / total_var\n",
      "/home/zhourui/miniconda3/envs/vllm/lib/python3.12/site-packages/sklearn/decomposition/_pca.py:787: RuntimeWarning: invalid value encountered in divide\n",
      "  self.explained_variance_ratio_ = self.explained_variance_ / total_var\n",
      "/home/zhourui/miniconda3/envs/vllm/lib/python3.12/site-packages/sklearn/decomposition/_pca.py:787: RuntimeWarning: invalid value encountered in divide\n",
      "  self.explained_variance_ratio_ = self.explained_variance_ / total_var\n",
      "/home/zhourui/miniconda3/envs/vllm/lib/python3.12/site-packages/sklearn/decomposition/_pca.py:787: RuntimeWarning: invalid value encountered in divide\n",
      "  self.explained_variance_ratio_ = self.explained_variance_ / total_var\n",
      "/home/zhourui/miniconda3/envs/vllm/lib/python3.12/site-packages/sklearn/decomposition/_pca.py:787: RuntimeWarning: invalid value encountered in divide\n",
      "  self.explained_variance_ratio_ = self.explained_variance_ / total_var\n",
      "/home/zhourui/miniconda3/envs/vllm/lib/python3.12/site-packages/sklearn/decomposition/_pca.py:787: RuntimeWarning: invalid value encountered in divide\n",
      "  self.explained_variance_ratio_ = self.explained_variance_ / total_var\n",
      "/home/zhourui/miniconda3/envs/vllm/lib/python3.12/site-packages/sklearn/decomposition/_pca.py:787: RuntimeWarning: invalid value encountered in divide\n",
      "  self.explained_variance_ratio_ = self.explained_variance_ / total_var\n",
      "/home/zhourui/miniconda3/envs/vllm/lib/python3.12/site-packages/sklearn/decomposition/_pca.py:787: RuntimeWarning: invalid value encountered in divide\n",
      "  self.explained_variance_ratio_ = self.explained_variance_ / total_var\n",
      "/home/zhourui/miniconda3/envs/vllm/lib/python3.12/site-packages/sklearn/decomposition/_pca.py:787: RuntimeWarning: invalid value encountered in divide\n",
      "  self.explained_variance_ratio_ = self.explained_variance_ / total_var\n",
      "/home/zhourui/miniconda3/envs/vllm/lib/python3.12/site-packages/sklearn/decomposition/_pca.py:787: RuntimeWarning: invalid value encountered in divide\n",
      "  self.explained_variance_ratio_ = self.explained_variance_ / total_var\n",
      "/home/zhourui/miniconda3/envs/vllm/lib/python3.12/site-packages/sklearn/decomposition/_pca.py:787: RuntimeWarning: invalid value encountered in divide\n",
      "  self.explained_variance_ratio_ = self.explained_variance_ / total_var\n",
      "/home/zhourui/miniconda3/envs/vllm/lib/python3.12/site-packages/sklearn/decomposition/_pca.py:787: RuntimeWarning: invalid value encountered in divide\n",
      "  self.explained_variance_ratio_ = self.explained_variance_ / total_var\n",
      "/home/zhourui/miniconda3/envs/vllm/lib/python3.12/site-packages/sklearn/decomposition/_pca.py:787: RuntimeWarning: invalid value encountered in divide\n",
      "  self.explained_variance_ratio_ = self.explained_variance_ / total_var\n",
      "/home/zhourui/miniconda3/envs/vllm/lib/python3.12/site-packages/sklearn/decomposition/_pca.py:787: RuntimeWarning: invalid value encountered in divide\n",
      "  self.explained_variance_ratio_ = self.explained_variance_ / total_var\n",
      "/home/zhourui/miniconda3/envs/vllm/lib/python3.12/site-packages/sklearn/decomposition/_pca.py:787: RuntimeWarning: invalid value encountered in divide\n",
      "  self.explained_variance_ratio_ = self.explained_variance_ / total_var\n",
      "/home/zhourui/miniconda3/envs/vllm/lib/python3.12/site-packages/sklearn/decomposition/_pca.py:787: RuntimeWarning: invalid value encountered in divide\n",
      "  self.explained_variance_ratio_ = self.explained_variance_ / total_var\n",
      "/home/zhourui/miniconda3/envs/vllm/lib/python3.12/site-packages/sklearn/decomposition/_pca.py:787: RuntimeWarning: invalid value encountered in divide\n",
      "  self.explained_variance_ratio_ = self.explained_variance_ / total_var\n",
      "/home/zhourui/miniconda3/envs/vllm/lib/python3.12/site-packages/sklearn/decomposition/_pca.py:787: RuntimeWarning: invalid value encountered in divide\n",
      "  self.explained_variance_ratio_ = self.explained_variance_ / total_var\n",
      "/home/zhourui/miniconda3/envs/vllm/lib/python3.12/site-packages/sklearn/decomposition/_pca.py:787: RuntimeWarning: invalid value encountered in divide\n",
      "  self.explained_variance_ratio_ = self.explained_variance_ / total_var\n",
      "/home/zhourui/miniconda3/envs/vllm/lib/python3.12/site-packages/sklearn/decomposition/_pca.py:787: RuntimeWarning: invalid value encountered in divide\n",
      "  self.explained_variance_ratio_ = self.explained_variance_ / total_var\n",
      "/home/zhourui/miniconda3/envs/vllm/lib/python3.12/site-packages/sklearn/decomposition/_pca.py:787: RuntimeWarning: invalid value encountered in divide\n",
      "  self.explained_variance_ratio_ = self.explained_variance_ / total_var\n",
      "/home/zhourui/miniconda3/envs/vllm/lib/python3.12/site-packages/sklearn/decomposition/_pca.py:787: RuntimeWarning: invalid value encountered in divide\n",
      "  self.explained_variance_ratio_ = self.explained_variance_ / total_var\n",
      "/home/zhourui/miniconda3/envs/vllm/lib/python3.12/site-packages/sklearn/decomposition/_pca.py:787: RuntimeWarning: invalid value encountered in divide\n",
      "  self.explained_variance_ratio_ = self.explained_variance_ / total_var\n",
      "/home/zhourui/miniconda3/envs/vllm/lib/python3.12/site-packages/sklearn/decomposition/_pca.py:787: RuntimeWarning: invalid value encountered in divide\n",
      "  self.explained_variance_ratio_ = self.explained_variance_ / total_var\n",
      "/home/zhourui/miniconda3/envs/vllm/lib/python3.12/site-packages/sklearn/decomposition/_pca.py:787: RuntimeWarning: invalid value encountered in divide\n",
      "  self.explained_variance_ratio_ = self.explained_variance_ / total_var\n",
      "/home/zhourui/miniconda3/envs/vllm/lib/python3.12/site-packages/sklearn/decomposition/_pca.py:787: RuntimeWarning: invalid value encountered in divide\n",
      "  self.explained_variance_ratio_ = self.explained_variance_ / total_var\n",
      "/home/zhourui/miniconda3/envs/vllm/lib/python3.12/site-packages/sklearn/decomposition/_pca.py:787: RuntimeWarning: invalid value encountered in divide\n",
      "  self.explained_variance_ratio_ = self.explained_variance_ / total_var\n",
      "2025-07-23:16:55:01,866 WARNING  [gguf_writer.py:274] Duplicated key name 'controlvector.method', overwriting it with new value 'standard' of type STRING\n"
     ]
    },
    {
     "data": {
      "application/vnd.jupyter.widget-view+json": {
       "model_id": "b39e4204ebe24064adccd381aafc3456",
       "version_major": 2,
       "version_minor": 0
      },
      "text/plain": [
       "Computing LinearProbe directions:   0%|          | 0/28 [00:00<?, ?it/s]"
      ]
     },
     "metadata": {},
     "output_type": "display_data"
    },
    {
     "name": "stderr",
     "output_type": "stream",
     "text": [
      "2025-07-23:16:55:02,455 WARNING  [linear_probe.py:158] Layer 0: 所有权重为零！可能需要调整正则化参数。\n",
      "2025-07-23:16:55:02,456 WARNING  [linear_probe.py:165] Layer 0: 零向量无法归一化\n",
      "2025-07-23:16:55:02,463 WARNING  [linear_probe.py:158] Layer 1: 所有权重为零！可能需要调整正则化参数。\n",
      "2025-07-23:16:55:02,463 WARNING  [linear_probe.py:165] Layer 1: 零向量无法归一化\n",
      "2025-07-23:16:55:02,470 WARNING  [linear_probe.py:158] Layer 2: 所有权重为零！可能需要调整正则化参数。\n",
      "2025-07-23:16:55:02,471 WARNING  [linear_probe.py:165] Layer 2: 零向量无法归一化\n",
      "2025-07-23:16:55:02,479 WARNING  [linear_probe.py:158] Layer 3: 所有权重为零！可能需要调整正则化参数。\n",
      "2025-07-23:16:55:02,479 WARNING  [linear_probe.py:165] Layer 3: 零向量无法归一化\n",
      "2025-07-23:16:55:02,490 WARNING  [linear_probe.py:158] Layer 4: 所有权重为零！可能需要调整正则化参数。\n",
      "2025-07-23:16:55:02,490 WARNING  [linear_probe.py:165] Layer 4: 零向量无法归一化\n",
      "2025-07-23:16:55:02,498 WARNING  [linear_probe.py:158] Layer 5: 所有权重为零！可能需要调整正则化参数。\n",
      "2025-07-23:16:55:02,499 WARNING  [linear_probe.py:165] Layer 5: 零向量无法归一化\n",
      "2025-07-23:16:55:02,506 WARNING  [linear_probe.py:158] Layer 6: 所有权重为零！可能需要调整正则化参数。\n",
      "2025-07-23:16:55:02,507 WARNING  [linear_probe.py:165] Layer 6: 零向量无法归一化\n",
      "2025-07-23:16:55:02,515 WARNING  [linear_probe.py:158] Layer 7: 所有权重为零！可能需要调整正则化参数。\n",
      "2025-07-23:16:55:02,516 WARNING  [linear_probe.py:165] Layer 7: 零向量无法归一化\n",
      "2025-07-23:16:55:02,524 WARNING  [linear_probe.py:158] Layer 8: 所有权重为零！可能需要调整正则化参数。\n",
      "2025-07-23:16:55:02,525 WARNING  [linear_probe.py:165] Layer 8: 零向量无法归一化\n",
      "2025-07-23:16:55:02,533 WARNING  [linear_probe.py:158] Layer 9: 所有权重为零！可能需要调整正则化参数。\n",
      "2025-07-23:16:55:02,534 WARNING  [linear_probe.py:165] Layer 9: 零向量无法归一化\n",
      "2025-07-23:16:55:02,539 WARNING  [linear_probe.py:158] Layer 10: 所有权重为零！可能需要调整正则化参数。\n",
      "2025-07-23:16:55:02,539 WARNING  [linear_probe.py:165] Layer 10: 零向量无法归一化\n",
      "2025-07-23:16:55:02,546 WARNING  [linear_probe.py:158] Layer 11: 所有权重为零！可能需要调整正则化参数。\n",
      "2025-07-23:16:55:02,547 WARNING  [linear_probe.py:165] Layer 11: 零向量无法归一化\n",
      "2025-07-23:16:55:02,551 WARNING  [linear_probe.py:158] Layer 12: 所有权重为零！可能需要调整正则化参数。\n",
      "2025-07-23:16:55:02,552 WARNING  [linear_probe.py:165] Layer 12: 零向量无法归一化\n",
      "2025-07-23:16:55:02,557 WARNING  [linear_probe.py:158] Layer 13: 所有权重为零！可能需要调整正则化参数。\n",
      "2025-07-23:16:55:02,558 WARNING  [linear_probe.py:165] Layer 13: 零向量无法归一化\n",
      "2025-07-23:16:55:02,563 WARNING  [linear_probe.py:158] Layer 14: 所有权重为零！可能需要调整正则化参数。\n",
      "2025-07-23:16:55:02,563 WARNING  [linear_probe.py:165] Layer 14: 零向量无法归一化\n",
      "2025-07-23:16:55:02,568 WARNING  [linear_probe.py:158] Layer 15: 所有权重为零！可能需要调整正则化参数。\n",
      "2025-07-23:16:55:02,568 WARNING  [linear_probe.py:165] Layer 15: 零向量无法归一化\n",
      "2025-07-23:16:55:02,573 WARNING  [linear_probe.py:158] Layer 16: 所有权重为零！可能需要调整正则化参数。\n",
      "2025-07-23:16:55:02,573 WARNING  [linear_probe.py:165] Layer 16: 零向量无法归一化\n",
      "2025-07-23:16:55:02,578 WARNING  [linear_probe.py:158] Layer 17: 所有权重为零！可能需要调整正则化参数。\n",
      "2025-07-23:16:55:02,579 WARNING  [linear_probe.py:165] Layer 17: 零向量无法归一化\n",
      "2025-07-23:16:55:02,583 WARNING  [linear_probe.py:158] Layer 18: 所有权重为零！可能需要调整正则化参数。\n",
      "2025-07-23:16:55:02,584 WARNING  [linear_probe.py:165] Layer 18: 零向量无法归一化\n",
      "2025-07-23:16:55:02,588 WARNING  [linear_probe.py:158] Layer 19: 所有权重为零！可能需要调整正则化参数。\n",
      "2025-07-23:16:55:02,589 WARNING  [linear_probe.py:165] Layer 19: 零向量无法归一化\n",
      "2025-07-23:16:55:02,593 WARNING  [linear_probe.py:158] Layer 20: 所有权重为零！可能需要调整正则化参数。\n",
      "2025-07-23:16:55:02,594 WARNING  [linear_probe.py:165] Layer 20: 零向量无法归一化\n",
      "2025-07-23:16:55:02,599 WARNING  [linear_probe.py:158] Layer 21: 所有权重为零！可能需要调整正则化参数。\n",
      "2025-07-23:16:55:02,600 WARNING  [linear_probe.py:165] Layer 21: 零向量无法归一化\n",
      "2025-07-23:16:55:02,604 WARNING  [linear_probe.py:158] Layer 22: 所有权重为零！可能需要调整正则化参数。\n",
      "2025-07-23:16:55:02,605 WARNING  [linear_probe.py:165] Layer 22: 零向量无法归一化\n",
      "2025-07-23:16:55:02,609 WARNING  [linear_probe.py:158] Layer 23: 所有权重为零！可能需要调整正则化参数。\n",
      "2025-07-23:16:55:02,610 WARNING  [linear_probe.py:165] Layer 23: 零向量无法归一化\n",
      "2025-07-23:16:55:02,615 WARNING  [linear_probe.py:158] Layer 24: 所有权重为零！可能需要调整正则化参数。\n",
      "2025-07-23:16:55:02,616 WARNING  [linear_probe.py:165] Layer 24: 零向量无法归一化\n",
      "2025-07-23:16:55:02,620 WARNING  [linear_probe.py:158] Layer 25: 所有权重为零！可能需要调整正则化参数。\n",
      "2025-07-23:16:55:02,621 WARNING  [linear_probe.py:165] Layer 25: 零向量无法归一化\n",
      "2025-07-23:16:55:02,625 WARNING  [linear_probe.py:158] Layer 26: 所有权重为零！可能需要调整正则化参数。\n",
      "2025-07-23:16:55:02,626 WARNING  [linear_probe.py:165] Layer 26: 零向量无法归一化\n",
      "2025-07-23:16:55:02,631 WARNING  [linear_probe.py:158] Layer 27: 所有权重为零！可能需要调整正则化参数。\n",
      "2025-07-23:16:55:02,631 WARNING  [linear_probe.py:165] Layer 27: 零向量无法归一化\n"
     ]
    },
    {
     "data": {
      "application/vnd.jupyter.widget-view+json": {
       "model_id": "df215d4e26de4a32bc7c2f1abd478738",
       "version_major": 2,
       "version_minor": 0
      },
      "text/plain": [
       "Computing DiffMean directions:   0%|          | 0/28 [00:00<?, ?it/s]"
      ]
     },
     "metadata": {},
     "output_type": "display_data"
    },
    {
     "data": {
      "application/vnd.jupyter.widget-view+json": {
       "model_id": "859a2fea9b6a4fbe90736e7a9406d24e",
       "version_major": 2,
       "version_minor": 0
      },
      "text/plain": [
       "Computing PCA directions:   0%|          | 0/28 [00:00<?, ?it/s]"
      ]
     },
     "metadata": {},
     "output_type": "display_data"
    },
    {
     "name": "stderr",
     "output_type": "stream",
     "text": [
      "/home/zhourui/miniconda3/envs/vllm/lib/python3.12/site-packages/sklearn/decomposition/_pca.py:787: RuntimeWarning: invalid value encountered in divide\n",
      "  self.explained_variance_ratio_ = self.explained_variance_ / total_var\n",
      "/home/zhourui/miniconda3/envs/vllm/lib/python3.12/site-packages/sklearn/decomposition/_pca.py:787: RuntimeWarning: invalid value encountered in divide\n",
      "  self.explained_variance_ratio_ = self.explained_variance_ / total_var\n",
      "/home/zhourui/miniconda3/envs/vllm/lib/python3.12/site-packages/sklearn/decomposition/_pca.py:787: RuntimeWarning: invalid value encountered in divide\n",
      "  self.explained_variance_ratio_ = self.explained_variance_ / total_var\n",
      "/home/zhourui/miniconda3/envs/vllm/lib/python3.12/site-packages/sklearn/decomposition/_pca.py:787: RuntimeWarning: invalid value encountered in divide\n",
      "  self.explained_variance_ratio_ = self.explained_variance_ / total_var\n",
      "/home/zhourui/miniconda3/envs/vllm/lib/python3.12/site-packages/sklearn/decomposition/_pca.py:787: RuntimeWarning: invalid value encountered in divide\n",
      "  self.explained_variance_ratio_ = self.explained_variance_ / total_var\n",
      "/home/zhourui/miniconda3/envs/vllm/lib/python3.12/site-packages/sklearn/decomposition/_pca.py:787: RuntimeWarning: invalid value encountered in divide\n",
      "  self.explained_variance_ratio_ = self.explained_variance_ / total_var\n",
      "/home/zhourui/miniconda3/envs/vllm/lib/python3.12/site-packages/sklearn/decomposition/_pca.py:787: RuntimeWarning: invalid value encountered in divide\n",
      "  self.explained_variance_ratio_ = self.explained_variance_ / total_var\n",
      "/home/zhourui/miniconda3/envs/vllm/lib/python3.12/site-packages/sklearn/decomposition/_pca.py:787: RuntimeWarning: invalid value encountered in divide\n",
      "  self.explained_variance_ratio_ = self.explained_variance_ / total_var\n",
      "/home/zhourui/miniconda3/envs/vllm/lib/python3.12/site-packages/sklearn/decomposition/_pca.py:787: RuntimeWarning: invalid value encountered in divide\n",
      "  self.explained_variance_ratio_ = self.explained_variance_ / total_var\n",
      "/home/zhourui/miniconda3/envs/vllm/lib/python3.12/site-packages/sklearn/decomposition/_pca.py:787: RuntimeWarning: invalid value encountered in divide\n",
      "  self.explained_variance_ratio_ = self.explained_variance_ / total_var\n",
      "/home/zhourui/miniconda3/envs/vllm/lib/python3.12/site-packages/sklearn/decomposition/_pca.py:787: RuntimeWarning: invalid value encountered in divide\n",
      "  self.explained_variance_ratio_ = self.explained_variance_ / total_var\n",
      "/home/zhourui/miniconda3/envs/vllm/lib/python3.12/site-packages/sklearn/decomposition/_pca.py:787: RuntimeWarning: invalid value encountered in divide\n",
      "  self.explained_variance_ratio_ = self.explained_variance_ / total_var\n",
      "/home/zhourui/miniconda3/envs/vllm/lib/python3.12/site-packages/sklearn/decomposition/_pca.py:787: RuntimeWarning: invalid value encountered in divide\n",
      "  self.explained_variance_ratio_ = self.explained_variance_ / total_var\n",
      "/home/zhourui/miniconda3/envs/vllm/lib/python3.12/site-packages/sklearn/decomposition/_pca.py:787: RuntimeWarning: invalid value encountered in divide\n",
      "  self.explained_variance_ratio_ = self.explained_variance_ / total_var\n",
      "/home/zhourui/miniconda3/envs/vllm/lib/python3.12/site-packages/sklearn/decomposition/_pca.py:787: RuntimeWarning: invalid value encountered in divide\n",
      "  self.explained_variance_ratio_ = self.explained_variance_ / total_var\n",
      "/home/zhourui/miniconda3/envs/vllm/lib/python3.12/site-packages/sklearn/decomposition/_pca.py:787: RuntimeWarning: invalid value encountered in divide\n",
      "  self.explained_variance_ratio_ = self.explained_variance_ / total_var\n",
      "/home/zhourui/miniconda3/envs/vllm/lib/python3.12/site-packages/sklearn/decomposition/_pca.py:787: RuntimeWarning: invalid value encountered in divide\n",
      "  self.explained_variance_ratio_ = self.explained_variance_ / total_var\n",
      "/home/zhourui/miniconda3/envs/vllm/lib/python3.12/site-packages/sklearn/decomposition/_pca.py:787: RuntimeWarning: invalid value encountered in divide\n",
      "  self.explained_variance_ratio_ = self.explained_variance_ / total_var\n",
      "/home/zhourui/miniconda3/envs/vllm/lib/python3.12/site-packages/sklearn/decomposition/_pca.py:787: RuntimeWarning: invalid value encountered in divide\n",
      "  self.explained_variance_ratio_ = self.explained_variance_ / total_var\n",
      "/home/zhourui/miniconda3/envs/vllm/lib/python3.12/site-packages/sklearn/decomposition/_pca.py:787: RuntimeWarning: invalid value encountered in divide\n",
      "  self.explained_variance_ratio_ = self.explained_variance_ / total_var\n",
      "/home/zhourui/miniconda3/envs/vllm/lib/python3.12/site-packages/sklearn/decomposition/_pca.py:787: RuntimeWarning: invalid value encountered in divide\n",
      "  self.explained_variance_ratio_ = self.explained_variance_ / total_var\n",
      "/home/zhourui/miniconda3/envs/vllm/lib/python3.12/site-packages/sklearn/decomposition/_pca.py:787: RuntimeWarning: invalid value encountered in divide\n",
      "  self.explained_variance_ratio_ = self.explained_variance_ / total_var\n",
      "/home/zhourui/miniconda3/envs/vllm/lib/python3.12/site-packages/sklearn/decomposition/_pca.py:787: RuntimeWarning: invalid value encountered in divide\n",
      "  self.explained_variance_ratio_ = self.explained_variance_ / total_var\n",
      "/home/zhourui/miniconda3/envs/vllm/lib/python3.12/site-packages/sklearn/decomposition/_pca.py:787: RuntimeWarning: invalid value encountered in divide\n",
      "  self.explained_variance_ratio_ = self.explained_variance_ / total_var\n",
      "/home/zhourui/miniconda3/envs/vllm/lib/python3.12/site-packages/sklearn/decomposition/_pca.py:787: RuntimeWarning: invalid value encountered in divide\n",
      "  self.explained_variance_ratio_ = self.explained_variance_ / total_var\n",
      "/home/zhourui/miniconda3/envs/vllm/lib/python3.12/site-packages/sklearn/decomposition/_pca.py:787: RuntimeWarning: invalid value encountered in divide\n",
      "  self.explained_variance_ratio_ = self.explained_variance_ / total_var\n",
      "/home/zhourui/miniconda3/envs/vllm/lib/python3.12/site-packages/sklearn/decomposition/_pca.py:787: RuntimeWarning: invalid value encountered in divide\n",
      "  self.explained_variance_ratio_ = self.explained_variance_ / total_var\n",
      "/home/zhourui/miniconda3/envs/vllm/lib/python3.12/site-packages/sklearn/decomposition/_pca.py:787: RuntimeWarning: invalid value encountered in divide\n",
      "  self.explained_variance_ratio_ = self.explained_variance_ / total_var\n",
      "2025-07-23:16:55:04,205 WARNING  [gguf_writer.py:274] Duplicated key name 'controlvector.method', overwriting it with new value 'standard' of type STRING\n"
     ]
    },
    {
     "data": {
      "application/vnd.jupyter.widget-view+json": {
       "model_id": "be0f2767aeee4a228facd84b953685c5",
       "version_major": 2,
       "version_minor": 0
      },
      "text/plain": [
       "Computing LinearProbe directions:   0%|          | 0/28 [00:00<?, ?it/s]"
      ]
     },
     "metadata": {},
     "output_type": "display_data"
    },
    {
     "name": "stderr",
     "output_type": "stream",
     "text": [
      "2025-07-23:16:55:04,997 WARNING  [linear_probe.py:158] Layer 0: 所有权重为零！可能需要调整正则化参数。\n",
      "2025-07-23:16:55:04,998 WARNING  [linear_probe.py:165] Layer 0: 零向量无法归一化\n",
      "2025-07-23:16:55:05,005 WARNING  [linear_probe.py:158] Layer 1: 所有权重为零！可能需要调整正则化参数。\n",
      "2025-07-23:16:55:05,006 WARNING  [linear_probe.py:165] Layer 1: 零向量无法归一化\n",
      "2025-07-23:16:55:05,013 WARNING  [linear_probe.py:158] Layer 2: 所有权重为零！可能需要调整正则化参数。\n",
      "2025-07-23:16:55:05,014 WARNING  [linear_probe.py:165] Layer 2: 零向量无法归一化\n",
      "2025-07-23:16:55:05,021 WARNING  [linear_probe.py:158] Layer 3: 所有权重为零！可能需要调整正则化参数。\n",
      "2025-07-23:16:55:05,022 WARNING  [linear_probe.py:165] Layer 3: 零向量无法归一化\n",
      "2025-07-23:16:55:05,030 WARNING  [linear_probe.py:158] Layer 4: 所有权重为零！可能需要调整正则化参数。\n",
      "2025-07-23:16:55:05,031 WARNING  [linear_probe.py:165] Layer 4: 零向量无法归一化\n",
      "2025-07-23:16:55:05,038 WARNING  [linear_probe.py:158] Layer 5: 所有权重为零！可能需要调整正则化参数。\n",
      "2025-07-23:16:55:05,039 WARNING  [linear_probe.py:165] Layer 5: 零向量无法归一化\n",
      "2025-07-23:16:55:05,046 WARNING  [linear_probe.py:158] Layer 6: 所有权重为零！可能需要调整正则化参数。\n",
      "2025-07-23:16:55:05,047 WARNING  [linear_probe.py:165] Layer 6: 零向量无法归一化\n",
      "2025-07-23:16:55:05,054 WARNING  [linear_probe.py:158] Layer 7: 所有权重为零！可能需要调整正则化参数。\n",
      "2025-07-23:16:55:05,054 WARNING  [linear_probe.py:165] Layer 7: 零向量无法归一化\n",
      "2025-07-23:16:55:05,061 WARNING  [linear_probe.py:158] Layer 8: 所有权重为零！可能需要调整正则化参数。\n",
      "2025-07-23:16:55:05,062 WARNING  [linear_probe.py:165] Layer 8: 零向量无法归一化\n",
      "2025-07-23:16:55:05,069 WARNING  [linear_probe.py:158] Layer 9: 所有权重为零！可能需要调整正则化参数。\n",
      "2025-07-23:16:55:05,070 WARNING  [linear_probe.py:165] Layer 9: 零向量无法归一化\n",
      "2025-07-23:16:55:05,077 WARNING  [linear_probe.py:158] Layer 10: 所有权重为零！可能需要调整正则化参数。\n",
      "2025-07-23:16:55:05,078 WARNING  [linear_probe.py:165] Layer 10: 零向量无法归一化\n",
      "2025-07-23:16:55:05,086 WARNING  [linear_probe.py:158] Layer 11: 所有权重为零！可能需要调整正则化参数。\n",
      "2025-07-23:16:55:05,087 WARNING  [linear_probe.py:165] Layer 11: 零向量无法归一化\n",
      "2025-07-23:16:55:05,093 WARNING  [linear_probe.py:158] Layer 12: 所有权重为零！可能需要调整正则化参数。\n",
      "2025-07-23:16:55:05,094 WARNING  [linear_probe.py:165] Layer 12: 零向量无法归一化\n",
      "2025-07-23:16:55:05,101 WARNING  [linear_probe.py:158] Layer 13: 所有权重为零！可能需要调整正则化参数。\n",
      "2025-07-23:16:55:05,102 WARNING  [linear_probe.py:165] Layer 13: 零向量无法归一化\n",
      "2025-07-23:16:55:05,108 WARNING  [linear_probe.py:158] Layer 14: 所有权重为零！可能需要调整正则化参数。\n",
      "2025-07-23:16:55:05,109 WARNING  [linear_probe.py:165] Layer 14: 零向量无法归一化\n",
      "2025-07-23:16:55:05,115 WARNING  [linear_probe.py:158] Layer 15: 所有权重为零！可能需要调整正则化参数。\n",
      "2025-07-23:16:55:05,116 WARNING  [linear_probe.py:165] Layer 15: 零向量无法归一化\n",
      "2025-07-23:16:55:05,122 WARNING  [linear_probe.py:158] Layer 16: 所有权重为零！可能需要调整正则化参数。\n",
      "2025-07-23:16:55:05,123 WARNING  [linear_probe.py:165] Layer 16: 零向量无法归一化\n",
      "2025-07-23:16:55:05,130 WARNING  [linear_probe.py:158] Layer 17: 所有权重为零！可能需要调整正则化参数。\n",
      "2025-07-23:16:55:05,131 WARNING  [linear_probe.py:165] Layer 17: 零向量无法归一化\n",
      "2025-07-23:16:55:05,137 WARNING  [linear_probe.py:158] Layer 18: 所有权重为零！可能需要调整正则化参数。\n",
      "2025-07-23:16:55:05,138 WARNING  [linear_probe.py:165] Layer 18: 零向量无法归一化\n",
      "2025-07-23:16:55:05,144 WARNING  [linear_probe.py:158] Layer 19: 所有权重为零！可能需要调整正则化参数。\n",
      "2025-07-23:16:55:05,144 WARNING  [linear_probe.py:165] Layer 19: 零向量无法归一化\n",
      "2025-07-23:16:55:05,151 WARNING  [linear_probe.py:158] Layer 20: 所有权重为零！可能需要调整正则化参数。\n",
      "2025-07-23:16:55:05,152 WARNING  [linear_probe.py:165] Layer 20: 零向量无法归一化\n",
      "2025-07-23:16:55:05,158 WARNING  [linear_probe.py:158] Layer 21: 所有权重为零！可能需要调整正则化参数。\n",
      "2025-07-23:16:55:05,159 WARNING  [linear_probe.py:165] Layer 21: 零向量无法归一化\n",
      "2025-07-23:16:55:05,164 WARNING  [linear_probe.py:158] Layer 22: 所有权重为零！可能需要调整正则化参数。\n",
      "2025-07-23:16:55:05,165 WARNING  [linear_probe.py:165] Layer 22: 零向量无法归一化\n",
      "2025-07-23:16:55:05,171 WARNING  [linear_probe.py:158] Layer 23: 所有权重为零！可能需要调整正则化参数。\n",
      "2025-07-23:16:55:05,172 WARNING  [linear_probe.py:165] Layer 23: 零向量无法归一化\n",
      "2025-07-23:16:55:05,178 WARNING  [linear_probe.py:158] Layer 24: 所有权重为零！可能需要调整正则化参数。\n",
      "2025-07-23:16:55:05,178 WARNING  [linear_probe.py:165] Layer 24: 零向量无法归一化\n",
      "2025-07-23:16:55:05,185 WARNING  [linear_probe.py:158] Layer 25: 所有权重为零！可能需要调整正则化参数。\n",
      "2025-07-23:16:55:05,186 WARNING  [linear_probe.py:165] Layer 25: 零向量无法归一化\n",
      "2025-07-23:16:55:05,192 WARNING  [linear_probe.py:158] Layer 26: 所有权重为零！可能需要调整正则化参数。\n",
      "2025-07-23:16:55:05,192 WARNING  [linear_probe.py:165] Layer 26: 零向量无法归一化\n",
      "2025-07-23:16:55:05,198 WARNING  [linear_probe.py:158] Layer 27: 所有权重为零！可能需要调整正则化参数。\n",
      "2025-07-23:16:55:05,199 WARNING  [linear_probe.py:165] Layer 27: 零向量无法归一化\n"
     ]
    },
    {
     "data": {
      "application/vnd.jupyter.widget-view+json": {
       "model_id": "90a09d284b1d4cb7a9c6fda260cc96c4",
       "version_major": 2,
       "version_minor": 0
      },
      "text/plain": [
       "Computing DiffMean directions:   0%|          | 0/28 [00:00<?, ?it/s]"
      ]
     },
     "metadata": {},
     "output_type": "display_data"
    },
    {
     "data": {
      "application/vnd.jupyter.widget-view+json": {
       "model_id": "ee0e5342dac240599291b91736694160",
       "version_major": 2,
       "version_minor": 0
      },
      "text/plain": [
       "Computing PCA directions:   0%|          | 0/28 [00:00<?, ?it/s]"
      ]
     },
     "metadata": {},
     "output_type": "display_data"
    },
    {
     "name": "stderr",
     "output_type": "stream",
     "text": [
      "/home/zhourui/miniconda3/envs/vllm/lib/python3.12/site-packages/sklearn/decomposition/_pca.py:787: RuntimeWarning: invalid value encountered in divide\n",
      "  self.explained_variance_ratio_ = self.explained_variance_ / total_var\n",
      "/home/zhourui/miniconda3/envs/vllm/lib/python3.12/site-packages/sklearn/decomposition/_pca.py:787: RuntimeWarning: invalid value encountered in divide\n",
      "  self.explained_variance_ratio_ = self.explained_variance_ / total_var\n",
      "/home/zhourui/miniconda3/envs/vllm/lib/python3.12/site-packages/sklearn/decomposition/_pca.py:787: RuntimeWarning: invalid value encountered in divide\n",
      "  self.explained_variance_ratio_ = self.explained_variance_ / total_var\n",
      "/home/zhourui/miniconda3/envs/vllm/lib/python3.12/site-packages/sklearn/decomposition/_pca.py:787: RuntimeWarning: invalid value encountered in divide\n",
      "  self.explained_variance_ratio_ = self.explained_variance_ / total_var\n",
      "/home/zhourui/miniconda3/envs/vllm/lib/python3.12/site-packages/sklearn/decomposition/_pca.py:787: RuntimeWarning: invalid value encountered in divide\n",
      "  self.explained_variance_ratio_ = self.explained_variance_ / total_var\n",
      "/home/zhourui/miniconda3/envs/vllm/lib/python3.12/site-packages/sklearn/decomposition/_pca.py:787: RuntimeWarning: invalid value encountered in divide\n",
      "  self.explained_variance_ratio_ = self.explained_variance_ / total_var\n",
      "/home/zhourui/miniconda3/envs/vllm/lib/python3.12/site-packages/sklearn/decomposition/_pca.py:787: RuntimeWarning: invalid value encountered in divide\n",
      "  self.explained_variance_ratio_ = self.explained_variance_ / total_var\n",
      "/home/zhourui/miniconda3/envs/vllm/lib/python3.12/site-packages/sklearn/decomposition/_pca.py:787: RuntimeWarning: invalid value encountered in divide\n",
      "  self.explained_variance_ratio_ = self.explained_variance_ / total_var\n",
      "/home/zhourui/miniconda3/envs/vllm/lib/python3.12/site-packages/sklearn/decomposition/_pca.py:787: RuntimeWarning: invalid value encountered in divide\n",
      "  self.explained_variance_ratio_ = self.explained_variance_ / total_var\n",
      "/home/zhourui/miniconda3/envs/vllm/lib/python3.12/site-packages/sklearn/decomposition/_pca.py:787: RuntimeWarning: invalid value encountered in divide\n",
      "  self.explained_variance_ratio_ = self.explained_variance_ / total_var\n",
      "/home/zhourui/miniconda3/envs/vllm/lib/python3.12/site-packages/sklearn/decomposition/_pca.py:787: RuntimeWarning: invalid value encountered in divide\n",
      "  self.explained_variance_ratio_ = self.explained_variance_ / total_var\n",
      "/home/zhourui/miniconda3/envs/vllm/lib/python3.12/site-packages/sklearn/decomposition/_pca.py:787: RuntimeWarning: invalid value encountered in divide\n",
      "  self.explained_variance_ratio_ = self.explained_variance_ / total_var\n",
      "/home/zhourui/miniconda3/envs/vllm/lib/python3.12/site-packages/sklearn/decomposition/_pca.py:787: RuntimeWarning: invalid value encountered in divide\n",
      "  self.explained_variance_ratio_ = self.explained_variance_ / total_var\n",
      "/home/zhourui/miniconda3/envs/vllm/lib/python3.12/site-packages/sklearn/decomposition/_pca.py:787: RuntimeWarning: invalid value encountered in divide\n",
      "  self.explained_variance_ratio_ = self.explained_variance_ / total_var\n",
      "/home/zhourui/miniconda3/envs/vllm/lib/python3.12/site-packages/sklearn/decomposition/_pca.py:787: RuntimeWarning: invalid value encountered in divide\n",
      "  self.explained_variance_ratio_ = self.explained_variance_ / total_var\n",
      "/home/zhourui/miniconda3/envs/vllm/lib/python3.12/site-packages/sklearn/decomposition/_pca.py:787: RuntimeWarning: invalid value encountered in divide\n",
      "  self.explained_variance_ratio_ = self.explained_variance_ / total_var\n",
      "/home/zhourui/miniconda3/envs/vllm/lib/python3.12/site-packages/sklearn/decomposition/_pca.py:787: RuntimeWarning: invalid value encountered in divide\n",
      "  self.explained_variance_ratio_ = self.explained_variance_ / total_var\n",
      "/home/zhourui/miniconda3/envs/vllm/lib/python3.12/site-packages/sklearn/decomposition/_pca.py:787: RuntimeWarning: invalid value encountered in divide\n",
      "  self.explained_variance_ratio_ = self.explained_variance_ / total_var\n",
      "/home/zhourui/miniconda3/envs/vllm/lib/python3.12/site-packages/sklearn/decomposition/_pca.py:787: RuntimeWarning: invalid value encountered in divide\n",
      "  self.explained_variance_ratio_ = self.explained_variance_ / total_var\n",
      "/home/zhourui/miniconda3/envs/vllm/lib/python3.12/site-packages/sklearn/decomposition/_pca.py:787: RuntimeWarning: invalid value encountered in divide\n",
      "  self.explained_variance_ratio_ = self.explained_variance_ / total_var\n",
      "/home/zhourui/miniconda3/envs/vllm/lib/python3.12/site-packages/sklearn/decomposition/_pca.py:787: RuntimeWarning: invalid value encountered in divide\n",
      "  self.explained_variance_ratio_ = self.explained_variance_ / total_var\n",
      "/home/zhourui/miniconda3/envs/vllm/lib/python3.12/site-packages/sklearn/decomposition/_pca.py:787: RuntimeWarning: invalid value encountered in divide\n",
      "  self.explained_variance_ratio_ = self.explained_variance_ / total_var\n",
      "/home/zhourui/miniconda3/envs/vllm/lib/python3.12/site-packages/sklearn/decomposition/_pca.py:787: RuntimeWarning: invalid value encountered in divide\n",
      "  self.explained_variance_ratio_ = self.explained_variance_ / total_var\n",
      "/home/zhourui/miniconda3/envs/vllm/lib/python3.12/site-packages/sklearn/decomposition/_pca.py:787: RuntimeWarning: invalid value encountered in divide\n",
      "  self.explained_variance_ratio_ = self.explained_variance_ / total_var\n",
      "/home/zhourui/miniconda3/envs/vllm/lib/python3.12/site-packages/sklearn/decomposition/_pca.py:787: RuntimeWarning: invalid value encountered in divide\n",
      "  self.explained_variance_ratio_ = self.explained_variance_ / total_var\n",
      "/home/zhourui/miniconda3/envs/vllm/lib/python3.12/site-packages/sklearn/decomposition/_pca.py:787: RuntimeWarning: invalid value encountered in divide\n",
      "  self.explained_variance_ratio_ = self.explained_variance_ / total_var\n",
      "/home/zhourui/miniconda3/envs/vllm/lib/python3.12/site-packages/sklearn/decomposition/_pca.py:787: RuntimeWarning: invalid value encountered in divide\n",
      "  self.explained_variance_ratio_ = self.explained_variance_ / total_var\n",
      "/home/zhourui/miniconda3/envs/vllm/lib/python3.12/site-packages/sklearn/decomposition/_pca.py:787: RuntimeWarning: invalid value encountered in divide\n",
      "  self.explained_variance_ratio_ = self.explained_variance_ / total_var\n",
      "2025-07-23:16:55:06,711 WARNING  [gguf_writer.py:274] Duplicated key name 'controlvector.method', overwriting it with new value 'standard' of type STRING\n"
     ]
    },
    {
     "data": {
      "application/vnd.jupyter.widget-view+json": {
       "model_id": "15105ce66b29468ca34bb4500bcd0413",
       "version_major": 2,
       "version_minor": 0
      },
      "text/plain": [
       "Computing LinearProbe directions:   0%|          | 0/28 [00:00<?, ?it/s]"
      ]
     },
     "metadata": {},
     "output_type": "display_data"
    },
    {
     "name": "stderr",
     "output_type": "stream",
     "text": [
      "2025-07-23:16:55:07,687 WARNING  [linear_probe.py:158] Layer 0: 所有权重为零！可能需要调整正则化参数。\n",
      "2025-07-23:16:55:07,688 WARNING  [linear_probe.py:165] Layer 0: 零向量无法归一化\n",
      "2025-07-23:16:55:07,695 WARNING  [linear_probe.py:158] Layer 1: 所有权重为零！可能需要调整正则化参数。\n",
      "2025-07-23:16:55:07,696 WARNING  [linear_probe.py:165] Layer 1: 零向量无法归一化\n",
      "2025-07-23:16:55:07,702 WARNING  [linear_probe.py:158] Layer 2: 所有权重为零！可能需要调整正则化参数。\n",
      "2025-07-23:16:55:07,703 WARNING  [linear_probe.py:165] Layer 2: 零向量无法归一化\n",
      "2025-07-23:16:55:07,709 WARNING  [linear_probe.py:158] Layer 3: 所有权重为零！可能需要调整正则化参数。\n",
      "2025-07-23:16:55:07,710 WARNING  [linear_probe.py:165] Layer 3: 零向量无法归一化\n",
      "2025-07-23:16:55:07,717 WARNING  [linear_probe.py:158] Layer 4: 所有权重为零！可能需要调整正则化参数。\n",
      "2025-07-23:16:55:07,717 WARNING  [linear_probe.py:165] Layer 4: 零向量无法归一化\n",
      "2025-07-23:16:55:07,723 WARNING  [linear_probe.py:158] Layer 5: 所有权重为零！可能需要调整正则化参数。\n",
      "2025-07-23:16:55:07,724 WARNING  [linear_probe.py:165] Layer 5: 零向量无法归一化\n",
      "2025-07-23:16:55:07,731 WARNING  [linear_probe.py:158] Layer 6: 所有权重为零！可能需要调整正则化参数。\n",
      "2025-07-23:16:55:07,732 WARNING  [linear_probe.py:165] Layer 6: 零向量无法归一化\n",
      "2025-07-23:16:55:07,739 WARNING  [linear_probe.py:158] Layer 7: 所有权重为零！可能需要调整正则化参数。\n",
      "2025-07-23:16:55:07,740 WARNING  [linear_probe.py:165] Layer 7: 零向量无法归一化\n",
      "2025-07-23:16:55:07,747 WARNING  [linear_probe.py:158] Layer 8: 所有权重为零！可能需要调整正则化参数。\n",
      "2025-07-23:16:55:07,748 WARNING  [linear_probe.py:165] Layer 8: 零向量无法归一化\n",
      "2025-07-23:16:55:07,755 WARNING  [linear_probe.py:158] Layer 9: 所有权重为零！可能需要调整正则化参数。\n",
      "2025-07-23:16:55:07,756 WARNING  [linear_probe.py:165] Layer 9: 零向量无法归一化\n",
      "2025-07-23:16:55:07,763 WARNING  [linear_probe.py:158] Layer 10: 所有权重为零！可能需要调整正则化参数。\n",
      "2025-07-23:16:55:07,764 WARNING  [linear_probe.py:165] Layer 10: 零向量无法归一化\n",
      "2025-07-23:16:55:07,770 WARNING  [linear_probe.py:158] Layer 11: 所有权重为零！可能需要调整正则化参数。\n",
      "2025-07-23:16:55:07,771 WARNING  [linear_probe.py:165] Layer 11: 零向量无法归一化\n",
      "2025-07-23:16:55:07,779 WARNING  [linear_probe.py:158] Layer 12: 所有权重为零！可能需要调整正则化参数。\n",
      "2025-07-23:16:55:07,780 WARNING  [linear_probe.py:165] Layer 12: 零向量无法归一化\n",
      "2025-07-23:16:55:07,786 WARNING  [linear_probe.py:158] Layer 13: 所有权重为零！可能需要调整正则化参数。\n",
      "2025-07-23:16:55:07,787 WARNING  [linear_probe.py:165] Layer 13: 零向量无法归一化\n",
      "2025-07-23:16:55:07,793 WARNING  [linear_probe.py:158] Layer 14: 所有权重为零！可能需要调整正则化参数。\n",
      "2025-07-23:16:55:07,794 WARNING  [linear_probe.py:165] Layer 14: 零向量无法归一化\n",
      "2025-07-23:16:55:07,800 WARNING  [linear_probe.py:158] Layer 15: 所有权重为零！可能需要调整正则化参数。\n",
      "2025-07-23:16:55:07,801 WARNING  [linear_probe.py:165] Layer 15: 零向量无法归一化\n",
      "2025-07-23:16:55:07,808 WARNING  [linear_probe.py:158] Layer 16: 所有权重为零！可能需要调整正则化参数。\n",
      "2025-07-23:16:55:07,808 WARNING  [linear_probe.py:165] Layer 16: 零向量无法归一化\n",
      "2025-07-23:16:55:07,814 WARNING  [linear_probe.py:158] Layer 17: 所有权重为零！可能需要调整正则化参数。\n",
      "2025-07-23:16:55:07,815 WARNING  [linear_probe.py:165] Layer 17: 零向量无法归一化\n",
      "2025-07-23:16:55:07,821 WARNING  [linear_probe.py:158] Layer 18: 所有权重为零！可能需要调整正则化参数。\n",
      "2025-07-23:16:55:07,822 WARNING  [linear_probe.py:165] Layer 18: 零向量无法归一化\n",
      "2025-07-23:16:55:07,828 WARNING  [linear_probe.py:158] Layer 19: 所有权重为零！可能需要调整正则化参数。\n",
      "2025-07-23:16:55:07,829 WARNING  [linear_probe.py:165] Layer 19: 零向量无法归一化\n",
      "2025-07-23:16:55:07,835 WARNING  [linear_probe.py:158] Layer 20: 所有权重为零！可能需要调整正则化参数。\n",
      "2025-07-23:16:55:07,836 WARNING  [linear_probe.py:165] Layer 20: 零向量无法归一化\n",
      "2025-07-23:16:55:07,841 WARNING  [linear_probe.py:158] Layer 21: 所有权重为零！可能需要调整正则化参数。\n",
      "2025-07-23:16:55:07,842 WARNING  [linear_probe.py:165] Layer 21: 零向量无法归一化\n",
      "2025-07-23:16:55:07,848 WARNING  [linear_probe.py:158] Layer 22: 所有权重为零！可能需要调整正则化参数。\n",
      "2025-07-23:16:55:07,849 WARNING  [linear_probe.py:165] Layer 22: 零向量无法归一化\n",
      "2025-07-23:16:55:07,855 WARNING  [linear_probe.py:158] Layer 23: 所有权重为零！可能需要调整正则化参数。\n",
      "2025-07-23:16:55:07,856 WARNING  [linear_probe.py:165] Layer 23: 零向量无法归一化\n",
      "2025-07-23:16:55:07,862 WARNING  [linear_probe.py:158] Layer 24: 所有权重为零！可能需要调整正则化参数。\n",
      "2025-07-23:16:55:07,862 WARNING  [linear_probe.py:165] Layer 24: 零向量无法归一化\n",
      "2025-07-23:16:55:07,868 WARNING  [linear_probe.py:158] Layer 25: 所有权重为零！可能需要调整正则化参数。\n",
      "2025-07-23:16:55:07,869 WARNING  [linear_probe.py:165] Layer 25: 零向量无法归一化\n",
      "2025-07-23:16:55:07,874 WARNING  [linear_probe.py:158] Layer 26: 所有权重为零！可能需要调整正则化参数。\n",
      "2025-07-23:16:55:07,875 WARNING  [linear_probe.py:165] Layer 26: 零向量无法归一化\n",
      "2025-07-23:16:55:07,882 WARNING  [linear_probe.py:158] Layer 27: 所有权重为零！可能需要调整正则化参数。\n",
      "2025-07-23:16:55:07,882 WARNING  [linear_probe.py:165] Layer 27: 零向量无法归一化\n"
     ]
    },
    {
     "data": {
      "application/vnd.jupyter.widget-view+json": {
       "model_id": "4fcf67146700446a8b7a5d8627bb79c7",
       "version_major": 2,
       "version_minor": 0
      },
      "text/plain": [
       "Computing DiffMean directions:   0%|          | 0/28 [00:00<?, ?it/s]"
      ]
     },
     "metadata": {},
     "output_type": "display_data"
    },
    {
     "data": {
      "application/vnd.jupyter.widget-view+json": {
       "model_id": "0aa6318978344e59849513dc571234fa",
       "version_major": 2,
       "version_minor": 0
      },
      "text/plain": [
       "Computing PCA directions:   0%|          | 0/28 [00:00<?, ?it/s]"
      ]
     },
     "metadata": {},
     "output_type": "display_data"
    },
    {
     "name": "stderr",
     "output_type": "stream",
     "text": [
      "2025-07-23:16:55:08,995 WARNING  [gguf_writer.py:274] Duplicated key name 'controlvector.method', overwriting it with new value 'standard' of type STRING\n"
     ]
    },
    {
     "data": {
      "application/vnd.jupyter.widget-view+json": {
       "model_id": "3cdfcf6059e8475698789c0459be0f9c",
       "version_major": 2,
       "version_minor": 0
      },
      "text/plain": [
       "Computing LinearProbe directions:   0%|          | 0/28 [00:00<?, ?it/s]"
      ]
     },
     "metadata": {},
     "output_type": "display_data"
    },
    {
     "name": "stderr",
     "output_type": "stream",
     "text": [
      "2025-07-23:16:55:09,468 WARNING  [linear_probe.py:158] Layer 0: 所有权重为零！可能需要调整正则化参数。\n",
      "2025-07-23:16:55:09,469 WARNING  [linear_probe.py:165] Layer 0: 零向量无法归一化\n",
      "2025-07-23:16:55:09,476 WARNING  [linear_probe.py:158] Layer 1: 所有权重为零！可能需要调整正则化参数。\n",
      "2025-07-23:16:55:09,477 WARNING  [linear_probe.py:165] Layer 1: 零向量无法归一化\n",
      "2025-07-23:16:55:09,484 WARNING  [linear_probe.py:158] Layer 2: 所有权重为零！可能需要调整正则化参数。\n",
      "2025-07-23:16:55:09,485 WARNING  [linear_probe.py:165] Layer 2: 零向量无法归一化\n",
      "2025-07-23:16:55:09,492 WARNING  [linear_probe.py:158] Layer 3: 所有权重为零！可能需要调整正则化参数。\n",
      "2025-07-23:16:55:09,494 WARNING  [linear_probe.py:165] Layer 3: 零向量无法归一化\n",
      "2025-07-23:16:55:09,501 WARNING  [linear_probe.py:158] Layer 4: 所有权重为零！可能需要调整正则化参数。\n",
      "2025-07-23:16:55:09,503 WARNING  [linear_probe.py:165] Layer 4: 零向量无法归一化\n",
      "2025-07-23:16:55:09,510 WARNING  [linear_probe.py:158] Layer 5: 所有权重为零！可能需要调整正则化参数。\n",
      "2025-07-23:16:55:09,511 WARNING  [linear_probe.py:165] Layer 5: 零向量无法归一化\n",
      "2025-07-23:16:55:09,518 WARNING  [linear_probe.py:158] Layer 6: 所有权重为零！可能需要调整正则化参数。\n",
      "2025-07-23:16:55:09,519 WARNING  [linear_probe.py:165] Layer 6: 零向量无法归一化\n",
      "2025-07-23:16:55:09,526 WARNING  [linear_probe.py:158] Layer 7: 所有权重为零！可能需要调整正则化参数。\n",
      "2025-07-23:16:55:09,527 WARNING  [linear_probe.py:165] Layer 7: 零向量无法归一化\n",
      "2025-07-23:16:55:09,534 WARNING  [linear_probe.py:158] Layer 8: 所有权重为零！可能需要调整正则化参数。\n",
      "2025-07-23:16:55:09,535 WARNING  [linear_probe.py:165] Layer 8: 零向量无法归一化\n",
      "2025-07-23:16:55:09,542 WARNING  [linear_probe.py:158] Layer 9: 所有权重为零！可能需要调整正则化参数。\n",
      "2025-07-23:16:55:09,543 WARNING  [linear_probe.py:165] Layer 9: 零向量无法归一化\n",
      "2025-07-23:16:55:09,552 WARNING  [linear_probe.py:158] Layer 10: 所有权重为零！可能需要调整正则化参数。\n",
      "2025-07-23:16:55:09,553 WARNING  [linear_probe.py:165] Layer 10: 零向量无法归一化\n",
      "2025-07-23:16:55:09,559 WARNING  [linear_probe.py:158] Layer 11: 所有权重为零！可能需要调整正则化参数。\n",
      "2025-07-23:16:55:09,560 WARNING  [linear_probe.py:165] Layer 11: 零向量无法归一化\n",
      "2025-07-23:16:55:09,567 WARNING  [linear_probe.py:158] Layer 12: 所有权重为零！可能需要调整正则化参数。\n",
      "2025-07-23:16:55:09,568 WARNING  [linear_probe.py:165] Layer 12: 零向量无法归一化\n",
      "2025-07-23:16:55:09,574 WARNING  [linear_probe.py:158] Layer 13: 所有权重为零！可能需要调整正则化参数。\n",
      "2025-07-23:16:55:09,575 WARNING  [linear_probe.py:165] Layer 13: 零向量无法归一化\n",
      "2025-07-23:16:55:09,582 WARNING  [linear_probe.py:158] Layer 14: 所有权重为零！可能需要调整正则化参数。\n",
      "2025-07-23:16:55:09,582 WARNING  [linear_probe.py:165] Layer 14: 零向量无法归一化\n",
      "2025-07-23:16:55:09,589 WARNING  [linear_probe.py:158] Layer 15: 所有权重为零！可能需要调整正则化参数。\n",
      "2025-07-23:16:55:09,590 WARNING  [linear_probe.py:165] Layer 15: 零向量无法归一化\n",
      "2025-07-23:16:55:09,596 WARNING  [linear_probe.py:158] Layer 16: 所有权重为零！可能需要调整正则化参数。\n",
      "2025-07-23:16:55:09,597 WARNING  [linear_probe.py:165] Layer 16: 零向量无法归一化\n",
      "2025-07-23:16:55:09,603 WARNING  [linear_probe.py:158] Layer 17: 所有权重为零！可能需要调整正则化参数。\n",
      "2025-07-23:16:55:09,604 WARNING  [linear_probe.py:165] Layer 17: 零向量无法归一化\n",
      "2025-07-23:16:55:09,610 WARNING  [linear_probe.py:158] Layer 18: 所有权重为零！可能需要调整正则化参数。\n",
      "2025-07-23:16:55:09,611 WARNING  [linear_probe.py:165] Layer 18: 零向量无法归一化\n",
      "2025-07-23:16:55:09,617 WARNING  [linear_probe.py:158] Layer 19: 所有权重为零！可能需要调整正则化参数。\n",
      "2025-07-23:16:55:09,618 WARNING  [linear_probe.py:165] Layer 19: 零向量无法归一化\n",
      "2025-07-23:16:55:09,624 WARNING  [linear_probe.py:158] Layer 20: 所有权重为零！可能需要调整正则化参数。\n",
      "2025-07-23:16:55:09,625 WARNING  [linear_probe.py:165] Layer 20: 零向量无法归一化\n",
      "2025-07-23:16:55:09,631 WARNING  [linear_probe.py:158] Layer 21: 所有权重为零！可能需要调整正则化参数。\n",
      "2025-07-23:16:55:09,632 WARNING  [linear_probe.py:165] Layer 21: 零向量无法归一化\n",
      "2025-07-23:16:55:09,638 WARNING  [linear_probe.py:158] Layer 22: 所有权重为零！可能需要调整正则化参数。\n",
      "2025-07-23:16:55:09,639 WARNING  [linear_probe.py:165] Layer 22: 零向量无法归一化\n",
      "2025-07-23:16:55:09,644 WARNING  [linear_probe.py:158] Layer 23: 所有权重为零！可能需要调整正则化参数。\n",
      "2025-07-23:16:55:09,645 WARNING  [linear_probe.py:165] Layer 23: 零向量无法归一化\n",
      "2025-07-23:16:55:09,652 WARNING  [linear_probe.py:158] Layer 24: 所有权重为零！可能需要调整正则化参数。\n",
      "2025-07-23:16:55:09,653 WARNING  [linear_probe.py:165] Layer 24: 零向量无法归一化\n",
      "2025-07-23:16:55:09,658 WARNING  [linear_probe.py:158] Layer 25: 所有权重为零！可能需要调整正则化参数。\n",
      "2025-07-23:16:55:09,659 WARNING  [linear_probe.py:165] Layer 25: 零向量无法归一化\n",
      "2025-07-23:16:55:09,665 WARNING  [linear_probe.py:158] Layer 26: 所有权重为零！可能需要调整正则化参数。\n",
      "2025-07-23:16:55:09,665 WARNING  [linear_probe.py:165] Layer 26: 零向量无法归一化\n",
      "2025-07-23:16:55:09,671 WARNING  [linear_probe.py:158] Layer 27: 所有权重为零！可能需要调整正则化参数。\n",
      "2025-07-23:16:55:09,672 WARNING  [linear_probe.py:165] Layer 27: 零向量无法归一化\n"
     ]
    },
    {
     "data": {
      "application/vnd.jupyter.widget-view+json": {
       "model_id": "3ce2204e1d564d2ebfd2b31d92180dc6",
       "version_major": 2,
       "version_minor": 0
      },
      "text/plain": [
       "Computing DiffMean directions:   0%|          | 0/28 [00:00<?, ?it/s]"
      ]
     },
     "metadata": {},
     "output_type": "display_data"
    },
    {
     "data": {
      "application/vnd.jupyter.widget-view+json": {
       "model_id": "25f3463139ce46188c50765b50ff6b91",
       "version_major": 2,
       "version_minor": 0
      },
      "text/plain": [
       "Computing PCA directions:   0%|          | 0/28 [00:00<?, ?it/s]"
      ]
     },
     "metadata": {},
     "output_type": "display_data"
    },
    {
     "name": "stderr",
     "output_type": "stream",
     "text": [
      "2025-07-23:16:55:10,875 WARNING  [gguf_writer.py:274] Duplicated key name 'controlvector.method', overwriting it with new value 'standard' of type STRING\n"
     ]
    },
    {
     "data": {
      "application/vnd.jupyter.widget-view+json": {
       "model_id": "71cd89599e7a4a0085c139786ec05f5c",
       "version_major": 2,
       "version_minor": 0
      },
      "text/plain": [
       "Computing LinearProbe directions:   0%|          | 0/28 [00:00<?, ?it/s]"
      ]
     },
     "metadata": {},
     "output_type": "display_data"
    },
    {
     "data": {
      "application/vnd.jupyter.widget-view+json": {
       "model_id": "41bb6268b43d4e6e81329fa36c4df167",
       "version_major": 2,
       "version_minor": 0
      },
      "text/plain": [
       "Computing DiffMean directions:   0%|          | 0/28 [00:00<?, ?it/s]"
      ]
     },
     "metadata": {},
     "output_type": "display_data"
    },
    {
     "data": {
      "application/vnd.jupyter.widget-view+json": {
       "model_id": "5f2d4e36d93d4b5084f8ded55521cd52",
       "version_major": 2,
       "version_minor": 0
      },
      "text/plain": [
       "Computing PCA directions:   0%|          | 0/28 [00:00<?, ?it/s]"
      ]
     },
     "metadata": {},
     "output_type": "display_data"
    },
    {
     "name": "stderr",
     "output_type": "stream",
     "text": [
      "2025-07-23:16:55:12,744 WARNING  [gguf_writer.py:274] Duplicated key name 'controlvector.method', overwriting it with new value 'standard' of type STRING\n"
     ]
    },
    {
     "data": {
      "application/vnd.jupyter.widget-view+json": {
       "model_id": "4a0477b6eeee4957b3ff2b0e70abc0e8",
       "version_major": 2,
       "version_minor": 0
      },
      "text/plain": [
       "Computing LinearProbe directions:   0%|          | 0/28 [00:00<?, ?it/s]"
      ]
     },
     "metadata": {},
     "output_type": "display_data"
    }
   ],
   "source": [
    "from easysteer.steer import extract_diffmean_control_vector, extract_pca_control_vector, extract_linear_probe_control_vector, StatisticalControlVector\n",
    "\n",
    "for position in pos:\n",
    "    # DiffMean computes the difference between harmful and normal hidden states\n",
    "    control_vector = extract_diffmean_control_vector(\n",
    "        all_hidden_states=all_hidden_states,    # 3D list [sample][layer][token]\n",
    "        positive_indices=[0, 1, 2],             # Indices of harmful examples (should be refused)\n",
    "        negative_indices=[3, 4, 5],             # Indices of normal examples (should be answered)\n",
    "        model_type=\"qwen2.5\",                   # Model type\n",
    "        token_pos= position,                         # Target the last token position\n",
    "        normalize=True                          # Normalize the resulting vector\n",
    "    )\n",
    "    control_vector.export_gguf(f\"diffmean_{position}.gguf\")  # Save vector to file\n",
    "\n",
    "    control_vector = extract_pca_control_vector(\n",
    "        all_hidden_states=all_hidden_states,\n",
    "        positive_indices=[0, 1, 2],\n",
    "        negative_indices=[3, 4, 5],\n",
    "        use_positive_only = False,  # Use both positive and negative examples\n",
    "        token_pos=position,                  \n",
    "        normalize=True\n",
    "    )\n",
    "    control_vector.export_gguf(f\"pca_{position}.gguf\")  # Save vector to file\n",
    "\n",
    "\n",
    "    control_vector = extract_linear_probe_control_vector(\n",
    "        all_hidden_states=all_hidden_states,\n",
    "        positive_indices=[0, 1, 2],\n",
    "        negative_indices=[3, 4, 5],\n",
    "        model_type=\"qwen2.5\",\n",
    "        token_pos=position,\n",
    "        normalize=True    \n",
    "    )\n",
    "    control_vector.export_gguf(f\"lb_{position}.gguf\")  # Save vector to file\n"
   ]
  }
 ],
 "metadata": {
  "kernelspec": {
   "display_name": "vllm",
   "language": "python",
   "name": "python3"
  },
  "language_info": {
   "codemirror_mode": {
    "name": "ipython",
    "version": 3
   },
   "file_extension": ".py",
   "mimetype": "text/x-python",
   "name": "python",
   "nbconvert_exporter": "python",
   "pygments_lexer": "ipython3",
   "version": "3.12.11"
  }
 },
 "nbformat": 4,
 "nbformat_minor": 5
}
