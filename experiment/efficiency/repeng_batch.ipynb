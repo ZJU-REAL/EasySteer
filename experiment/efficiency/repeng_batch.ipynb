{
 "cells": [
  {
   "cell_type": "code",
   "execution_count": null,
   "id": "ce147145-5299-4f5d-bc16-9d5fd9d3f47c",
   "metadata": {},
   "outputs": [],
   "source": [
    "import json\n",
    "file_path = \"/home/xhl/eval/my_eval/data/math/train.jsonl\"\n",
    "\n",
    "problems = []\n",
    "answers = []\n",
    "\n",
    "with open(file_path, \"r\", encoding=\"utf-8\") as f:\n",
    "    for line in f:\n",
    "        item = json.loads(line)\n",
    "        problems.append(item[\"problem\"])\n",
    "        answers.append(item[\"answer\"])\n",
    "examples = [\"Please reason step by step, and put your final answer within \\\\boxed{}.\\nUser: \" + prompt + \"\\nAssistant: <think>\" for prompt in problems]"
   ]
  },
  {
   "cell_type": "code",
   "execution_count": null,
   "id": "3c2b63fc-dd1f-429c-88f4-c7a8f2efd0a7",
   "metadata": {},
   "outputs": [],
   "source": [
    "import json\n",
    "import torch\n",
    "from transformers import AutoModelForCausalLM, AutoTokenizer\n",
    "from repeng import ControlVector, ControlModel, DatasetEntry\n",
    "import time\n",
    "\n",
    "model_name = \"/data/zju-46/shenyl/hf/model/deepseek-ai/DeepSeek-R1-Distill-Qwen-1.5B/\"\n",
    "\n",
    "tokenizer = AutoTokenizer.from_pretrained(model_name)\n",
    "# 使用左侧padding以匹配控制模块的mask逻辑\n",
    "tokenizer.padding_side = \"left\"\n",
    "# 保持已有设置\n",
    "tokenizer.pad_token_id = 0\n",
    "\n",
    "model = AutoModelForCausalLM.from_pretrained(model_name)\n",
    "print(model)\n",
    "model = model.to(\n",
    "    \"cuda:1\"\n",
    "    if torch.cuda.is_available()\n",
    "    else \"mps:0\"\n",
    "    if torch.backends.mps.is_available()\n",
    "    else \"cpu\"\n",
    ")\n",
    "model = ControlModel(model, list(range(1,28)))\n",
    "settings = {\n",
    "    \"pad_token_id\": tokenizer.pad_token_id,  # use pad id for proper masking/counting\n",
    "    \"do_sample\": False,  # temperature=0\n",
    "    \"max_new_tokens\": 2048,\n",
    "    \"early_stopping\": True,\n",
    "    # \"repetition_penalty\": 1.1,  # reduce control jank\n",
    "}\n",
    "loaded_vector = ControlVector.import_gguf(\"execution_avg_vector.gguf\")\n",
    "model.set_control(loaded_vector, 0)"
   ]
  },
  {
   "cell_type": "code",
   "execution_count": null,
   "id": "96064f70-32c9-4549-bc69-038b980df6e0",
   "metadata": {},
   "outputs": [],
   "source": [
    "# 一次性batch生成\n",
    "batch_size = 64\n",
    "batch_inputs = tokenizer(\n",
    "    examples[:batch_size],\n",
    "    return_tensors=\"pt\",\n",
    "    padding=True,\n",
    ")\n",
    "batch_inputs = {k: v.to(model.device) for k, v in batch_inputs.items()}\n",
    "\n",
    "time1 = time.time()\n",
    "outputs = model.generate(**batch_inputs, **settings)\n",
    "time2 = time.time()\n",
    "\n",
    "# 统计生成token数（逐样本：非pad长度 - 输入有效长度）\n",
    "with torch.no_grad():\n",
    "    input_lengths = batch_inputs[\"attention_mask\"].sum(dim=1)\n",
    "    pad_id = settings.get(\"pad_token_id\", tokenizer.pad_token_id if tokenizer.pad_token_id is not None else -100)\n",
    "    non_pad_lengths = (outputs != pad_id).long().sum(dim=1)\n",
    "    generated_per_sample = (non_pad_lengths - input_lengths).clamp(min=0)\n",
    "    total_output_tokens = int(generated_per_sample.sum().item())\n",
    "\n",
    "print(total_output_tokens)\n",
    "print(f\"{(time2 - time1)/batch_size:.8f}s/req\")\n",
    "toks_per_sec = total_output_tokens / (time2 - time1) if time2 - time1 > 0 else 0\n",
    "print(f\"output toks/s: {toks_per_sec:.2f}\")\n",
    "# print(tokenizer.decode(outputs[0].squeeze()))\n",
    "\n"
   ]
  }
 ],
 "metadata": {
  "kernelspec": {
   "display_name": "Python 3 (ipykernel)",
   "language": "python",
   "name": "python3"
  },
  "language_info": {
   "codemirror_mode": {
    "name": "ipython",
    "version": 3
   },
   "file_extension": ".py",
   "mimetype": "text/x-python",
   "name": "python",
   "nbconvert_exporter": "python",
   "pygments_lexer": "ipython3",
   "version": "3.10.18"
  }
 },
 "nbformat": 4,
 "nbformat_minor": 5
}
