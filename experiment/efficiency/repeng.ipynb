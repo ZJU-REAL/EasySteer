{
 "cells": [
  {
   "cell_type": "code",
   "execution_count": null,
   "id": "b9d8118b-e98f-405b-9e78-24206f9a062a",
   "metadata": {},
   "outputs": [],
   "source": [
    "import json\n",
    "file_path = \"/home/xhl/eval/my_eval/data/math/train.jsonl\"\n",
    "\n",
    "problems = []\n",
    "answers = []\n",
    "\n",
    "with open(file_path, \"r\", encoding=\"utf-8\") as f:\n",
    "    for line in f:\n",
    "        item = json.loads(line)\n",
    "        problems.append(item[\"problem\"])\n",
    "        answers.append(item[\"answer\"])\n",
    "examples = [\"Please reason step by step, and put your final answer within \\\\boxed{}.\\nUser: \" + prompt + \"\\nAssistant: <think>\" for prompt in problems]"
   ]
  },
  {
   "cell_type": "code",
   "execution_count": null,
   "id": "77a3c4e2-e6f9-4911-980d-f0bec5fce0f1",
   "metadata": {},
   "outputs": [],
   "source": [
    "import json\n",
    "import torch\n",
    "from transformers import AutoModelForCausalLM, AutoTokenizer\n",
    "from repeng import ControlVector, ControlModel, DatasetEntry\n",
    "import time\n",
    "\n",
    "model_name = \"/data/zju-46/shenyl/hf/model/deepseek-ai/DeepSeek-R1-Distill-Qwen-1.5B/\"\n",
    "\n",
    "tokenizer = AutoTokenizer.from_pretrained(model_name)\n",
    "tokenizer.pad_token_id = 0\n",
    "\n",
    "model = AutoModelForCausalLM.from_pretrained(model_name)\n",
    "print(model)\n",
    "model = model.to(\n",
    "    \"cuda:1\"\n",
    "    if torch.cuda.is_available()\n",
    "    else \"mps:0\"\n",
    "    if torch.backends.mps.is_available()\n",
    "    else \"cpu\"\n",
    ")\n",
    "model = ControlModel(model, list(range(1,28)))\n",
    "settings = {\n",
    "    \"pad_token_id\": tokenizer.eos_token_id,  # silence warning\n",
    "    \"do_sample\": False,  # temperature=0\n",
    "    \"max_new_tokens\": 2048,\n",
    "    \"early_stopping\": True,\n",
    "    # \"repetition_penalty\": 1.1,  # reduce control jank\n",
    "}\n",
    "loaded_vector = ControlVector.import_gguf(\"execution_avg_vector.gguf\")\n",
    "model.set_control(loaded_vector, 0)"
   ]
  },
  {
   "cell_type": "code",
   "execution_count": null,
   "id": "67f4bc23-6198-4781-8d61-0e8454301cc4",
   "metadata": {},
   "outputs": [],
   "source": [
    "inputs = []\n",
    "total_output_tokens=0\n",
    "for i in range(10):\n",
    "    input_ids = tokenizer(examples[i], return_tensors=\"pt\").to(model.device)\n",
    "    inputs.append(input_ids)\n",
    "time1 = time.time()\n",
    "for i in range(10):\n",
    "    output = model.generate(**inputs[i], **settings)\n",
    "    total_output_tokens += len(output.squeeze())-len(inputs[i][0])\n",
    "time2 = time.time()\n",
    "print(total_output_tokens)\n",
    "print(f\"{(time2 - time1)/10:.8f}s/req\")\n",
    "toks_per_sec = total_output_tokens / (time2 - time1) if time2 - time1 > 0 else 0\n",
    "print(f\"output toks/s: {toks_per_sec:.2f}\")\n",
    "# print(tokenizer.decode(output.squeeze()))"
   ]
  },
  {
   "cell_type": "code",
   "execution_count": null,
   "id": "7336bf1d-0936-49bb-a855-b6c3523e6436",
   "metadata": {},
   "outputs": [],
   "source": []
  }
 ],
 "metadata": {
  "kernelspec": {
   "display_name": "Python 3 (ipykernel)",
   "language": "python",
   "name": "python3"
  },
  "language_info": {
   "codemirror_mode": {
    "name": "ipython",
    "version": 3
   },
   "file_extension": ".py",
   "mimetype": "text/x-python",
   "name": "python",
   "nbconvert_exporter": "python",
   "pygments_lexer": "ipython3",
   "version": "3.10.18"
  }
 },
 "nbformat": 4,
 "nbformat_minor": 5
}
